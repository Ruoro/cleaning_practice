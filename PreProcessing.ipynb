{
  "nbformat": 4,
  "nbformat_minor": 0,
  "metadata": {
    "colab": {
      "name": "PreProcessing.ipynb",
      "provenance": [],
      "collapsed_sections": [],
      "authorship_tag": "ABX9TyOZIhfiFTeOAvBSYFC8ehaA",
      "include_colab_link": true
    },
    "kernelspec": {
      "name": "python3",
      "display_name": "Python 3"
    },
    "language_info": {
      "name": "python"
    },
    "accelerator": "TPU"
  },
  "cells": [
    {
      "cell_type": "markdown",
      "metadata": {
        "id": "view-in-github",
        "colab_type": "text"
      },
      "source": [
        "<a href=\"https://colab.research.google.com/github/Ruoro/cleaning_practice/blob/main/PreProcessing.ipynb\" target=\"_parent\"><img src=\"https://colab.research.google.com/assets/colab-badge.svg\" alt=\"Open In Colab\"/></a>"
      ]
    },
    {
      "cell_type": "markdown",
      "metadata": {
        "id": "PpblJLQZxoge"
      },
      "source": [
        "# Import the libraries."
      ]
    },
    {
      "cell_type": "code",
      "metadata": {
        "id": "BvughBe2rKNV"
      },
      "source": [
        "import pandas as pd\n",
        "import numpy as np\n",
        "import re\n",
        "import string\n",
        "\n",
        "## methods and stopwords preprocessing libraries\n",
        "from nltk.corpus import stopwords\n",
        "from nltk.tokenize import word_tokenize\n",
        "from nltk.stem import PorterStemmer\n",
        "from nltk.stem import WordNetLemmatizer\n",
        "from sklearn.feature_extraction.text import TfidfVectorizer\n",
        "from sklearn.model_selection import train_test_split\n",
        "\n",
        "from sklearn.metrics import accuracy_score\n",
        "from sklearn.naive_bayes import MultinomialNB\n",
        "from sklearn.linear_model import LogisticRegression\n",
        "from sklearn.svm import SVC\n",
        "\n",
        "import warnings \n",
        "warnings.filterwarnings(\"ignore\")"
      ],
      "execution_count": null,
      "outputs": []
    },
    {
      "cell_type": "markdown",
      "metadata": {
        "id": "stXX-1MbzDPP"
      },
      "source": [
        "## downlead a stopword set"
      ]
    },
    {
      "cell_type": "code",
      "metadata": {
        "colab": {
          "base_uri": "https://localhost:8080/"
        },
        "id": "Iur9nzJKzAQu",
        "outputId": "6cf16e03-82c2-42ed-cf0b-a6a849b8788e"
      },
      "source": [
        "import nltk \n",
        "nltk.download('stopwords')\n",
        "nltk.download('punkt')\n",
        "nltk.download('wordnet')\n",
        "stop_words = set(stopwords.words('english'))\n"
      ],
      "execution_count": null,
      "outputs": [
        {
          "output_type": "stream",
          "text": [
            "[nltk_data] Downloading package stopwords to /root/nltk_data...\n",
            "[nltk_data]   Package stopwords is already up-to-date!\n",
            "[nltk_data] Downloading package punkt to /root/nltk_data...\n",
            "[nltk_data]   Package punkt is already up-to-date!\n",
            "[nltk_data] Downloading package wordnet to /root/nltk_data...\n",
            "[nltk_data]   Package wordnet is already up-to-date!\n"
          ],
          "name": "stdout"
        }
      ]
    },
    {
      "cell_type": "markdown",
      "metadata": {
        "id": "h1vxueZ_zgVW"
      },
      "source": [
        "# Load data "
      ]
    },
    {
      "cell_type": "code",
      "metadata": {
        "id": "NlzVvVX4zTRT"
      },
      "source": [
        "df = pd.read_csv('/content/MentalHealth.new.csv')"
      ],
      "execution_count": null,
      "outputs": []
    },
    {
      "cell_type": "code",
      "metadata": {
        "colab": {
          "base_uri": "https://localhost:8080/",
          "height": 486
        },
        "id": "D3ZPVEy3zTX8",
        "outputId": "92e6ddcf-5567-4793-a241-76e0b6cd6cfc"
      },
      "source": [
        "# preview Data\n",
        "df.head()"
      ],
      "execution_count": null,
      "outputs": [
        {
          "output_type": "execute_result",
          "data": {
            "text/html": [
              "<div>\n",
              "<style scoped>\n",
              "    .dataframe tbody tr th:only-of-type {\n",
              "        vertical-align: middle;\n",
              "    }\n",
              "\n",
              "    .dataframe tbody tr th {\n",
              "        vertical-align: top;\n",
              "    }\n",
              "\n",
              "    .dataframe thead th {\n",
              "        text-align: right;\n",
              "    }\n",
              "</style>\n",
              "<table border=\"1\" class=\"dataframe\">\n",
              "  <thead>\n",
              "    <tr style=\"text-align: right;\">\n",
              "      <th></th>\n",
              "      <th>Unnamed: 0</th>\n",
              "      <th>Unnamed: 0.1</th>\n",
              "      <th>user</th>\n",
              "      <th>tweet</th>\n",
              "      <th>location</th>\n",
              "      <th>description</th>\n",
              "      <th>friends_count</th>\n",
              "      <th>followers_count</th>\n",
              "      <th>statuses_count</th>\n",
              "      <th>created_at</th>\n",
              "      <th>retweet_count</th>\n",
              "      <th>hashtags</th>\n",
              "      <th>disorder</th>\n",
              "    </tr>\n",
              "  </thead>\n",
              "  <tbody>\n",
              "    <tr>\n",
              "      <th>0</th>\n",
              "      <td>0</td>\n",
              "      <td>0</td>\n",
              "      <td>TheKenyanPost</td>\n",
              "      <td>SHOCK as a young man climbs on top of a hospit...</td>\n",
              "      <td>Nairobi, Kenya</td>\n",
              "      <td>News, Politics, Entertainment, Gossip, Feature...</td>\n",
              "      <td>434</td>\n",
              "      <td>52951</td>\n",
              "      <td>356584</td>\n",
              "      <td>2021-08-17 10:33:55</td>\n",
              "      <td>0</td>\n",
              "      <td>[]</td>\n",
              "      <td>depression</td>\n",
              "    </tr>\n",
              "    <tr>\n",
              "      <th>1</th>\n",
              "      <td>1</td>\n",
              "      <td>1</td>\n",
              "      <td>Goodguy_254</td>\n",
              "      <td>People tend to hide depression under drinking ...</td>\n",
              "      <td>Nairobi, Kenya</td>\n",
              "      <td>poet\\n writer🧾\\nsoftware developer🖥️\\n program...</td>\n",
              "      <td>2074</td>\n",
              "      <td>2257</td>\n",
              "      <td>1284</td>\n",
              "      <td>2021-08-17 10:20:30</td>\n",
              "      <td>0</td>\n",
              "      <td>[]</td>\n",
              "      <td>depression</td>\n",
              "    </tr>\n",
              "    <tr>\n",
              "      <th>2</th>\n",
              "      <td>2</td>\n",
              "      <td>2</td>\n",
              "      <td>AlfredLete</td>\n",
              "      <td>@Lily_nganga Depression</td>\n",
              "      <td>Nairobi</td>\n",
              "      <td>do what is right,not what is easy</td>\n",
              "      <td>8515</td>\n",
              "      <td>13075</td>\n",
              "      <td>37974</td>\n",
              "      <td>2021-08-17 09:32:49</td>\n",
              "      <td>0</td>\n",
              "      <td>[]</td>\n",
              "      <td>depression</td>\n",
              "    </tr>\n",
              "    <tr>\n",
              "      <th>3</th>\n",
              "      <td>3</td>\n",
              "      <td>3</td>\n",
              "      <td>GeraldNgaoPk7</td>\n",
              "      <td>Itumbi has subjected bloggers in to depression...</td>\n",
              "      <td>Nairobi, Kenya</td>\n",
              "      <td>Pan-Africanist||NeoMarxistRevolutionary||Inter...</td>\n",
              "      <td>21503</td>\n",
              "      <td>20437</td>\n",
              "      <td>164694</td>\n",
              "      <td>2021-08-17 08:56:26</td>\n",
              "      <td>2</td>\n",
              "      <td>[{'text': 'ItumbiGhostWorkers', 'indices': [77...</td>\n",
              "      <td>depression</td>\n",
              "    </tr>\n",
              "    <tr>\n",
              "      <th>4</th>\n",
              "      <td>4</td>\n",
              "      <td>4</td>\n",
              "      <td>swyma304</td>\n",
              "      <td>Mental health isn’t just anxiety &amp;amp; depress...</td>\n",
              "      <td>Nairobi, Kenya</td>\n",
              "      <td>Psychiatry Resident. Certified Cognitive Behav...</td>\n",
              "      <td>93</td>\n",
              "      <td>206</td>\n",
              "      <td>594</td>\n",
              "      <td>2021-08-17 08:18:20</td>\n",
              "      <td>1</td>\n",
              "      <td>[]</td>\n",
              "      <td>depression</td>\n",
              "    </tr>\n",
              "  </tbody>\n",
              "</table>\n",
              "</div>"
            ],
            "text/plain": [
              "   Unnamed: 0  ...    disorder\n",
              "0           0  ...  depression\n",
              "1           1  ...  depression\n",
              "2           2  ...  depression\n",
              "3           3  ...  depression\n",
              "4           4  ...  depression\n",
              "\n",
              "[5 rows x 13 columns]"
            ]
          },
          "metadata": {},
          "execution_count": 93
        }
      ]
    },
    {
      "cell_type": "markdown",
      "metadata": {
        "id": "rIpbwyhIz8iz"
      },
      "source": [
        "Remain with only the relevant columns\n"
      ]
    },
    {
      "cell_type": "code",
      "metadata": {
        "colab": {
          "base_uri": "https://localhost:8080/",
          "height": 206
        },
        "id": "NZqOgGX1zTbg",
        "outputId": "210cc25e-ee3e-481a-b94e-b8a54dc97cb4"
      },
      "source": [
        "# relevant columns are the tweet and disorder columns\n",
        "df = df[['tweet', 'disorder']]\n",
        "df.head()"
      ],
      "execution_count": null,
      "outputs": [
        {
          "output_type": "execute_result",
          "data": {
            "text/html": [
              "<div>\n",
              "<style scoped>\n",
              "    .dataframe tbody tr th:only-of-type {\n",
              "        vertical-align: middle;\n",
              "    }\n",
              "\n",
              "    .dataframe tbody tr th {\n",
              "        vertical-align: top;\n",
              "    }\n",
              "\n",
              "    .dataframe thead th {\n",
              "        text-align: right;\n",
              "    }\n",
              "</style>\n",
              "<table border=\"1\" class=\"dataframe\">\n",
              "  <thead>\n",
              "    <tr style=\"text-align: right;\">\n",
              "      <th></th>\n",
              "      <th>tweet</th>\n",
              "      <th>disorder</th>\n",
              "    </tr>\n",
              "  </thead>\n",
              "  <tbody>\n",
              "    <tr>\n",
              "      <th>0</th>\n",
              "      <td>SHOCK as a young man climbs on top of a hospit...</td>\n",
              "      <td>depression</td>\n",
              "    </tr>\n",
              "    <tr>\n",
              "      <th>1</th>\n",
              "      <td>People tend to hide depression under drinking ...</td>\n",
              "      <td>depression</td>\n",
              "    </tr>\n",
              "    <tr>\n",
              "      <th>2</th>\n",
              "      <td>@Lily_nganga Depression</td>\n",
              "      <td>depression</td>\n",
              "    </tr>\n",
              "    <tr>\n",
              "      <th>3</th>\n",
              "      <td>Itumbi has subjected bloggers in to depression...</td>\n",
              "      <td>depression</td>\n",
              "    </tr>\n",
              "    <tr>\n",
              "      <th>4</th>\n",
              "      <td>Mental health isn’t just anxiety &amp;amp; depress...</td>\n",
              "      <td>depression</td>\n",
              "    </tr>\n",
              "  </tbody>\n",
              "</table>\n",
              "</div>"
            ],
            "text/plain": [
              "                                               tweet    disorder\n",
              "0  SHOCK as a young man climbs on top of a hospit...  depression\n",
              "1  People tend to hide depression under drinking ...  depression\n",
              "2                            @Lily_nganga Depression  depression\n",
              "3  Itumbi has subjected bloggers in to depression...  depression\n",
              "4  Mental health isn’t just anxiety &amp; depress...  depression"
            ]
          },
          "metadata": {},
          "execution_count": 94
        }
      ]
    },
    {
      "cell_type": "markdown",
      "metadata": {
        "id": "UBM5u6SP4Bei"
      },
      "source": [
        "## creating a test sample from the data"
      ]
    },
    {
      "cell_type": "code",
      "metadata": {
        "colab": {
          "base_uri": "https://localhost:8080/"
        },
        "id": "A5NTmnIL2sRj",
        "outputId": "9b2b136b-13c6-4dc7-b8d9-123816e7ecef"
      },
      "source": [
        "# crerating a test sample\n",
        "\n",
        "test_df = df.sample(70)\n",
        "print(\"initial df size : \", df.shape)\n",
        "df.drop(test_df.index, inplace=True)\n",
        "print(\"Train df size : \", df.shape)\n"
      ],
      "execution_count": null,
      "outputs": [
        {
          "output_type": "stream",
          "text": [
            "initial df size :  (742, 2)\n",
            "Train df size :  (672, 2)\n"
          ],
          "name": "stdout"
        }
      ]
    },
    {
      "cell_type": "markdown",
      "metadata": {
        "id": "mNo3cHgP4HZW"
      },
      "source": [
        "## Functions to preprocess the data"
      ]
    },
    {
      "cell_type": "markdown",
      "metadata": {
        "id": "ZNA6bfrL4LpN"
      },
      "source": [
        "- lemmatizing\n",
        "- stemming\n",
        "- to lowercase\n",
        "- remove punctuation\n",
        "\n"
      ]
    },
    {
      "cell_type": "code",
      "metadata": {
        "id": "WxUXh6_70PV5"
      },
      "source": [
        "def preprocessing_task (tweet):\n",
        "  #convert to lower case\n",
        "  tweet = tweet.lower()\n",
        "  # remove any urls\n",
        "  tweet = re.sub(r'http\\S+|www\\S+|https\\S+', \"\", tweet, flags = re.MULTILINE)\n",
        "  \n",
        "  # Remove @ references and # from tweet\n",
        "  tweet = re.sub(r\"\\@\\w+|\\#\", \"\", tweet)\n",
        "\n",
        "  # remove punctuation\n",
        "  tweet = tweet.translate(str.maketrans(\"\", \"\", string.punctuation))\n",
        "\n",
        "  #remove stopwords\n",
        "  tweet_token = word_tokenize(tweet)\n",
        "  filtered_words = [word for word in tweet_token if word not in stop_words]\n",
        "\n",
        "  # Stemming the words\n",
        "  ps = PorterStemmer()\n",
        "  stemmed_words = [ps.stem(w) for w in filtered_words]\n",
        "\n",
        "  # lematizing\n",
        "  lemmatizer = WordNetLemmatizer()\n",
        "  lema_words = [lemmatizer.lemmatize(w, pos = \"a\") for w in stemmed_words]\n",
        "\n",
        "  return \" \". join(lema_words)\n",
        "\n",
        "# Define function to remove emojis from the tweets\n",
        "def remove_emoji(string):\n",
        "    emoji_pattern = re.compile(\"[\"\n",
        "                           u\"\\U0001F600-\\U0001F64F\"  # emoticons\n",
        "                           u\"\\U0001F300-\\U0001F5FF\"  # symbols & pictographs\n",
        "                           u\"\\U0001F680-\\U0001F6FF\"  # transport & map symbols\n",
        "                           u\"\\U0001F1E0-\\U0001F1FF\"  # flags (iOS)\n",
        "                           u\"\\U00002702-\\U000027B0\"\n",
        "                           u\"\\U000024C2-\\U0001F251\"\n",
        "                           \"]+\", flags=re.UNICODE)\n",
        "    return emoji_pattern.sub(r'', string)\n"
      ],
      "execution_count": null,
      "outputs": []
    },
    {
      "cell_type": "code",
      "metadata": {
        "colab": {
          "base_uri": "https://localhost:8080/",
          "height": 206
        },
        "id": "IxYZAS7zGfhI",
        "outputId": "f3a840ba-b3e2-4e16-9c1e-421f1f461fd6"
      },
      "source": [
        "def finish(string):\n",
        "    return preprocessing_task(remove_emoji(string))\n",
        "\n",
        "df['clean_text'] = df['tweet'].apply(lambda x: finish(x))\n",
        "df.head()"
      ],
      "execution_count": null,
      "outputs": [
        {
          "output_type": "execute_result",
          "data": {
            "text/html": [
              "<div>\n",
              "<style scoped>\n",
              "    .dataframe tbody tr th:only-of-type {\n",
              "        vertical-align: middle;\n",
              "    }\n",
              "\n",
              "    .dataframe tbody tr th {\n",
              "        vertical-align: top;\n",
              "    }\n",
              "\n",
              "    .dataframe thead th {\n",
              "        text-align: right;\n",
              "    }\n",
              "</style>\n",
              "<table border=\"1\" class=\"dataframe\">\n",
              "  <thead>\n",
              "    <tr style=\"text-align: right;\">\n",
              "      <th></th>\n",
              "      <th>tweet</th>\n",
              "      <th>disorder</th>\n",
              "      <th>clean_text</th>\n",
              "    </tr>\n",
              "  </thead>\n",
              "  <tbody>\n",
              "    <tr>\n",
              "      <th>0</th>\n",
              "      <td>SHOCK as a young man climbs on top of a hospit...</td>\n",
              "      <td>depression</td>\n",
              "      <td>shock young man climb top hospit build kahawa ...</td>\n",
              "    </tr>\n",
              "    <tr>\n",
              "      <th>1</th>\n",
              "      <td>People tend to hide depression under drinking ...</td>\n",
              "      <td>depression</td>\n",
              "      <td>peopl tend hide depress drink drug take time f...</td>\n",
              "    </tr>\n",
              "    <tr>\n",
              "      <th>2</th>\n",
              "      <td>@Lily_nganga Depression</td>\n",
              "      <td>depression</td>\n",
              "      <td>depress</td>\n",
              "    </tr>\n",
              "    <tr>\n",
              "      <th>3</th>\n",
              "      <td>Itumbi has subjected bloggers in to depression...</td>\n",
              "      <td>depression</td>\n",
              "      <td>itumbi subject blogger depress ought behind ba...</td>\n",
              "    </tr>\n",
              "    <tr>\n",
              "      <th>4</th>\n",
              "      <td>Mental health isn’t just anxiety &amp;amp; depress...</td>\n",
              "      <td>depression</td>\n",
              "      <td>mental health ’ anxieti amp depress ’ nag head...</td>\n",
              "    </tr>\n",
              "  </tbody>\n",
              "</table>\n",
              "</div>"
            ],
            "text/plain": [
              "                                               tweet  ...                                         clean_text\n",
              "0  SHOCK as a young man climbs on top of a hospit...  ...  shock young man climb top hospit build kahawa ...\n",
              "1  People tend to hide depression under drinking ...  ...  peopl tend hide depress drink drug take time f...\n",
              "2                            @Lily_nganga Depression  ...                                            depress\n",
              "3  Itumbi has subjected bloggers in to depression...  ...  itumbi subject blogger depress ought behind ba...\n",
              "4  Mental health isn’t just anxiety &amp; depress...  ...  mental health ’ anxieti amp depress ’ nag head...\n",
              "\n",
              "[5 rows x 3 columns]"
            ]
          },
          "metadata": {},
          "execution_count": 97
        }
      ]
    },
    {
      "cell_type": "code",
      "metadata": {
        "colab": {
          "base_uri": "https://localhost:8080/"
        },
        "id": "xnn9-aa8Cbr7",
        "outputId": "2c157221-f9d4-49b3-ed98-579bee27f183"
      },
      "source": [
        "# Convert to list in order to preprocessing\n",
        "x = df.clean_text.to_list()\n",
        "x[:5]"
      ],
      "execution_count": null,
      "outputs": [
        {
          "output_type": "execute_result",
          "data": {
            "text/plain": [
              "['shock young man climb top hospit build kahawa wendani threaten commit suicid – depre…',\n",
              " 'peopl tend hide depress drink drug take time find one talk',\n",
              " 'depress',\n",
              " 'itumbi subject blogger depress ought behind bar itumbighostwork',\n",
              " 'mental health ’ anxieti amp depress ’ nag headach due ongo frustrat sharp p…']"
            ]
          },
          "metadata": {},
          "execution_count": 98
        }
      ]
    },
    {
      "cell_type": "code",
      "metadata": {
        "colab": {
          "base_uri": "https://localhost:8080/"
        },
        "id": "lj9-XaHfrIc3",
        "outputId": "61dd0ee9-ba25-4c06-cfbb-bb8d808c25ca"
      },
      "source": [
        "df.isna().sum()"
      ],
      "execution_count": null,
      "outputs": [
        {
          "output_type": "execute_result",
          "data": {
            "text/plain": [
              "tweet         0\n",
              "disorder      0\n",
              "clean_text    0\n",
              "dtype: int64"
            ]
          },
          "metadata": {},
          "execution_count": 99
        }
      ]
    },
    {
      "cell_type": "code",
      "metadata": {
        "colab": {
          "base_uri": "https://localhost:8080/"
        },
        "id": "_rInKLC38Dfu",
        "outputId": "467893a5-f5dc-4010-920f-480623a7aefe"
      },
      "source": [
        "df.disorder.value_counts()"
      ],
      "execution_count": null,
      "outputs": [
        {
          "output_type": "execute_result",
          "data": {
            "text/plain": [
              "depression       328\n",
              "anxiety          248\n",
              "suicidal          50\n",
              "bipolar           16\n",
              "schizophrenia     12\n",
              "dementia          10\n",
              "paranoia           8\n",
              "Name: disorder, dtype: int64"
            ]
          },
          "metadata": {},
          "execution_count": 100
        }
      ]
    },
    {
      "cell_type": "code",
      "metadata": {
        "colab": {
          "base_uri": "https://localhost:8080/"
        },
        "id": "KDVNi8Ey73vH",
        "outputId": "abcc79df-875a-440d-8945-7e46c7cf7929"
      },
      "source": [
        "from sklearn.preprocessing import LabelEncoder\n",
        "\n",
        "le = LabelEncoder()\n",
        "\n",
        "df.disorder = le.fit_transform(df.disorder)\n",
        "\n",
        "df.disorder.value_counts()"
      ],
      "execution_count": null,
      "outputs": [
        {
          "output_type": "execute_result",
          "data": {
            "text/plain": [
              "3    328\n",
              "0    248\n",
              "6     50\n",
              "1     16\n",
              "5     12\n",
              "2     10\n",
              "4      8\n",
              "Name: disorder, dtype: int64"
            ]
          },
          "metadata": {},
          "execution_count": 101
        }
      ]
    },
    {
      "cell_type": "code",
      "metadata": {
        "colab": {
          "base_uri": "https://localhost:8080/"
        },
        "id": "HX7VDEyu8VcM",
        "outputId": "ba5f7330-fbc9-45df-f316-719f2a77e88f"
      },
      "source": [
        "illness =  {'depression' : 3,\n",
        "         'anxiety': 0 , \n",
        "         'suicidal': 6, \n",
        "         'schizophrenia' : 5,\n",
        "         'bipolar' : 1,\n",
        "         'dimentia': 2,\n",
        "         'paranoia': 4}\n",
        "illness"
      ],
      "execution_count": null,
      "outputs": [
        {
          "output_type": "execute_result",
          "data": {
            "text/plain": [
              "{'anxiety': 0,\n",
              " 'bipolar': 1,\n",
              " 'depression': 3,\n",
              " 'dimentia': 2,\n",
              " 'paranoia': 4,\n",
              " 'schizophrenia': 5,\n",
              " 'suicidal': 6}"
            ]
          },
          "metadata": {},
          "execution_count": 102
        }
      ]
    },
    {
      "cell_type": "markdown",
      "metadata": {
        "id": "jhqVKp644e9O"
      },
      "source": [
        "## Augmenting the text to get more data for testing our models\n"
      ]
    },
    {
      "cell_type": "code",
      "metadata": {
        "id": "K95S83jb1pdr"
      },
      "source": [
        "%%capture\n",
        "!pip install nlpaug\n",
        "!pip install transformers"
      ],
      "execution_count": null,
      "outputs": []
    },
    {
      "cell_type": "code",
      "metadata": {
        "id": "JMyVGEpH1pbK"
      },
      "source": [
        "# Augmentation Libraries\n",
        "import nlpaug.augmenter.char as nac\n",
        "import nlpaug.augmenter.word as naw\n",
        "import nlpaug.augmenter.sentence as nas\n",
        "import nlpaug.flow as naf\n",
        "from tqdm import tqdm\n",
        "from sklearn.utils import shuffle\n",
        "\n",
        "from nlpaug.util import Action"
      ],
      "execution_count": null,
      "outputs": []
    },
    {
      "cell_type": "code",
      "metadata": {
        "colab": {
          "base_uri": "https://localhost:8080/"
        },
        "id": "S5JL74ro1pYu",
        "outputId": "74200576-a3d7-436f-ff56-b33cfc6dc578"
      },
      "source": [
        "#Split the train and test data\n",
        "from sklearn.model_selection import train_test_split\n",
        "train,valid=train_test_split(df,test_size=0.20 , stratify = df['disorder'])\n",
        "train.shape, valid.shape"
      ],
      "execution_count": null,
      "outputs": [
        {
          "output_type": "execute_result",
          "data": {
            "text/plain": [
              "((537, 3), (135, 3))"
            ]
          },
          "metadata": {},
          "execution_count": 105
        }
      ]
    },
    {
      "cell_type": "code",
      "metadata": {
        "colab": {
          "base_uri": "https://localhost:8080/"
        },
        "id": "izIKVmZC1pWY",
        "outputId": "b97a5804-434c-4036-9e7f-96ffc0ac4f75"
      },
      "source": [
        "# Check the number of each disorder\n",
        "train['disorder'].value_counts()"
      ],
      "execution_count": null,
      "outputs": [
        {
          "output_type": "execute_result",
          "data": {
            "text/plain": [
              "3    262\n",
              "0    198\n",
              "6     40\n",
              "1     13\n",
              "5     10\n",
              "2      8\n",
              "4      6\n",
              "Name: disorder, dtype: int64"
            ]
          },
          "metadata": {},
          "execution_count": 106
        }
      ]
    },
    {
      "cell_type": "code",
      "metadata": {
        "id": "vkOLGHkW7tOL"
      },
      "source": [
        ""
      ],
      "execution_count": null,
      "outputs": []
    },
    {
      "cell_type": "code",
      "metadata": {
        "colab": {
          "base_uri": "https://localhost:8080/",
          "height": 35
        },
        "id": "lP2495yy1pTb",
        "outputId": "4cd6432f-7b6d-4d77-fc7f-91bcbef0e329"
      },
      "source": [
        "text = train.iloc[0]['tweet']\n",
        "text"
      ],
      "execution_count": null,
      "outputs": [
        {
          "output_type": "execute_result",
          "data": {
            "application/vnd.google.colaboratory.intrinsic+json": {
              "type": "string"
            },
            "text/plain": [
              "'#UPNEXT \\n@PhilTWorship tells his story: \\ngoing through divorce, depression, and how finding music in those low mome… https://t.co/PS1455slaY'"
            ]
          },
          "metadata": {},
          "execution_count": 107
        }
      ]
    },
    {
      "cell_type": "code",
      "metadata": {
        "colab": {
          "base_uri": "https://localhost:8080/"
        },
        "id": "7h3yhnlx1pQ6",
        "outputId": "44ccade6-779d-4e1f-b696-e6b24c6b0d22"
      },
      "source": [
        "# ContextualWordEmbsAug : Augmenter that apply operation (word level) to textual input based on contextual word embeddings.\n",
        "\n",
        "aug = naw.ContextualWordEmbsAug(\n",
        "    model_path='bert-base-uncased', action=\"insert\")\n",
        "augmented_text = aug.augment(text)\n",
        "\n",
        "\n",
        "print('Original text \\n',text,'\\n Augmented text\\n', augmented_text)\n"
      ],
      "execution_count": null,
      "outputs": [
        {
          "output_type": "stream",
          "text": [
            "Original text \n",
            " #UPNEXT \n",
            "@PhilTWorship tells his story: \n",
            "going through divorce, depression, and how finding music in those low mome… https://t.co/PS1455slaY \n",
            " Augmented text\n",
            " # upnext @ philtworship tells his internal story : going fresh through no divorce, raging depression, and the how finding music art in mastering those low quality mome … https : / / t.'co / 2011 ps1455slay\n"
          ],
          "name": "stdout"
        }
      ]
    },
    {
      "cell_type": "code",
      "metadata": {
        "id": "4PavpUzA2gSR"
      },
      "source": [
        "# Creating a copy of  the dataset\n",
        "df1 = df.copy(deep=True)"
      ],
      "execution_count": null,
      "outputs": []
    },
    {
      "cell_type": "code",
      "metadata": {
        "colab": {
          "base_uri": "https://localhost:8080/",
          "height": 275
        },
        "id": "PagSA7L_2gPE",
        "outputId": "07a263b4-9a13-4f0d-d382-07a1bf53005a"
      },
      "source": [
        "import numpy as np\n",
        "#For anxiety, class = 0,\n",
        "\n",
        "# Creating augmented text data to increase our training dataset by 78 entries\n",
        "\n",
        "def augment_text(df1,samples=78,pr=0.2):   \n",
        "    aug.aug_p=pr\n",
        "    new_text=[]\n",
        "    \n",
        "    #selecting the  class samples\n",
        "    df_n=df1[df1['disorder']==0].reset_index(drop=True)\n",
        "\n",
        "    ## data augmentation loop\n",
        "    for i in tqdm(np.random.randint(0,len(df_n),samples)):\n",
        "        \n",
        "            text = df_n.iloc[i]['tweet']\n",
        "            augmented_text = aug.augment(text)\n",
        "            new_text.append(augmented_text)\n",
        "    \n",
        "    \n",
        "    ## dataframe\n",
        "    new=pd.DataFrame({'tweet':new_text,'disorder':0})\n",
        "    df1=shuffle(df1.append(new).reset_index(drop=True))\n",
        "    return df1\n",
        "   \n",
        "train = augment_text(train)\n",
        "print(train.shape, '\\n\\n')\n",
        "train.head()"
      ],
      "execution_count": null,
      "outputs": [
        {
          "output_type": "stream",
          "text": [
            "100%|██████████| 78/78 [02:22<00:00,  1.82s/it]"
          ],
          "name": "stderr"
        },
        {
          "output_type": "stream",
          "text": [
            "(615, 3) \n",
            "\n",
            "\n"
          ],
          "name": "stdout"
        },
        {
          "output_type": "stream",
          "text": [
            "\n"
          ],
          "name": "stderr"
        },
        {
          "output_type": "execute_result",
          "data": {
            "text/html": [
              "<div>\n",
              "<style scoped>\n",
              "    .dataframe tbody tr th:only-of-type {\n",
              "        vertical-align: middle;\n",
              "    }\n",
              "\n",
              "    .dataframe tbody tr th {\n",
              "        vertical-align: top;\n",
              "    }\n",
              "\n",
              "    .dataframe thead th {\n",
              "        text-align: right;\n",
              "    }\n",
              "</style>\n",
              "<table border=\"1\" class=\"dataframe\">\n",
              "  <thead>\n",
              "    <tr style=\"text-align: right;\">\n",
              "      <th></th>\n",
              "      <th>tweet</th>\n",
              "      <th>disorder</th>\n",
              "      <th>clean_text</th>\n",
              "    </tr>\n",
              "  </thead>\n",
              "  <tbody>\n",
              "    <tr>\n",
              "      <th>122</th>\n",
              "      <td>That story of \"Death by instalments\" people go...</td>\n",
              "      <td>3</td>\n",
              "      <td>stori death instal peopl go lot depress hide m...</td>\n",
              "    </tr>\n",
              "    <tr>\n",
              "      <th>329</th>\n",
              "      <td>7 warning signs to spot depression and anxiety...</td>\n",
              "      <td>3</td>\n",
              "      <td>7 warn sign spot depress anxieti workplac help...</td>\n",
              "    </tr>\n",
              "    <tr>\n",
              "      <th>216</th>\n",
              "      <td>Menopil Plus contains Black Cohosh and Red Clo...</td>\n",
              "      <td>0</td>\n",
              "      <td>menopil plu contain black cohosh red clover ex...</td>\n",
              "    </tr>\n",
              "    <tr>\n",
              "      <th>326</th>\n",
              "      <td>@mmnjug @NationAfrica Depression is worsened b...</td>\n",
              "      <td>3</td>\n",
              "      <td>depress worsen use drug dupe think youv found ...</td>\n",
              "    </tr>\n",
              "    <tr>\n",
              "      <th>49</th>\n",
              "      <td>@makaumutua Fighting Ruto is suicidal</td>\n",
              "      <td>6</td>\n",
              "      <td>fight ruto suicid</td>\n",
              "    </tr>\n",
              "  </tbody>\n",
              "</table>\n",
              "</div>"
            ],
            "text/plain": [
              "                                                 tweet  ...                                         clean_text\n",
              "122  That story of \"Death by instalments\" people go...  ...  stori death instal peopl go lot depress hide m...\n",
              "329  7 warning signs to spot depression and anxiety...  ...  7 warn sign spot depress anxieti workplac help...\n",
              "216  Menopil Plus contains Black Cohosh and Red Clo...  ...  menopil plu contain black cohosh red clover ex...\n",
              "326  @mmnjug @NationAfrica Depression is worsened b...  ...  depress worsen use drug dupe think youv found ...\n",
              "49               @makaumutua Fighting Ruto is suicidal  ...                                  fight ruto suicid\n",
              "\n",
              "[5 rows x 3 columns]"
            ]
          },
          "metadata": {},
          "execution_count": 110
        }
      ]
    },
    {
      "cell_type": "code",
      "metadata": {
        "colab": {
          "base_uri": "https://localhost:8080/",
          "height": 275
        },
        "id": "tKVHISt62gMT",
        "outputId": "ba692125-36e6-4f52-c83c-ae8d34bc8e3e"
      },
      "source": [
        "#Bipolar class = 1\n",
        "\n",
        "# Creating augmented text data to increase our training dataset by 289 entries\n",
        "\n",
        "def augment_text(df1,samples=289,pr=0.2):  \n",
        "    aug.aug_p=pr\n",
        "    new_text=[]\n",
        "    \n",
        "    #selecting the  class samples\n",
        "    df_n=df1[df1['disorder']== 1].reset_index(drop=True)\n",
        "\n",
        "    ## data augmentation loop\n",
        "    for i in tqdm(np.random.randint(0,len(df_n),samples)):\n",
        "        \n",
        "            text = df_n.iloc[i]['tweet']\n",
        "            augmented_text = aug.augment(text)\n",
        "            new_text.append(augmented_text)\n",
        "    \n",
        "    \n",
        "    ## dataframe\n",
        "    new=pd.DataFrame({'tweet':new_text,'disorder':1})\n",
        "    df1=shuffle(df1.append(new).reset_index(drop=True))\n",
        "    return df1\n",
        "   \n",
        "train = augment_text(train)\n",
        "print(train.shape, '\\n\\n')\n",
        "train.head()"
      ],
      "execution_count": null,
      "outputs": [
        {
          "output_type": "stream",
          "text": [
            "100%|██████████| 289/289 [08:30<00:00,  1.77s/it]"
          ],
          "name": "stderr"
        },
        {
          "output_type": "stream",
          "text": [
            "(904, 3) \n",
            "\n",
            "\n"
          ],
          "name": "stdout"
        },
        {
          "output_type": "stream",
          "text": [
            "\n"
          ],
          "name": "stderr"
        },
        {
          "output_type": "execute_result",
          "data": {
            "text/html": [
              "<div>\n",
              "<style scoped>\n",
              "    .dataframe tbody tr th:only-of-type {\n",
              "        vertical-align: middle;\n",
              "    }\n",
              "\n",
              "    .dataframe tbody tr th {\n",
              "        vertical-align: top;\n",
              "    }\n",
              "\n",
              "    .dataframe thead th {\n",
              "        text-align: right;\n",
              "    }\n",
              "</style>\n",
              "<table border=\"1\" class=\"dataframe\">\n",
              "  <thead>\n",
              "    <tr style=\"text-align: right;\">\n",
              "      <th></th>\n",
              "      <th>tweet</th>\n",
              "      <th>disorder</th>\n",
              "      <th>clean_text</th>\n",
              "    </tr>\n",
              "  </thead>\n",
              "  <tbody>\n",
              "    <tr>\n",
              "      <th>549</th>\n",
              "      <td>@WakabiBrian19 We have good counselors at man ...</td>\n",
              "      <td>3</td>\n",
              "      <td>good counselor man unit case depress</td>\n",
              "    </tr>\n",
              "    <tr>\n",
              "      <th>100</th>\n",
              "      <td>If you're genetically predisposed to schizophr...</td>\n",
              "      <td>5</td>\n",
              "      <td>your genet predispos schizophrenia weed may in...</td>\n",
              "    </tr>\n",
              "    <tr>\n",
              "      <th>239</th>\n",
              "      <td>* Changes in physical and emotional reactions;...</td>\n",
              "      <td>6</td>\n",
              "      <td>chang physic emot reaction easili frighten neg...</td>\n",
              "    </tr>\n",
              "    <tr>\n",
              "      <th>785</th>\n",
              "      <td>@ ke _ news skimpyy @ allak _ live weda @ yaho...</td>\n",
              "      <td>1</td>\n",
              "      <td>NaN</td>\n",
              "    </tr>\n",
              "    <tr>\n",
              "      <th>6</th>\n",
              "      <td>@ChiromoHospGrp @leujonson @benson_nduta @iank...</td>\n",
              "      <td>0</td>\n",
              "      <td>…</td>\n",
              "    </tr>\n",
              "  </tbody>\n",
              "</table>\n",
              "</div>"
            ],
            "text/plain": [
              "                                                 tweet  ...                                         clean_text\n",
              "549  @WakabiBrian19 We have good counselors at man ...  ...               good counselor man unit case depress\n",
              "100  If you're genetically predisposed to schizophr...  ...  your genet predispos schizophrenia weed may in...\n",
              "239  * Changes in physical and emotional reactions;...  ...  chang physic emot reaction easili frighten neg...\n",
              "785  @ ke _ news skimpyy @ allak _ live weda @ yaho...  ...                                                NaN\n",
              "6    @ChiromoHospGrp @leujonson @benson_nduta @iank...  ...                                                  …\n",
              "\n",
              "[5 rows x 3 columns]"
            ]
          },
          "metadata": {},
          "execution_count": 111
        }
      ]
    },
    {
      "cell_type": "code",
      "metadata": {
        "colab": {
          "base_uri": "https://localhost:8080/",
          "height": 275
        },
        "id": "kd1tlC8D2gHp",
        "outputId": "1cc5fc00-966e-4b12-fe0d-13ebcce2aa0c"
      },
      "source": [
        "#For dimentia disorder, class = 2\n",
        "\n",
        "# Creating augmented text data to increase our training dataset by 286 entries\n",
        "\n",
        "def augment_text(df1,samples=290,pr=0.2):   #70 aurgumented data\n",
        "    aug.aug_p=pr\n",
        "    new_text=[]\n",
        "    \n",
        "    #selecting the  class samples\n",
        "    df_n=df1[df1['disorder']== 2].reset_index(drop=True)\n",
        "\n",
        "    ## data augmentation loop\n",
        "    for i in tqdm(np.random.randint(0,len(df_n),samples)):\n",
        "        \n",
        "            text = df_n.iloc[i]['tweet']\n",
        "            augmented_text = aug.augment(text)\n",
        "            new_text.append(augmented_text)\n",
        "    \n",
        "    \n",
        "    ## dataframe\n",
        "    new=pd.DataFrame({'tweet':new_text,'disorder':2})\n",
        "    df1=shuffle(df1.append(new).reset_index(drop=True))\n",
        "    return df1\n",
        "   \n",
        "train = augment_text(train)\n",
        "print(train.shape, '\\n\\n')\n",
        "train.head()"
      ],
      "execution_count": null,
      "outputs": [
        {
          "output_type": "stream",
          "text": [
            "100%|██████████| 290/290 [07:32<00:00,  1.56s/it]"
          ],
          "name": "stderr"
        },
        {
          "output_type": "stream",
          "text": [
            "(1194, 3) \n",
            "\n",
            "\n"
          ],
          "name": "stdout"
        },
        {
          "output_type": "stream",
          "text": [
            "\n"
          ],
          "name": "stderr"
        },
        {
          "output_type": "execute_result",
          "data": {
            "text/html": [
              "<div>\n",
              "<style scoped>\n",
              "    .dataframe tbody tr th:only-of-type {\n",
              "        vertical-align: middle;\n",
              "    }\n",
              "\n",
              "    .dataframe tbody tr th {\n",
              "        vertical-align: top;\n",
              "    }\n",
              "\n",
              "    .dataframe thead th {\n",
              "        text-align: right;\n",
              "    }\n",
              "</style>\n",
              "<table border=\"1\" class=\"dataframe\">\n",
              "  <thead>\n",
              "    <tr style=\"text-align: right;\">\n",
              "      <th></th>\n",
              "      <th>tweet</th>\n",
              "      <th>disorder</th>\n",
              "      <th>clean_text</th>\n",
              "    </tr>\n",
              "  </thead>\n",
              "  <tbody>\n",
              "    <tr>\n",
              "      <th>563</th>\n",
              "      <td>Great @MwalimChurchill @Rachelshebesh #Churchi...</td>\n",
              "      <td>3</td>\n",
              "      <td>great churchillshow alway big fan depress real...</td>\n",
              "    </tr>\n",
              "    <tr>\n",
              "      <th>771</th>\n",
              "      <td>weather is so very bipolar</td>\n",
              "      <td>1</td>\n",
              "      <td>NaN</td>\n",
              "    </tr>\n",
              "    <tr>\n",
              "      <th>77</th>\n",
              "      <td>@ chiromohospgrp @ ac edmondagaba2 @ kkwilbroa...</td>\n",
              "      <td>0</td>\n",
              "      <td>NaN</td>\n",
              "    </tr>\n",
              "    <tr>\n",
              "      <th>677</th>\n",
              "      <td>black icymi : from living away with complete b...</td>\n",
              "      <td>1</td>\n",
              "      <td>NaN</td>\n",
              "    </tr>\n",
              "    <tr>\n",
              "      <th>348</th>\n",
              "      <td>i hate being bipolar, ; it ’ s basically awesome.</td>\n",
              "      <td>1</td>\n",
              "      <td>NaN</td>\n",
              "    </tr>\n",
              "  </tbody>\n",
              "</table>\n",
              "</div>"
            ],
            "text/plain": [
              "                                                 tweet  ...                                         clean_text\n",
              "563  Great @MwalimChurchill @Rachelshebesh #Churchi...  ...  great churchillshow alway big fan depress real...\n",
              "771                         weather is so very bipolar  ...                                                NaN\n",
              "77   @ chiromohospgrp @ ac edmondagaba2 @ kkwilbroa...  ...                                                NaN\n",
              "677  black icymi : from living away with complete b...  ...                                                NaN\n",
              "348  i hate being bipolar, ; it ’ s basically awesome.  ...                                                NaN\n",
              "\n",
              "[5 rows x 3 columns]"
            ]
          },
          "metadata": {},
          "execution_count": 112
        }
      ]
    },
    {
      "cell_type": "code",
      "metadata": {
        "colab": {
          "base_uri": "https://localhost:8080/",
          "height": 275
        },
        "id": "b0pkUk652gFg",
        "outputId": "507a7593-9b0a-44fe-b6ae-18be7195666e"
      },
      "source": [
        "# class 3 \n",
        "\n",
        "# Creating augmented text data to increase our training dataset by 286 entries\n",
        "\n",
        "def augment_text(df1,samples=47,pr=0.2):   #70 aurgumented data\n",
        "    aug.aug_p=pr\n",
        "    new_text=[]\n",
        "    \n",
        "    #selecting the  class samples\n",
        "    df_n=df1[df1['disorder']==3].reset_index(drop=True)\n",
        "\n",
        "    ## data augmentation loop\n",
        "    for i in tqdm(np.random.randint(0,len(df_n),samples)):\n",
        "        \n",
        "            text = df_n.iloc[i]['tweet']\n",
        "            augmented_text = aug.augment(text)\n",
        "            new_text.append(augmented_text)\n",
        "    \n",
        "    \n",
        "    ## dataframe\n",
        "    new=pd.DataFrame({'tweet':new_text,'disorder':3})\n",
        "    df1=shuffle(df1.append(new).reset_index(drop=True))\n",
        "    return df1\n",
        "   \n",
        "train = augment_text(train)\n",
        "print(train.shape, '\\n\\n')\n",
        "train.head()"
      ],
      "execution_count": null,
      "outputs": [
        {
          "output_type": "stream",
          "text": [
            "100%|██████████| 47/47 [01:17<00:00,  1.65s/it]"
          ],
          "name": "stderr"
        },
        {
          "output_type": "stream",
          "text": [
            "(1241, 3) \n",
            "\n",
            "\n"
          ],
          "name": "stdout"
        },
        {
          "output_type": "stream",
          "text": [
            "\n"
          ],
          "name": "stderr"
        },
        {
          "output_type": "execute_result",
          "data": {
            "text/html": [
              "<div>\n",
              "<style scoped>\n",
              "    .dataframe tbody tr th:only-of-type {\n",
              "        vertical-align: middle;\n",
              "    }\n",
              "\n",
              "    .dataframe tbody tr th {\n",
              "        vertical-align: top;\n",
              "    }\n",
              "\n",
              "    .dataframe thead th {\n",
              "        text-align: right;\n",
              "    }\n",
              "</style>\n",
              "<table border=\"1\" class=\"dataframe\">\n",
              "  <thead>\n",
              "    <tr style=\"text-align: right;\">\n",
              "      <th></th>\n",
              "      <th>tweet</th>\n",
              "      <th>disorder</th>\n",
              "      <th>clean_text</th>\n",
              "    </tr>\n",
              "  </thead>\n",
              "  <tbody>\n",
              "    <tr>\n",
              "      <th>1058</th>\n",
              "      <td>@ iqbalhajji + yes this city is bipolar 1 even</td>\n",
              "      <td>1</td>\n",
              "      <td>NaN</td>\n",
              "    </tr>\n",
              "    <tr>\n",
              "      <th>902</th>\n",
              "      <td>bipolar weather for maybe slightly almost half...</td>\n",
              "      <td>1</td>\n",
              "      <td>NaN</td>\n",
              "    </tr>\n",
              "    <tr>\n",
              "      <th>54</th>\n",
              "      <td>@crazy_kennar When history books will be writt...</td>\n",
              "      <td>3</td>\n",
              "      <td>histori book written get special mention cover...</td>\n",
              "    </tr>\n",
              "    <tr>\n",
              "      <th>751</th>\n",
              "      <td>dementia : connecting the from ‘ single most c...</td>\n",
              "      <td>2</td>\n",
              "      <td>NaN</td>\n",
              "    </tr>\n",
              "    <tr>\n",
              "      <th>934</th>\n",
              "      <td>when we seriously attempt. to convince people ...</td>\n",
              "      <td>2</td>\n",
              "      <td>NaN</td>\n",
              "    </tr>\n",
              "  </tbody>\n",
              "</table>\n",
              "</div>"
            ],
            "text/plain": [
              "                                                  tweet  ...                                         clean_text\n",
              "1058     @ iqbalhajji + yes this city is bipolar 1 even  ...                                                NaN\n",
              "902   bipolar weather for maybe slightly almost half...  ...                                                NaN\n",
              "54    @crazy_kennar When history books will be writt...  ...  histori book written get special mention cover...\n",
              "751   dementia : connecting the from ‘ single most c...  ...                                                NaN\n",
              "934   when we seriously attempt. to convince people ...  ...                                                NaN\n",
              "\n",
              "[5 rows x 3 columns]"
            ]
          },
          "metadata": {},
          "execution_count": 113
        }
      ]
    },
    {
      "cell_type": "code",
      "metadata": {
        "colab": {
          "base_uri": "https://localhost:8080/",
          "height": 275
        },
        "id": "ImldTUPq2gC6",
        "outputId": "fa4caa1f-8d3e-43e0-af79-c122675e2e40"
      },
      "source": [
        "#For paranoia = 4\n",
        "\n",
        "# Creating augmented text data to increase our training dataset by 286 entries\n",
        "\n",
        "def augment_text(df1,samples=293,pr=0.2):   #70 aurgumented data\n",
        "    aug.aug_p=pr\n",
        "    new_text=[]\n",
        "    \n",
        "    #selecting the  class samples\n",
        "    df_n=df1[df1['disorder']== 4 ].reset_index(drop=True)\n",
        "\n",
        "    ## data augmentation loop\n",
        "    for i in tqdm(np.random.randint(0,len(df_n),samples)):\n",
        "        \n",
        "            text = df_n.iloc[i]['tweet']\n",
        "            augmented_text = aug.augment(text)\n",
        "            new_text.append(augmented_text)\n",
        "    \n",
        "    \n",
        "    ## dataframe\n",
        "    new=pd.DataFrame({'tweet':new_text,'disorder':4})\n",
        "    df1=shuffle(df1.append(new).reset_index(drop=True))\n",
        "    return df1\n",
        "   \n",
        "train = augment_text(train)\n",
        "print(train.shape, '\\n\\n')\n",
        "train.head()"
      ],
      "execution_count": null,
      "outputs": [
        {
          "output_type": "stream",
          "text": [
            "100%|██████████| 293/293 [06:54<00:00,  1.41s/it]"
          ],
          "name": "stderr"
        },
        {
          "output_type": "stream",
          "text": [
            "(1534, 3) \n",
            "\n",
            "\n"
          ],
          "name": "stdout"
        },
        {
          "output_type": "stream",
          "text": [
            "\n"
          ],
          "name": "stderr"
        },
        {
          "output_type": "execute_result",
          "data": {
            "text/html": [
              "<div>\n",
              "<style scoped>\n",
              "    .dataframe tbody tr th:only-of-type {\n",
              "        vertical-align: middle;\n",
              "    }\n",
              "\n",
              "    .dataframe tbody tr th {\n",
              "        vertical-align: top;\n",
              "    }\n",
              "\n",
              "    .dataframe thead th {\n",
              "        text-align: right;\n",
              "    }\n",
              "</style>\n",
              "<table border=\"1\" class=\"dataframe\">\n",
              "  <thead>\n",
              "    <tr style=\"text-align: right;\">\n",
              "      <th></th>\n",
              "      <th>tweet</th>\n",
              "      <th>disorder</th>\n",
              "      <th>clean_text</th>\n",
              "    </tr>\n",
              "  </thead>\n",
              "  <tbody>\n",
              "    <tr>\n",
              "      <th>241</th>\n",
              "      <td>how do - you guys deal with anxiety and stress...</td>\n",
              "      <td>0</td>\n",
              "      <td>NaN</td>\n",
              "    </tr>\n",
              "    <tr>\n",
              "      <th>192</th>\n",
              "      <td>sundays even have my actual anxiety rates at p...</td>\n",
              "      <td>0</td>\n",
              "      <td>NaN</td>\n",
              "    </tr>\n",
              "    <tr>\n",
              "      <th>594</th>\n",
              "      <td>Btw Struggle to get Money, Fame and Exposure w...</td>\n",
              "      <td>3</td>\n",
              "      <td>btw struggl get money fame exposur earn depres...</td>\n",
              "    </tr>\n",
              "    <tr>\n",
              "      <th>1504</th>\n",
              "      <td>@ ke _ le karenn miss weed causes paranoia whi...</td>\n",
              "      <td>4</td>\n",
              "      <td>NaN</td>\n",
              "    </tr>\n",
              "    <tr>\n",
              "      <th>176</th>\n",
              "      <td>said raila just called everyone real who is ho...</td>\n",
              "      <td>2</td>\n",
              "      <td>NaN</td>\n",
              "    </tr>\n",
              "  </tbody>\n",
              "</table>\n",
              "</div>"
            ],
            "text/plain": [
              "                                                  tweet  ...                                         clean_text\n",
              "241   how do - you guys deal with anxiety and stress...  ...                                                NaN\n",
              "192   sundays even have my actual anxiety rates at p...  ...                                                NaN\n",
              "594   Btw Struggle to get Money, Fame and Exposure w...  ...  btw struggl get money fame exposur earn depres...\n",
              "1504  @ ke _ le karenn miss weed causes paranoia whi...  ...                                                NaN\n",
              "176   said raila just called everyone real who is ho...  ...                                                NaN\n",
              "\n",
              "[5 rows x 3 columns]"
            ]
          },
          "metadata": {},
          "execution_count": 114
        }
      ]
    },
    {
      "cell_type": "code",
      "metadata": {
        "colab": {
          "base_uri": "https://localhost:8080/",
          "height": 275
        },
        "id": "c6sqR-Fo6niJ",
        "outputId": "a6e4c4e0-c959-4ca5-f916-c6d8c83c6bd0"
      },
      "source": [
        "#For class 5 = schizophrenia\n",
        "\n",
        "# Creating augmented text data to increase our training dataset by 286 entries\n",
        "\n",
        "def augment_text(df1,samples=290,pr=0.2):   #70 aurgumented data\n",
        "    aug.aug_p=pr\n",
        "    new_text=[]\n",
        "    \n",
        "    #selecting the  class samples\n",
        "    df_n=df1[df1['disorder']== 5 ].reset_index(drop=True)\n",
        "\n",
        "    ## data augmentation loop\n",
        "    for i in tqdm(np.random.randint(0,len(df_n),samples)):\n",
        "        \n",
        "            text = df_n.iloc[i]['tweet']\n",
        "            augmented_text = aug.augment(text)\n",
        "            new_text.append(augmented_text)\n",
        "    \n",
        "    \n",
        "    ## dataframe\n",
        "    new=pd.DataFrame({'tweet':new_text,'disorder':5})\n",
        "    df1=shuffle(df1.append(new).reset_index(drop=True))\n",
        "    return df1\n",
        "   \n",
        "train = augment_text(train)\n",
        "print(train.shape, '\\n\\n')\n",
        "train.head()"
      ],
      "execution_count": null,
      "outputs": [
        {
          "output_type": "stream",
          "text": [
            "100%|██████████| 290/290 [10:30<00:00,  2.18s/it]"
          ],
          "name": "stderr"
        },
        {
          "output_type": "stream",
          "text": [
            "(1824, 3) \n",
            "\n",
            "\n"
          ],
          "name": "stdout"
        },
        {
          "output_type": "stream",
          "text": [
            "\n"
          ],
          "name": "stderr"
        },
        {
          "output_type": "execute_result",
          "data": {
            "text/html": [
              "<div>\n",
              "<style scoped>\n",
              "    .dataframe tbody tr th:only-of-type {\n",
              "        vertical-align: middle;\n",
              "    }\n",
              "\n",
              "    .dataframe tbody tr th {\n",
              "        vertical-align: top;\n",
              "    }\n",
              "\n",
              "    .dataframe thead th {\n",
              "        text-align: right;\n",
              "    }\n",
              "</style>\n",
              "<table border=\"1\" class=\"dataframe\">\n",
              "  <thead>\n",
              "    <tr style=\"text-align: right;\">\n",
              "      <th></th>\n",
              "      <th>tweet</th>\n",
              "      <th>disorder</th>\n",
              "      <th>clean_text</th>\n",
              "    </tr>\n",
              "  </thead>\n",
              "  <tbody>\n",
              "    <tr>\n",
              "      <th>552</th>\n",
              "      <td>@ ke _ karenn weed also causes paranoia which ...</td>\n",
              "      <td>4</td>\n",
              "      <td>NaN</td>\n",
              "    </tr>\n",
              "    <tr>\n",
              "      <th>781</th>\n",
              "      <td>when we attempt solely to convince black peopl...</td>\n",
              "      <td>2</td>\n",
              "      <td>NaN</td>\n",
              "    </tr>\n",
              "    <tr>\n",
              "      <th>1794</th>\n",
              "      <td>@ _ antohlibra schizophrenia transmission has ...</td>\n",
              "      <td>5</td>\n",
              "      <td>NaN</td>\n",
              "    </tr>\n",
              "    <tr>\n",
              "      <th>1089</th>\n",
              "      <td>when we attempt harder to convince very people...</td>\n",
              "      <td>2</td>\n",
              "      <td>NaN</td>\n",
              "    </tr>\n",
              "    <tr>\n",
              "      <th>1190</th>\n",
              "      <td>@ ke _ karenn weed commonly causes paranoia we...</td>\n",
              "      <td>4</td>\n",
              "      <td>NaN</td>\n",
              "    </tr>\n",
              "  </tbody>\n",
              "</table>\n",
              "</div>"
            ],
            "text/plain": [
              "                                                  tweet  disorder clean_text\n",
              "552   @ ke _ karenn weed also causes paranoia which ...         4        NaN\n",
              "781   when we attempt solely to convince black peopl...         2        NaN\n",
              "1794  @ _ antohlibra schizophrenia transmission has ...         5        NaN\n",
              "1089  when we attempt harder to convince very people...         2        NaN\n",
              "1190  @ ke _ karenn weed commonly causes paranoia we...         4        NaN"
            ]
          },
          "metadata": {},
          "execution_count": 115
        }
      ]
    },
    {
      "cell_type": "code",
      "metadata": {
        "id": "XfEALUEg-J0H"
      },
      "source": [
        "#For class 6 = suicidal\n",
        "\n",
        "# Creating augmented text data to increase our training dataset by 286 entries\n",
        "\n",
        "def augment_text(df1,samples=255,pr=0.2):  \n",
        "    aug.aug_p=pr\n",
        "    new_text=[]\n",
        "    \n",
        "    #selecting the  class samples\n",
        "    df_n=df1[df1['disorder']== 6 ].reset_index(drop=True)\n",
        "\n",
        "    ## data augmentation loop\n",
        "    for i in tqdm(np.random.randint(0,len(df_n),samples)):\n",
        "        \n",
        "            text = df_n.iloc[i]['tweet']\n",
        "            augmented_text = aug.augment(text)\n",
        "            new_text.append(augmented_text)\n",
        "    \n",
        "    \n",
        "    ## dataframe\n",
        "    new=pd.DataFrame({'tweet':new_text,'disorder':6})\n",
        "    df1=shuffle(df1.append(new).reset_index(drop=True))\n",
        "    return df1\n",
        "   \n",
        "train = augment_text(train)\n",
        "print(train.shape, '\\n\\n')\n",
        "train.head()"
      ],
      "execution_count": null,
      "outputs": []
    },
    {
      "cell_type": "code",
      "metadata": {
        "colab": {
          "base_uri": "https://localhost:8080/"
        },
        "id": "_M0yQHJM2gJ_",
        "outputId": "b52e6443-e04c-42c2-e75f-c3ab361bdc00"
      },
      "source": [
        "# Check the number of each disorder\n",
        "train['disorder'].value_counts()"
      ],
      "execution_count": null,
      "outputs": [
        {
          "output_type": "execute_result",
          "data": {
            "text/plain": [
              "3    309\n",
              "1    302\n",
              "5    300\n",
              "4    299\n",
              "2    298\n",
              "6    295\n",
              "0    276\n",
              "Name: disorder, dtype: int64"
            ]
          },
          "metadata": {},
          "execution_count": 117
        }
      ]
    },
    {
      "cell_type": "code",
      "metadata": {
        "id": "H3SMl7_N6naG"
      },
      "source": [
        "train.to_csv('Augmented_Data.csv', index=False)"
      ],
      "execution_count": null,
      "outputs": []
    },
    {
      "cell_type": "code",
      "metadata": {
        "colab": {
          "base_uri": "https://localhost:8080/",
          "height": 423
        },
        "id": "vi4riECC6nXH",
        "outputId": "91930a7a-0919-4f59-cad1-1ea17ac6fc8a"
      },
      "source": [
        "train = pd.read_csv('/content/Augmented_Data.csv')\n",
        "train"
      ],
      "execution_count": null,
      "outputs": [
        {
          "output_type": "execute_result",
          "data": {
            "text/html": [
              "<div>\n",
              "<style scoped>\n",
              "    .dataframe tbody tr th:only-of-type {\n",
              "        vertical-align: middle;\n",
              "    }\n",
              "\n",
              "    .dataframe tbody tr th {\n",
              "        vertical-align: top;\n",
              "    }\n",
              "\n",
              "    .dataframe thead th {\n",
              "        text-align: right;\n",
              "    }\n",
              "</style>\n",
              "<table border=\"1\" class=\"dataframe\">\n",
              "  <thead>\n",
              "    <tr style=\"text-align: right;\">\n",
              "      <th></th>\n",
              "      <th>tweet</th>\n",
              "      <th>disorder</th>\n",
              "      <th>clean_text</th>\n",
              "    </tr>\n",
              "  </thead>\n",
              "  <tbody>\n",
              "    <tr>\n",
              "      <th>0</th>\n",
              "      <td>this a bipolar changing weather policy is quit...</td>\n",
              "      <td>1</td>\n",
              "      <td>NaN</td>\n",
              "    </tr>\n",
              "    <tr>\n",
              "      <th>1</th>\n",
              "      <td>@ bitchrespecter paranoia. ndio _ utamu... tru...</td>\n",
              "      <td>4</td>\n",
              "      <td>NaN</td>\n",
              "    </tr>\n",
              "    <tr>\n",
              "      <th>2</th>\n",
              "      <td>Depression is real. Please check on your frien...</td>\n",
              "      <td>3</td>\n",
              "      <td>depress real pleas check friend especi one alw...</td>\n",
              "    </tr>\n",
              "    <tr>\n",
              "      <th>3</th>\n",
              "      <td>@ yc _ kenya @ beach chamadui @ nayakenya @ ay...</td>\n",
              "      <td>6</td>\n",
              "      <td>NaN</td>\n",
              "    </tr>\n",
              "    <tr>\n",
              "      <th>4</th>\n",
              "      <td>guess i will commit i twitter suicidal if tomo...</td>\n",
              "      <td>6</td>\n",
              "      <td>NaN</td>\n",
              "    </tr>\n",
              "    <tr>\n",
              "      <th>...</th>\n",
              "      <td>...</td>\n",
              "      <td>...</td>\n",
              "      <td>...</td>\n",
              "    </tr>\n",
              "    <tr>\n",
              "      <th>2074</th>\n",
              "      <td>nuclear power @ generation - # nextgen - modul...</td>\n",
              "      <td>4</td>\n",
              "      <td>NaN</td>\n",
              "    </tr>\n",
              "    <tr>\n",
              "      <th>2075</th>\n",
              "      <td>this may also sound demeaning to people suffer...</td>\n",
              "      <td>2</td>\n",
              "      <td>NaN</td>\n",
              "    </tr>\n",
              "    <tr>\n",
              "      <th>2076</th>\n",
              "      <td>boda guys wanakupea life guides appear while m...</td>\n",
              "      <td>6</td>\n",
              "      <td>NaN</td>\n",
              "    </tr>\n",
              "    <tr>\n",
              "      <th>2077</th>\n",
              "      <td>@ChiromoHospGrp @EdmondAgaba2 @KKwilbroad @ali...</td>\n",
              "      <td>3</td>\n",
              "      <td>…</td>\n",
              "    </tr>\n",
              "    <tr>\n",
              "      <th>2078</th>\n",
              "      <td>@ _ house fels1 suicidal in my book</td>\n",
              "      <td>6</td>\n",
              "      <td>NaN</td>\n",
              "    </tr>\n",
              "  </tbody>\n",
              "</table>\n",
              "<p>2079 rows × 3 columns</p>\n",
              "</div>"
            ],
            "text/plain": [
              "                                                  tweet  ...                                         clean_text\n",
              "0     this a bipolar changing weather policy is quit...  ...                                                NaN\n",
              "1     @ bitchrespecter paranoia. ndio _ utamu... tru...  ...                                                NaN\n",
              "2     Depression is real. Please check on your frien...  ...  depress real pleas check friend especi one alw...\n",
              "3     @ yc _ kenya @ beach chamadui @ nayakenya @ ay...  ...                                                NaN\n",
              "4     guess i will commit i twitter suicidal if tomo...  ...                                                NaN\n",
              "...                                                 ...  ...                                                ...\n",
              "2074  nuclear power @ generation - # nextgen - modul...  ...                                                NaN\n",
              "2075  this may also sound demeaning to people suffer...  ...                                                NaN\n",
              "2076  boda guys wanakupea life guides appear while m...  ...                                                NaN\n",
              "2077  @ChiromoHospGrp @EdmondAgaba2 @KKwilbroad @ali...  ...                                                  …\n",
              "2078                @ _ house fels1 suicidal in my book  ...                                                NaN\n",
              "\n",
              "[2079 rows x 3 columns]"
            ]
          },
          "metadata": {},
          "execution_count": 122
        }
      ]
    },
    {
      "cell_type": "code",
      "metadata": {
        "colab": {
          "base_uri": "https://localhost:8080/",
          "height": 206
        },
        "id": "EnT6HWhggEqS",
        "outputId": "45cb44e7-56fd-42cd-e101-e4b0b996b136"
      },
      "source": [
        "def finish(string):\n",
        "    return preprocessing_task(remove_emoji(string))\n",
        "\n",
        "train['clean_text'] = train['tweet'].apply(lambda x: finish(x))\n",
        "train.head()"
      ],
      "execution_count": null,
      "outputs": [
        {
          "output_type": "execute_result",
          "data": {
            "text/html": [
              "<div>\n",
              "<style scoped>\n",
              "    .dataframe tbody tr th:only-of-type {\n",
              "        vertical-align: middle;\n",
              "    }\n",
              "\n",
              "    .dataframe tbody tr th {\n",
              "        vertical-align: top;\n",
              "    }\n",
              "\n",
              "    .dataframe thead th {\n",
              "        text-align: right;\n",
              "    }\n",
              "</style>\n",
              "<table border=\"1\" class=\"dataframe\">\n",
              "  <thead>\n",
              "    <tr style=\"text-align: right;\">\n",
              "      <th></th>\n",
              "      <th>tweet</th>\n",
              "      <th>disorder</th>\n",
              "      <th>clean_text</th>\n",
              "    </tr>\n",
              "  </thead>\n",
              "  <tbody>\n",
              "    <tr>\n",
              "      <th>0</th>\n",
              "      <td>this a bipolar changing weather policy is quit...</td>\n",
              "      <td>1</td>\n",
              "      <td>bipolar chang weather polici quit annoy yaani ...</td>\n",
              "    </tr>\n",
              "    <tr>\n",
              "      <th>1</th>\n",
              "      <td>@ bitchrespecter paranoia. ndio _ utamu... tru...</td>\n",
              "      <td>4</td>\n",
              "      <td>bitchrespect paranoia ndio utamu true word sup...</td>\n",
              "    </tr>\n",
              "    <tr>\n",
              "      <th>2</th>\n",
              "      <td>Depression is real. Please check on your frien...</td>\n",
              "      <td>3</td>\n",
              "      <td>depress real pleas check friend especi one alw...</td>\n",
              "    </tr>\n",
              "    <tr>\n",
              "      <th>3</th>\n",
              "      <td>@ yc _ kenya @ beach chamadui @ nayakenya @ ay...</td>\n",
              "      <td>6</td>\n",
              "      <td>yc kenya beach chamadui nayakenya ayarhep keny...</td>\n",
              "    </tr>\n",
              "    <tr>\n",
              "      <th>4</th>\n",
              "      <td>guess i will commit i twitter suicidal if tomo...</td>\n",
              "      <td>6</td>\n",
              "      <td>guess commit twitter suicid tomorrow ’ get 6 1...</td>\n",
              "    </tr>\n",
              "  </tbody>\n",
              "</table>\n",
              "</div>"
            ],
            "text/plain": [
              "                                               tweet  ...                                         clean_text\n",
              "0  this a bipolar changing weather policy is quit...  ...  bipolar chang weather polici quit annoy yaani ...\n",
              "1  @ bitchrespecter paranoia. ndio _ utamu... tru...  ...  bitchrespect paranoia ndio utamu true word sup...\n",
              "2  Depression is real. Please check on your frien...  ...  depress real pleas check friend especi one alw...\n",
              "3  @ yc _ kenya @ beach chamadui @ nayakenya @ ay...  ...  yc kenya beach chamadui nayakenya ayarhep keny...\n",
              "4  guess i will commit i twitter suicidal if tomo...  ...  guess commit twitter suicid tomorrow ’ get 6 1...\n",
              "\n",
              "[5 rows x 3 columns]"
            ]
          },
          "metadata": {},
          "execution_count": 123
        }
      ]
    },
    {
      "cell_type": "code",
      "metadata": {
        "id": "QcT64eX8gRn-"
      },
      "source": [
        "#  Defining the features and labels\n",
        "\n",
        "X = df['clean_text']\n",
        "y = df['disorder']\n",
        "\n",
        "# Splitting the data into training and testing sets\n",
        "\n",
        "\n",
        "X_train, X_test, y_train, y_test = train_test_split(X, y, test_size=0.2, random_state=101)"
      ],
      "execution_count": null,
      "outputs": []
    },
    {
      "cell_type": "code",
      "metadata": {
        "id": "P0P3Sp8agixX"
      },
      "source": [
        "# “Term Frequency — Inverse Document Frequency”. This is a technique to \n",
        "# quantify a word in documents, we generally compute a weight to each word\n",
        "#  which signifies the importance of the word in the document and corpus.\n",
        "\n",
        "# Instancetiate\n",
        "tfidf = TfidfVectorizer(stop_words='english')\n"
      ],
      "execution_count": null,
      "outputs": []
    },
    {
      "cell_type": "code",
      "metadata": {
        "id": "YniMDul4ixcO"
      },
      "source": [
        "# Fit the tfidf to the data\n",
        "\n",
        "tfidf.fit(X_train)\n",
        "X_train_tfidf = tfidf.transform(X_train)\n",
        "X_test_tfidf = tfidf.transform(X_test)\n"
      ],
      "execution_count": null,
      "outputs": []
    },
    {
      "cell_type": "code",
      "metadata": {
        "colab": {
          "base_uri": "https://localhost:8080/"
        },
        "id": "eWh9RqDjixUW",
        "outputId": "b33536ad-d6f1-4e69-a4f4-2b38f631745c"
      },
      "source": [
        "X_train_tfidf\n"
      ],
      "execution_count": null,
      "outputs": [
        {
          "output_type": "execute_result",
          "data": {
            "text/plain": [
              "<537x1693 sparse matrix of type '<class 'numpy.float64'>'\n",
              "\twith 3863 stored elements in Compressed Sparse Row format>"
            ]
          },
          "metadata": {},
          "execution_count": 129
        }
      ]
    },
    {
      "cell_type": "code",
      "metadata": {
        "colab": {
          "base_uri": "https://localhost:8080/"
        },
        "id": "7JzY8TaSjZ08",
        "outputId": "e25c79af-417d-48f6-b51b-779aa8968425"
      },
      "source": [
        "# MultinomialNB\n",
        "\n",
        "from sklearn.naive_bayes import MultinomialNB\n",
        "nb = MultinomialNB()\n",
        "nb.fit(X_train_tfidf,y_train)"
      ],
      "execution_count": null,
      "outputs": [
        {
          "output_type": "execute_result",
          "data": {
            "text/plain": [
              "MultinomialNB(alpha=1.0, class_prior=None, fit_prior=True)"
            ]
          },
          "metadata": {},
          "execution_count": 130
        }
      ]
    },
    {
      "cell_type": "code",
      "metadata": {
        "id": "EWu9fwN5jlB6"
      },
      "source": [
        "# Making predictions\n",
        "y_pred = nb.predict(X_test_tfidf)\n"
      ],
      "execution_count": null,
      "outputs": []
    },
    {
      "cell_type": "code",
      "metadata": {
        "colab": {
          "base_uri": "https://localhost:8080/",
          "height": 87
        },
        "id": "cam9tknCj1-i",
        "outputId": "972a2f36-d432-483d-dcba-954a39b5c16d"
      },
      "source": [
        "from sklearn.metrics import classification_report\n",
        "classification_report(y_pred, y_test)\n"
      ],
      "execution_count": null,
      "outputs": [
        {
          "output_type": "execute_result",
          "data": {
            "application/vnd.google.colaboratory.intrinsic+json": {
              "type": "string"
            },
            "text/plain": [
              "'              precision    recall  f1-score   support\\n\\n           0       0.62      0.67      0.64        43\\n           1       0.00      0.00      0.00         0\\n           3       0.85      0.70      0.77        92\\n           5       0.00      0.00      0.00         0\\n           6       0.00      0.00      0.00         0\\n\\n    accuracy                           0.69       135\\n   macro avg       0.29      0.27      0.28       135\\nweighted avg       0.78      0.69      0.73       135\\n'"
            ]
          },
          "metadata": {},
          "execution_count": 135
        }
      ]
    },
    {
      "cell_type": "code",
      "metadata": {
        "id": "h8McFyYDjyXY"
      },
      "source": [
        ""
      ],
      "execution_count": null,
      "outputs": []
    }
  ]
}