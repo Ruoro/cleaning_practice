{
  "nbformat": 4,
  "nbformat_minor": 0,
  "metadata": {
    "colab": {
      "name": "Copy of Python Data Cleaning: Basics II",
      "provenance": [],
      "collapsed_sections": [
        "f0LiYra_ZGrf",
        "zMDkx0IpxCCR",
        "Y7Dgv6QeG-tw",
        "zxpZyP9yxlzl",
        "PQ8DPOj4HGtQ",
        "vPXKeupMxvT3",
        "KSSnxqGcH4pc",
        "Wus-RyPhx2k2",
        "vvxGZOoWXnmy",
        "o59W2bFhx_8k",
        "1FQHRHC_QMJu"
      ],
      "include_colab_link": true
    },
    "kernelspec": {
      "name": "python3",
      "display_name": "Python 3"
    }
  },
  "cells": [
    {
      "cell_type": "markdown",
      "metadata": {
        "id": "view-in-github",
        "colab_type": "text"
      },
      "source": [
        "<a href=\"https://colab.research.google.com/github/ruoroj/cleaning_practice/blob/main/Copy_of_Python_Data_Cleaning_Basics_II.ipynb\" target=\"_parent\"><img src=\"https://colab.research.google.com/assets/colab-badge.svg\" alt=\"Open In Colab\"/></a>"
      ]
    },
    {
      "cell_type": "markdown",
      "metadata": {
        "id": "GooEubScAtGS"
      },
      "source": [
        "<font color=\"green\">*To start working on this notebook, or any other notebook that we will use in the Moringa Data Science Course, we will need to save our own copy of it. We can do this by clicking File > Save a Copy in Drive. We will then be able to make edits to our own copy of this notebook.*</font>"
      ]
    },
    {
      "cell_type": "markdown",
      "metadata": {
        "id": "_-nl74pjw6Hy"
      },
      "source": [
        "# Python Data Cleaning: Basics II"
      ]
    },
    {
      "cell_type": "markdown",
      "metadata": {
        "id": "f0LiYra_ZGrf"
      },
      "source": [
        "## 1.0 Importing our Libraries"
      ]
    },
    {
      "cell_type": "code",
      "metadata": {
        "id": "UtnqOM71DRhS"
      },
      "source": [
        "# Importing the Pandas Library\n",
        "#\n",
        "import pandas as pd\n",
        "\n",
        "# Importing the Numpy Library\n",
        "#\n",
        "import numpy as np"
      ],
      "execution_count": 1,
      "outputs": []
    },
    {
      "cell_type": "markdown",
      "metadata": {
        "id": "zMDkx0IpxCCR"
      },
      "source": [
        "## 1.1 Validity"
      ]
    },
    {
      "cell_type": "code",
      "metadata": {
        "id": "O2gayc6ew2qT",
        "colab": {
          "base_uri": "https://localhost:8080/",
          "height": 440
        },
        "outputId": "8f92d77b-4693-4988-f779-9df45e438810"
      },
      "source": [
        "# Example 1: Irrelevant Data\n",
        "# Irrelevant data are those that are not actually needed, and don’t fit under \n",
        "# the context of the problem we’re trying to solve. \n",
        "# For example, we will drop the Team and Weight columns from the dataset below\n",
        "# since we will not need them in our analysis\n",
        "# \n",
        " \n",
        "# Making the dataframe from csv file \n",
        "data_df = pd.read_csv(\"http://bit.ly/MSDS-NBADataset\", index_col =\"Name\" ) \n",
        "\n",
        "\n",
        "# Dropping the irrelevant columns i.e. Team and Weight\n",
        "# Those values were dropped since axis was set equal to 1 and \n",
        "# the changes were made in the original data frame since inplace was True.\n",
        "data_df.drop([\"Team\", \"Weight\"], axis = 1, inplace = True) \n",
        "  \n",
        "# Display the resulting dataframe\n",
        "data_df  "
      ],
      "execution_count": 2,
      "outputs": [
        {
          "output_type": "execute_result",
          "data": {
            "text/html": [
              "<div>\n",
              "<style scoped>\n",
              "    .dataframe tbody tr th:only-of-type {\n",
              "        vertical-align: middle;\n",
              "    }\n",
              "\n",
              "    .dataframe tbody tr th {\n",
              "        vertical-align: top;\n",
              "    }\n",
              "\n",
              "    .dataframe thead th {\n",
              "        text-align: right;\n",
              "    }\n",
              "</style>\n",
              "<table border=\"1\" class=\"dataframe\">\n",
              "  <thead>\n",
              "    <tr style=\"text-align: right;\">\n",
              "      <th></th>\n",
              "      <th>Number</th>\n",
              "      <th>Position</th>\n",
              "      <th>Age</th>\n",
              "      <th>Height</th>\n",
              "      <th>College</th>\n",
              "      <th>Salary</th>\n",
              "    </tr>\n",
              "    <tr>\n",
              "      <th>Name</th>\n",
              "      <th></th>\n",
              "      <th></th>\n",
              "      <th></th>\n",
              "      <th></th>\n",
              "      <th></th>\n",
              "      <th></th>\n",
              "    </tr>\n",
              "  </thead>\n",
              "  <tbody>\n",
              "    <tr>\n",
              "      <th>Avery Bradley</th>\n",
              "      <td>0.0</td>\n",
              "      <td>PG</td>\n",
              "      <td>25.0</td>\n",
              "      <td>6-2</td>\n",
              "      <td>Texas</td>\n",
              "      <td>7730337.0</td>\n",
              "    </tr>\n",
              "    <tr>\n",
              "      <th>Jae Crowder</th>\n",
              "      <td>99.0</td>\n",
              "      <td>SF</td>\n",
              "      <td>25.0</td>\n",
              "      <td>6-6</td>\n",
              "      <td>Marquette</td>\n",
              "      <td>6796117.0</td>\n",
              "    </tr>\n",
              "    <tr>\n",
              "      <th>John Holland</th>\n",
              "      <td>30.0</td>\n",
              "      <td>SG</td>\n",
              "      <td>27.0</td>\n",
              "      <td>6-5</td>\n",
              "      <td>Boston University</td>\n",
              "      <td>NaN</td>\n",
              "    </tr>\n",
              "    <tr>\n",
              "      <th>R.J. Hunter</th>\n",
              "      <td>28.0</td>\n",
              "      <td>SG</td>\n",
              "      <td>22.0</td>\n",
              "      <td>6-5</td>\n",
              "      <td>Georgia State</td>\n",
              "      <td>1148640.0</td>\n",
              "    </tr>\n",
              "    <tr>\n",
              "      <th>Jonas Jerebko</th>\n",
              "      <td>8.0</td>\n",
              "      <td>PF</td>\n",
              "      <td>29.0</td>\n",
              "      <td>6-10</td>\n",
              "      <td>NaN</td>\n",
              "      <td>5000000.0</td>\n",
              "    </tr>\n",
              "    <tr>\n",
              "      <th>...</th>\n",
              "      <td>...</td>\n",
              "      <td>...</td>\n",
              "      <td>...</td>\n",
              "      <td>...</td>\n",
              "      <td>...</td>\n",
              "      <td>...</td>\n",
              "    </tr>\n",
              "    <tr>\n",
              "      <th>Shelvin Mack</th>\n",
              "      <td>8.0</td>\n",
              "      <td>PG</td>\n",
              "      <td>26.0</td>\n",
              "      <td>6-3</td>\n",
              "      <td>Butler</td>\n",
              "      <td>2433333.0</td>\n",
              "    </tr>\n",
              "    <tr>\n",
              "      <th>Raul Neto</th>\n",
              "      <td>25.0</td>\n",
              "      <td>PG</td>\n",
              "      <td>24.0</td>\n",
              "      <td>6-1</td>\n",
              "      <td>NaN</td>\n",
              "      <td>900000.0</td>\n",
              "    </tr>\n",
              "    <tr>\n",
              "      <th>Tibor Pleiss</th>\n",
              "      <td>21.0</td>\n",
              "      <td>C</td>\n",
              "      <td>26.0</td>\n",
              "      <td>7-3</td>\n",
              "      <td>NaN</td>\n",
              "      <td>2900000.0</td>\n",
              "    </tr>\n",
              "    <tr>\n",
              "      <th>Jeff Withey</th>\n",
              "      <td>24.0</td>\n",
              "      <td>C</td>\n",
              "      <td>26.0</td>\n",
              "      <td>7-0</td>\n",
              "      <td>Kansas</td>\n",
              "      <td>947276.0</td>\n",
              "    </tr>\n",
              "    <tr>\n",
              "      <th>NaN</th>\n",
              "      <td>NaN</td>\n",
              "      <td>NaN</td>\n",
              "      <td>NaN</td>\n",
              "      <td>NaN</td>\n",
              "      <td>NaN</td>\n",
              "      <td>NaN</td>\n",
              "    </tr>\n",
              "  </tbody>\n",
              "</table>\n",
              "<p>458 rows × 6 columns</p>\n",
              "</div>"
            ],
            "text/plain": [
              "               Number Position   Age Height            College     Salary\n",
              "Name                                                                     \n",
              "Avery Bradley     0.0       PG  25.0    6-2              Texas  7730337.0\n",
              "Jae Crowder      99.0       SF  25.0    6-6          Marquette  6796117.0\n",
              "John Holland     30.0       SG  27.0    6-5  Boston University        NaN\n",
              "R.J. Hunter      28.0       SG  22.0    6-5      Georgia State  1148640.0\n",
              "Jonas Jerebko     8.0       PF  29.0   6-10                NaN  5000000.0\n",
              "...               ...      ...   ...    ...                ...        ...\n",
              "Shelvin Mack      8.0       PG  26.0    6-3             Butler  2433333.0\n",
              "Raul Neto        25.0       PG  24.0    6-1                NaN   900000.0\n",
              "Tibor Pleiss     21.0        C  26.0    7-3                NaN  2900000.0\n",
              "Jeff Withey      24.0        C  26.0    7-0             Kansas   947276.0\n",
              "NaN               NaN      NaN   NaN    NaN                NaN        NaN\n",
              "\n",
              "[458 rows x 6 columns]"
            ]
          },
          "metadata": {
            "tags": []
          },
          "execution_count": 2
        }
      ]
    },
    {
      "cell_type": "code",
      "metadata": {
        "id": "iEgdxIlDxdUW",
        "colab": {
          "base_uri": "https://localhost:8080/"
        },
        "outputId": "b28c9060-75c1-4fd1-88a6-9816c2645d2f"
      },
      "source": [
        "# Example 2: Syntax Errors\n",
        "# We can also remove any syntax error than we find in our records.\n",
        "# Remove white spaces: Extra white spaces at the beginning or the end of a string should be removed. \n",
        "# Pad strings: Strings can be padded with spaces or other characters to a certain width i.e. 313 => 000313 (6 digits). \n",
        "# Let's remove use the str.strip function on the respective column name to strip the leading and trailing space \n",
        "# \n",
        "\n",
        "# Creating the DataFrame to be used\n",
        "df1 = {\n",
        "    'County':['     Nairobi     ', ' Machakos       ', ' Kisumu', 'Nakuru       ', 'Naroko '],\n",
        "   'Score':[73, 83, 75, 84, 61]}\n",
        " \n",
        "df1 = pd.DataFrame(df1,columns=['County','Score'])\n",
        "\n",
        "# Displaying the resulting dataframe\n",
        "df1['County']"
      ],
      "execution_count": 3,
      "outputs": [
        {
          "output_type": "execute_result",
          "data": {
            "text/plain": [
              "0         Nairobi     \n",
              "1      Machakos       \n",
              "2               Kisumu\n",
              "3        Nakuru       \n",
              "4              Naroko \n",
              "Name: County, dtype: object"
            ]
          },
          "metadata": {
            "tags": []
          },
          "execution_count": 3
        }
      ]
    },
    {
      "cell_type": "code",
      "metadata": {
        "id": "ClA86U5UXD1y",
        "colab": {
          "base_uri": "https://localhost:8080/"
        },
        "outputId": "f4b42841-af09-4e91-af2b-52c82e1efc7f"
      },
      "source": [
        "# Example 2: Syntax Errors\n",
        "# We can use the str.strip function on the respective column name to strip the leading and trailing spaces  \n",
        "# \n",
        "\n",
        "df1['County'] = df1['County'].str.strip()\n",
        "\n",
        "\n",
        "# Displaying the resulting dataframe\n",
        "df1['County']"
      ],
      "execution_count": 4,
      "outputs": [
        {
          "output_type": "execute_result",
          "data": {
            "text/plain": [
              "0     Nairobi\n",
              "1    Machakos\n",
              "2      Kisumu\n",
              "3      Nakuru\n",
              "4      Naroko\n",
              "Name: County, dtype: object"
            ]
          },
          "metadata": {
            "tags": []
          },
          "execution_count": 4
        }
      ]
    },
    {
      "cell_type": "code",
      "metadata": {
        "id": "tj_-wOu4WlS2",
        "colab": {
          "base_uri": "https://localhost:8080/",
          "height": 199
        },
        "outputId": "ab19acdf-a5c1-4aa9-8716-6e22ba134d43"
      },
      "source": [
        "# Example 3: Syntax Errors\n",
        "# We can also use str.replace() function on the respective column to strip all the spaces \n",
        "# \n",
        "\n",
        "df1['County'] = df1['County'].str.replace(\" \",\"\")\n",
        "\n",
        "# Displaying the resulting dataframe\n",
        "df1"
      ],
      "execution_count": 5,
      "outputs": [
        {
          "output_type": "execute_result",
          "data": {
            "text/html": [
              "<div>\n",
              "<style scoped>\n",
              "    .dataframe tbody tr th:only-of-type {\n",
              "        vertical-align: middle;\n",
              "    }\n",
              "\n",
              "    .dataframe tbody tr th {\n",
              "        vertical-align: top;\n",
              "    }\n",
              "\n",
              "    .dataframe thead th {\n",
              "        text-align: right;\n",
              "    }\n",
              "</style>\n",
              "<table border=\"1\" class=\"dataframe\">\n",
              "  <thead>\n",
              "    <tr style=\"text-align: right;\">\n",
              "      <th></th>\n",
              "      <th>County</th>\n",
              "      <th>Score</th>\n",
              "    </tr>\n",
              "  </thead>\n",
              "  <tbody>\n",
              "    <tr>\n",
              "      <th>0</th>\n",
              "      <td>Nairobi</td>\n",
              "      <td>73</td>\n",
              "    </tr>\n",
              "    <tr>\n",
              "      <th>1</th>\n",
              "      <td>Machakos</td>\n",
              "      <td>83</td>\n",
              "    </tr>\n",
              "    <tr>\n",
              "      <th>2</th>\n",
              "      <td>Kisumu</td>\n",
              "      <td>75</td>\n",
              "    </tr>\n",
              "    <tr>\n",
              "      <th>3</th>\n",
              "      <td>Nakuru</td>\n",
              "      <td>84</td>\n",
              "    </tr>\n",
              "    <tr>\n",
              "      <th>4</th>\n",
              "      <td>Naroko</td>\n",
              "      <td>61</td>\n",
              "    </tr>\n",
              "  </tbody>\n",
              "</table>\n",
              "</div>"
            ],
            "text/plain": [
              "     County  Score\n",
              "0   Nairobi     73\n",
              "1  Machakos     83\n",
              "2    Kisumu     75\n",
              "3    Nakuru     84\n",
              "4    Naroko     61"
            ]
          },
          "metadata": {
            "tags": []
          },
          "execution_count": 5
        }
      ]
    },
    {
      "cell_type": "code",
      "metadata": {
        "id": "QrOLB6WXUniz",
        "colab": {
          "base_uri": "https://localhost:8080/",
          "height": 199
        },
        "outputId": "3cb1438e-c84d-4c54-a962-a9fa9fc0ca98"
      },
      "source": [
        "# Example 4: \n",
        "# Fix typos: Strings can be entered in many different ways, and no wonder they can have mistakes.\n",
        "#\n",
        "\n",
        "# If you want to replace certain words - \"Naroko\" with \"Narok\"\n",
        "df1['County'] = df1['County'].str.replace('Naroko', 'Narok')\n",
        "\n",
        "df1 "
      ],
      "execution_count": 6,
      "outputs": [
        {
          "output_type": "execute_result",
          "data": {
            "text/html": [
              "<div>\n",
              "<style scoped>\n",
              "    .dataframe tbody tr th:only-of-type {\n",
              "        vertical-align: middle;\n",
              "    }\n",
              "\n",
              "    .dataframe tbody tr th {\n",
              "        vertical-align: top;\n",
              "    }\n",
              "\n",
              "    .dataframe thead th {\n",
              "        text-align: right;\n",
              "    }\n",
              "</style>\n",
              "<table border=\"1\" class=\"dataframe\">\n",
              "  <thead>\n",
              "    <tr style=\"text-align: right;\">\n",
              "      <th></th>\n",
              "      <th>County</th>\n",
              "      <th>Score</th>\n",
              "    </tr>\n",
              "  </thead>\n",
              "  <tbody>\n",
              "    <tr>\n",
              "      <th>0</th>\n",
              "      <td>Nairobi</td>\n",
              "      <td>73</td>\n",
              "    </tr>\n",
              "    <tr>\n",
              "      <th>1</th>\n",
              "      <td>Machakos</td>\n",
              "      <td>83</td>\n",
              "    </tr>\n",
              "    <tr>\n",
              "      <th>2</th>\n",
              "      <td>Kisumu</td>\n",
              "      <td>75</td>\n",
              "    </tr>\n",
              "    <tr>\n",
              "      <th>3</th>\n",
              "      <td>Nakuru</td>\n",
              "      <td>84</td>\n",
              "    </tr>\n",
              "    <tr>\n",
              "      <th>4</th>\n",
              "      <td>Narok</td>\n",
              "      <td>61</td>\n",
              "    </tr>\n",
              "  </tbody>\n",
              "</table>\n",
              "</div>"
            ],
            "text/plain": [
              "     County  Score\n",
              "0   Nairobi     73\n",
              "1  Machakos     83\n",
              "2    Kisumu     75\n",
              "3    Nakuru     84\n",
              "4     Narok     61"
            ]
          },
          "metadata": {
            "tags": []
          },
          "execution_count": 6
        }
      ]
    },
    {
      "cell_type": "markdown",
      "metadata": {
        "id": "xPMbJS341V-W"
      },
      "source": [
        "In this section, we also handle outliers in our datasets. Examples of challenges of identify and handling outliers can be found in a different session."
      ]
    },
    {
      "cell_type": "markdown",
      "metadata": {
        "id": "Y7Dgv6QeG-tw"
      },
      "source": [
        "### <font color=\"green\">1.1 Challenges</font>"
      ]
    },
    {
      "cell_type": "code",
      "metadata": {
        "id": "q7UiUX92HD7P",
        "colab": {
          "base_uri": "https://localhost:8080/",
          "height": 0
        },
        "outputId": "b831fda4-0464-46e2-8963-89eea8996648"
      },
      "source": [
        "# Challenge 1\n",
        "# We have been given the following dataset to work with\n",
        "url ='http://bit.ly/MSOriginOfRefugees'\n",
        "# and we will be answering the following question;\n",
        "# Which territories of origin had the highest no. of refugees from the year 2005 - 2010?\n",
        "# Provide the relevant data for your analysis below. \n",
        "# NB: We are only expected to clean our data. Once finished compare answers with other classmates. \n",
        "#\n",
        "dff = pd.read_csv(url)\n",
        "dff.drop(['Country Code'], axis=1, inplace=True)\n",
        "dff"
      ],
      "execution_count": 7,
      "outputs": [
        {
          "output_type": "execute_result",
          "data": {
            "text/html": [
              "<div>\n",
              "<style scoped>\n",
              "    .dataframe tbody tr th:only-of-type {\n",
              "        vertical-align: middle;\n",
              "    }\n",
              "\n",
              "    .dataframe tbody tr th {\n",
              "        vertical-align: top;\n",
              "    }\n",
              "\n",
              "    .dataframe thead th {\n",
              "        text-align: right;\n",
              "    }\n",
              "</style>\n",
              "<table border=\"1\" class=\"dataframe\">\n",
              "  <thead>\n",
              "    <tr style=\"text-align: right;\">\n",
              "      <th></th>\n",
              "      <th>Country Name</th>\n",
              "      <th>Year</th>\n",
              "      <th>Value</th>\n",
              "    </tr>\n",
              "  </thead>\n",
              "  <tbody>\n",
              "    <tr>\n",
              "      <th>0</th>\n",
              "      <td>Arab World</td>\n",
              "      <td>1990</td>\n",
              "      <td>2212498</td>\n",
              "    </tr>\n",
              "    <tr>\n",
              "      <th>1</th>\n",
              "      <td>Arab World</td>\n",
              "      <td>1991</td>\n",
              "      <td>2408680</td>\n",
              "    </tr>\n",
              "    <tr>\n",
              "      <th>2</th>\n",
              "      <td>Arab World</td>\n",
              "      <td>1992</td>\n",
              "      <td>2614885</td>\n",
              "    </tr>\n",
              "    <tr>\n",
              "      <th>3</th>\n",
              "      <td>Arab World</td>\n",
              "      <td>1993</td>\n",
              "      <td>1906599</td>\n",
              "    </tr>\n",
              "    <tr>\n",
              "      <th>4</th>\n",
              "      <td>Arab World</td>\n",
              "      <td>1994</td>\n",
              "      <td>2001784</td>\n",
              "    </tr>\n",
              "    <tr>\n",
              "      <th>...</th>\n",
              "      <td>...</td>\n",
              "      <td>...</td>\n",
              "      <td>...</td>\n",
              "    </tr>\n",
              "    <tr>\n",
              "      <th>6003</th>\n",
              "      <td>Zimbabwe</td>\n",
              "      <td>2012</td>\n",
              "      <td>22101</td>\n",
              "    </tr>\n",
              "    <tr>\n",
              "      <th>6004</th>\n",
              "      <td>Zimbabwe</td>\n",
              "      <td>2013</td>\n",
              "      <td>19734</td>\n",
              "    </tr>\n",
              "    <tr>\n",
              "      <th>6005</th>\n",
              "      <td>Zimbabwe</td>\n",
              "      <td>2014</td>\n",
              "      <td>22492</td>\n",
              "    </tr>\n",
              "    <tr>\n",
              "      <th>6006</th>\n",
              "      <td>Zimbabwe</td>\n",
              "      <td>2015</td>\n",
              "      <td>21344</td>\n",
              "    </tr>\n",
              "    <tr>\n",
              "      <th>6007</th>\n",
              "      <td>Zimbabwe</td>\n",
              "      <td>2016</td>\n",
              "      <td>18116</td>\n",
              "    </tr>\n",
              "  </tbody>\n",
              "</table>\n",
              "<p>6008 rows × 3 columns</p>\n",
              "</div>"
            ],
            "text/plain": [
              "     Country Name  Year    Value\n",
              "0      Arab World  1990  2212498\n",
              "1      Arab World  1991  2408680\n",
              "2      Arab World  1992  2614885\n",
              "3      Arab World  1993  1906599\n",
              "4      Arab World  1994  2001784\n",
              "...           ...   ...      ...\n",
              "6003     Zimbabwe  2012    22101\n",
              "6004     Zimbabwe  2013    19734\n",
              "6005     Zimbabwe  2014    22492\n",
              "6006     Zimbabwe  2015    21344\n",
              "6007     Zimbabwe  2016    18116\n",
              "\n",
              "[6008 rows x 3 columns]"
            ]
          },
          "metadata": {
            "tags": []
          },
          "execution_count": 7
        }
      ]
    },
    {
      "cell_type": "code",
      "metadata": {
        "id": "Lq8ktZgxHIww",
        "colab": {
          "base_uri": "https://localhost:8080/",
          "height": 0
        },
        "outputId": "e6a84b0a-b5fb-4f5b-8acc-365dffe6e58b"
      },
      "source": [
        "# Challenge 2\n",
        "# Use the lstrip() function of .str method to check the variables with the leading and trailing spaces.\n",
        "# of the given NBA dataset below. \n",
        "# Later, strip those leading and trailing spaces in the identified variables.\n",
        "url ='http://bit.ly/MSDS-NBADataset'\n",
        "# \n",
        "df = pd.read_csv(url)\n",
        "df[['Name', 'Team','Position', 'College']] \n",
        "df['Name'] = df['Name'].str.strip()\n",
        "df['Team'] = df['Team'].str.strip()\n",
        "df['Position'] = df['Position'].str.strip()\n",
        "df['College'] = df['College'].str.strip()\n",
        "df.head(10)"
      ],
      "execution_count": 8,
      "outputs": [
        {
          "output_type": "execute_result",
          "data": {
            "text/html": [
              "<div>\n",
              "<style scoped>\n",
              "    .dataframe tbody tr th:only-of-type {\n",
              "        vertical-align: middle;\n",
              "    }\n",
              "\n",
              "    .dataframe tbody tr th {\n",
              "        vertical-align: top;\n",
              "    }\n",
              "\n",
              "    .dataframe thead th {\n",
              "        text-align: right;\n",
              "    }\n",
              "</style>\n",
              "<table border=\"1\" class=\"dataframe\">\n",
              "  <thead>\n",
              "    <tr style=\"text-align: right;\">\n",
              "      <th></th>\n",
              "      <th>Name</th>\n",
              "      <th>Team</th>\n",
              "      <th>Number</th>\n",
              "      <th>Position</th>\n",
              "      <th>Age</th>\n",
              "      <th>Height</th>\n",
              "      <th>Weight</th>\n",
              "      <th>College</th>\n",
              "      <th>Salary</th>\n",
              "    </tr>\n",
              "  </thead>\n",
              "  <tbody>\n",
              "    <tr>\n",
              "      <th>0</th>\n",
              "      <td>Avery Bradley</td>\n",
              "      <td>Boston Celtics</td>\n",
              "      <td>0.0</td>\n",
              "      <td>PG</td>\n",
              "      <td>25.0</td>\n",
              "      <td>6-2</td>\n",
              "      <td>180.0</td>\n",
              "      <td>Texas</td>\n",
              "      <td>7730337.0</td>\n",
              "    </tr>\n",
              "    <tr>\n",
              "      <th>1</th>\n",
              "      <td>Jae Crowder</td>\n",
              "      <td>Boston Celtics</td>\n",
              "      <td>99.0</td>\n",
              "      <td>SF</td>\n",
              "      <td>25.0</td>\n",
              "      <td>6-6</td>\n",
              "      <td>235.0</td>\n",
              "      <td>Marquette</td>\n",
              "      <td>6796117.0</td>\n",
              "    </tr>\n",
              "    <tr>\n",
              "      <th>2</th>\n",
              "      <td>John Holland</td>\n",
              "      <td>Boston Celtics</td>\n",
              "      <td>30.0</td>\n",
              "      <td>SG</td>\n",
              "      <td>27.0</td>\n",
              "      <td>6-5</td>\n",
              "      <td>205.0</td>\n",
              "      <td>Boston University</td>\n",
              "      <td>NaN</td>\n",
              "    </tr>\n",
              "    <tr>\n",
              "      <th>3</th>\n",
              "      <td>R.J. Hunter</td>\n",
              "      <td>Boston Celtics</td>\n",
              "      <td>28.0</td>\n",
              "      <td>SG</td>\n",
              "      <td>22.0</td>\n",
              "      <td>6-5</td>\n",
              "      <td>185.0</td>\n",
              "      <td>Georgia State</td>\n",
              "      <td>1148640.0</td>\n",
              "    </tr>\n",
              "    <tr>\n",
              "      <th>4</th>\n",
              "      <td>Jonas Jerebko</td>\n",
              "      <td>Boston Celtics</td>\n",
              "      <td>8.0</td>\n",
              "      <td>PF</td>\n",
              "      <td>29.0</td>\n",
              "      <td>6-10</td>\n",
              "      <td>231.0</td>\n",
              "      <td>NaN</td>\n",
              "      <td>5000000.0</td>\n",
              "    </tr>\n",
              "    <tr>\n",
              "      <th>5</th>\n",
              "      <td>Amir Johnson</td>\n",
              "      <td>Boston Celtics</td>\n",
              "      <td>90.0</td>\n",
              "      <td>PF</td>\n",
              "      <td>29.0</td>\n",
              "      <td>6-9</td>\n",
              "      <td>240.0</td>\n",
              "      <td>NaN</td>\n",
              "      <td>12000000.0</td>\n",
              "    </tr>\n",
              "    <tr>\n",
              "      <th>6</th>\n",
              "      <td>Jordan Mickey</td>\n",
              "      <td>Boston Celtics</td>\n",
              "      <td>55.0</td>\n",
              "      <td>PF</td>\n",
              "      <td>21.0</td>\n",
              "      <td>6-8</td>\n",
              "      <td>235.0</td>\n",
              "      <td>LSU</td>\n",
              "      <td>1170960.0</td>\n",
              "    </tr>\n",
              "    <tr>\n",
              "      <th>7</th>\n",
              "      <td>Kelly Olynyk</td>\n",
              "      <td>Boston Celtics</td>\n",
              "      <td>41.0</td>\n",
              "      <td>C</td>\n",
              "      <td>25.0</td>\n",
              "      <td>7-0</td>\n",
              "      <td>238.0</td>\n",
              "      <td>Gonzaga</td>\n",
              "      <td>2165160.0</td>\n",
              "    </tr>\n",
              "    <tr>\n",
              "      <th>8</th>\n",
              "      <td>Terry Rozier</td>\n",
              "      <td>Boston Celtics</td>\n",
              "      <td>12.0</td>\n",
              "      <td>PG</td>\n",
              "      <td>22.0</td>\n",
              "      <td>6-2</td>\n",
              "      <td>190.0</td>\n",
              "      <td>Louisville</td>\n",
              "      <td>1824360.0</td>\n",
              "    </tr>\n",
              "    <tr>\n",
              "      <th>9</th>\n",
              "      <td>Marcus Smart</td>\n",
              "      <td>Boston Celtics</td>\n",
              "      <td>36.0</td>\n",
              "      <td>PG</td>\n",
              "      <td>22.0</td>\n",
              "      <td>6-4</td>\n",
              "      <td>220.0</td>\n",
              "      <td>Oklahoma State</td>\n",
              "      <td>3431040.0</td>\n",
              "    </tr>\n",
              "  </tbody>\n",
              "</table>\n",
              "</div>"
            ],
            "text/plain": [
              "            Name            Team  Number  ... Weight            College      Salary\n",
              "0  Avery Bradley  Boston Celtics     0.0  ...  180.0              Texas   7730337.0\n",
              "1    Jae Crowder  Boston Celtics    99.0  ...  235.0          Marquette   6796117.0\n",
              "2   John Holland  Boston Celtics    30.0  ...  205.0  Boston University         NaN\n",
              "3    R.J. Hunter  Boston Celtics    28.0  ...  185.0      Georgia State   1148640.0\n",
              "4  Jonas Jerebko  Boston Celtics     8.0  ...  231.0                NaN   5000000.0\n",
              "5   Amir Johnson  Boston Celtics    90.0  ...  240.0                NaN  12000000.0\n",
              "6  Jordan Mickey  Boston Celtics    55.0  ...  235.0                LSU   1170960.0\n",
              "7   Kelly Olynyk  Boston Celtics    41.0  ...  238.0            Gonzaga   2165160.0\n",
              "8   Terry Rozier  Boston Celtics    12.0  ...  190.0         Louisville   1824360.0\n",
              "9   Marcus Smart  Boston Celtics    36.0  ...  220.0     Oklahoma State   3431040.0\n",
              "\n",
              "[10 rows x 9 columns]"
            ]
          },
          "metadata": {
            "tags": []
          },
          "execution_count": 8
        }
      ]
    },
    {
      "cell_type": "code",
      "metadata": {
        "id": "YOohec0jHL4-",
        "colab": {
          "base_uri": "https://localhost:8080/",
          "height": 0
        },
        "outputId": "e43124fa-e336-42af-c48d-4f61b927b3e0"
      },
      "source": [
        "# Challenge 3\n",
        "# Remove the text [edit] at the end of the university towns use sing the replace() function of the .str method\n",
        "# Use the following dataset; \n",
        "url = 'http://bit.ly/MSUniversityTown'\n",
        "#\n",
        "df = pd.read_csv(url, sep='\\t')\n",
        "df['Alabama[edit]'].str.replace(r'\\D', '')\n",
        "df"
      ],
      "execution_count": 9,
      "outputs": [
        {
          "output_type": "execute_result",
          "data": {
            "text/html": [
              "<div>\n",
              "<style scoped>\n",
              "    .dataframe tbody tr th:only-of-type {\n",
              "        vertical-align: middle;\n",
              "    }\n",
              "\n",
              "    .dataframe tbody tr th {\n",
              "        vertical-align: top;\n",
              "    }\n",
              "\n",
              "    .dataframe thead th {\n",
              "        text-align: right;\n",
              "    }\n",
              "</style>\n",
              "<table border=\"1\" class=\"dataframe\">\n",
              "  <thead>\n",
              "    <tr style=\"text-align: right;\">\n",
              "      <th></th>\n",
              "      <th>Alabama[edit]</th>\n",
              "    </tr>\n",
              "  </thead>\n",
              "  <tbody>\n",
              "    <tr>\n",
              "      <th>0</th>\n",
              "      <td>Auburn (Auburn University)[1]</td>\n",
              "    </tr>\n",
              "    <tr>\n",
              "      <th>1</th>\n",
              "      <td>Florence (University of North Alabama)</td>\n",
              "    </tr>\n",
              "    <tr>\n",
              "      <th>2</th>\n",
              "      <td>Jacksonville (Jacksonville State University)[2]</td>\n",
              "    </tr>\n",
              "    <tr>\n",
              "      <th>3</th>\n",
              "      <td>Livingston (University of West Alabama)[2]</td>\n",
              "    </tr>\n",
              "    <tr>\n",
              "      <th>4</th>\n",
              "      <td>Montevallo (University of Montevallo)[2]</td>\n",
              "    </tr>\n",
              "    <tr>\n",
              "      <th>...</th>\n",
              "      <td>...</td>\n",
              "    </tr>\n",
              "    <tr>\n",
              "      <th>561</th>\n",
              "      <td>Stevens Point (University of Wisconsin–Stevens...</td>\n",
              "    </tr>\n",
              "    <tr>\n",
              "      <th>562</th>\n",
              "      <td>Waukesha (Carroll University)</td>\n",
              "    </tr>\n",
              "    <tr>\n",
              "      <th>563</th>\n",
              "      <td>Whitewater (University of Wisconsin–Whitewater...</td>\n",
              "    </tr>\n",
              "    <tr>\n",
              "      <th>564</th>\n",
              "      <td>Wyoming[edit]</td>\n",
              "    </tr>\n",
              "    <tr>\n",
              "      <th>565</th>\n",
              "      <td>Laramie (University of Wyoming)[5]</td>\n",
              "    </tr>\n",
              "  </tbody>\n",
              "</table>\n",
              "<p>566 rows × 1 columns</p>\n",
              "</div>"
            ],
            "text/plain": [
              "                                         Alabama[edit]\n",
              "0                        Auburn (Auburn University)[1]\n",
              "1               Florence (University of North Alabama)\n",
              "2      Jacksonville (Jacksonville State University)[2]\n",
              "3           Livingston (University of West Alabama)[2]\n",
              "4             Montevallo (University of Montevallo)[2]\n",
              "..                                                 ...\n",
              "561  Stevens Point (University of Wisconsin–Stevens...\n",
              "562                      Waukesha (Carroll University)\n",
              "563  Whitewater (University of Wisconsin–Whitewater...\n",
              "564                                      Wyoming[edit]\n",
              "565                 Laramie (University of Wyoming)[5]\n",
              "\n",
              "[566 rows x 1 columns]"
            ]
          },
          "metadata": {
            "tags": []
          },
          "execution_count": 9
        }
      ]
    },
    {
      "cell_type": "markdown",
      "metadata": {
        "id": "zxpZyP9yxlzl"
      },
      "source": [
        "## 1.2 Accuracy"
      ]
    },
    {
      "cell_type": "markdown",
      "metadata": {
        "id": "PQ8DPOj4HGtQ"
      },
      "source": [
        "### <font color=\"green\">1.2 Challenge</font>"
      ]
    },
    {
      "cell_type": "code",
      "metadata": {
        "id": "zLGcCGXDxoKE",
        "colab": {
          "base_uri": "https://localhost:8080/",
          "height": 549
        },
        "outputId": "c26cff52-4412-43eb-a71b-4c3cb0902a07"
      },
      "source": [
        "# Challenge 1: In-record & cross-datasets errors\n",
        "# These errors result from having two or more values in the same row or across \n",
        "# datasets that contradict with each other. \n",
        "# For example, if we have a dataset about the cost of living in cities. \n",
        "# The total column must be equivalent to the sum of rent, transport, and food. \n",
        "# Similarly, a child can’t be married. An employee’s salary can’t be less than the calculated taxes etc.\n",
        "# Using the given dataset below, determine and fix errors where the total population is not a sum of\n",
        "# total male population and total female population \n",
        "url = 'http://bit.ly/MSPopulationDistribution'\n",
        "# Hint: Review Pandas Basics \n",
        "# \n",
        "\n",
        "df = pd.read_csv(url)\n",
        "df.head(4)\n"
      ],
      "execution_count": 16,
      "outputs": [
        {
          "output_type": "execute_result",
          "data": {
            "text/html": [
              "<div>\n",
              "<style scoped>\n",
              "    .dataframe tbody tr th:only-of-type {\n",
              "        vertical-align: middle;\n",
              "    }\n",
              "\n",
              "    .dataframe tbody tr th {\n",
              "        vertical-align: top;\n",
              "    }\n",
              "\n",
              "    .dataframe thead th {\n",
              "        text-align: right;\n",
              "    }\n",
              "</style>\n",
              "<table border=\"1\" class=\"dataframe\">\n",
              "  <thead>\n",
              "    <tr style=\"text-align: right;\">\n",
              "      <th></th>\n",
              "      <th>Urban_Center</th>\n",
              "      <th>District</th>\n",
              "      <th>Status</th>\n",
              "      <th>Core-Urban_Male_Population</th>\n",
              "      <th>Core-Urban_Female_Population</th>\n",
              "      <th>Total_Core-Urban_Population</th>\n",
              "      <th>Peri-Urban_Male_Population</th>\n",
              "      <th>Peri-Urban_Female_Population</th>\n",
              "      <th>Total_Peri-Urban_Population</th>\n",
              "      <th>Rural_Male_Population</th>\n",
              "      <th>Rural_Female_Population</th>\n",
              "      <th>Total_Rural_Population</th>\n",
              "      <th>Total_Male_Population</th>\n",
              "      <th>Total_Female_Population</th>\n",
              "      <th>Total_Population</th>\n",
              "      <th>OBJECTID</th>\n",
              "    </tr>\n",
              "  </thead>\n",
              "  <tbody>\n",
              "    <tr>\n",
              "      <th>0</th>\n",
              "      <td>NAIROBI</td>\n",
              "      <td>Nairobi East/West/North/Westlands</td>\n",
              "      <td>City</td>\n",
              "      <td>1602104</td>\n",
              "      <td>1531414</td>\n",
              "      <td>3133518</td>\n",
              "      <td>NaN</td>\n",
              "      <td>NaN</td>\n",
              "      <td>NaN</td>\n",
              "      <td>NaN</td>\n",
              "      <td>NaN</td>\n",
              "      <td>NaN</td>\n",
              "      <td>1602104</td>\n",
              "      <td>1531414</td>\n",
              "      <td>3133518</td>\n",
              "      <td>0</td>\n",
              "    </tr>\n",
              "    <tr>\n",
              "      <th>1</th>\n",
              "      <td>MOMBASA</td>\n",
              "      <td>Mombasa/Kilindini</td>\n",
              "      <td>City</td>\n",
              "      <td>473433</td>\n",
              "      <td>441668</td>\n",
              "      <td>915101</td>\n",
              "      <td>12775.0</td>\n",
              "      <td>10255.0</td>\n",
              "      <td>23030.0</td>\n",
              "      <td>NaN</td>\n",
              "      <td>NaN</td>\n",
              "      <td>NaN</td>\n",
              "      <td>486208</td>\n",
              "      <td>451923</td>\n",
              "      <td>938131</td>\n",
              "      <td>1</td>\n",
              "    </tr>\n",
              "    <tr>\n",
              "      <th>2</th>\n",
              "      <td>KISUMU</td>\n",
              "      <td>Kisumu East/West/Nyando</td>\n",
              "      <td>City</td>\n",
              "      <td>131062</td>\n",
              "      <td>128196</td>\n",
              "      <td>259258</td>\n",
              "      <td>62816.0</td>\n",
              "      <td>66237.0</td>\n",
              "      <td>129053.0</td>\n",
              "      <td>10356.0</td>\n",
              "      <td>11261.0</td>\n",
              "      <td>21617.0</td>\n",
              "      <td>204234</td>\n",
              "      <td>205694</td>\n",
              "      <td>409928</td>\n",
              "      <td>2</td>\n",
              "    </tr>\n",
              "    <tr>\n",
              "      <th>3</th>\n",
              "      <td>NAKURU</td>\n",
              "      <td>Nakuru/Nakuru North</td>\n",
              "      <td>Municipality</td>\n",
              "      <td>145038</td>\n",
              "      <td>141373</td>\n",
              "      <td>286411</td>\n",
              "      <td>10843.0</td>\n",
              "      <td>10736.0</td>\n",
              "      <td>21579.0</td>\n",
              "      <td>NaN</td>\n",
              "      <td>NaN</td>\n",
              "      <td>NaN</td>\n",
              "      <td>155881</td>\n",
              "      <td>152109</td>\n",
              "      <td>307990</td>\n",
              "      <td>3</td>\n",
              "    </tr>\n",
              "    <tr>\n",
              "      <th>4</th>\n",
              "      <td>ELDORET</td>\n",
              "      <td>Eldoret East/West/Wareng</td>\n",
              "      <td>Municipality</td>\n",
              "      <td>127808</td>\n",
              "      <td>124253</td>\n",
              "      <td>252061</td>\n",
              "      <td>18788.0</td>\n",
              "      <td>18531.0</td>\n",
              "      <td>37319.0</td>\n",
              "      <td>NaN</td>\n",
              "      <td>NaN</td>\n",
              "      <td>NaN</td>\n",
              "      <td>146596</td>\n",
              "      <td>142784</td>\n",
              "      <td>289380</td>\n",
              "      <td>4</td>\n",
              "    </tr>\n",
              "    <tr>\n",
              "      <th>...</th>\n",
              "      <td>...</td>\n",
              "      <td>...</td>\n",
              "      <td>...</td>\n",
              "      <td>...</td>\n",
              "      <td>...</td>\n",
              "      <td>...</td>\n",
              "      <td>...</td>\n",
              "      <td>...</td>\n",
              "      <td>...</td>\n",
              "      <td>...</td>\n",
              "      <td>...</td>\n",
              "      <td>...</td>\n",
              "      <td>...</td>\n",
              "      <td>...</td>\n",
              "      <td>...</td>\n",
              "      <td>...</td>\n",
              "    </tr>\n",
              "    <tr>\n",
              "      <th>210</th>\n",
              "      <td>SOTIK</td>\n",
              "      <td>Sotik</td>\n",
              "      <td>Town Council</td>\n",
              "      <td>2734</td>\n",
              "      <td>2486</td>\n",
              "      <td>5220</td>\n",
              "      <td>1603.0</td>\n",
              "      <td>1543.0</td>\n",
              "      <td>3146.0</td>\n",
              "      <td>6897.0</td>\n",
              "      <td>6734.0</td>\n",
              "      <td>13631.0</td>\n",
              "      <td>11234</td>\n",
              "      <td>10763</td>\n",
              "      <td>21997</td>\n",
              "      <td>210</td>\n",
              "    </tr>\n",
              "    <tr>\n",
              "      <th>211</th>\n",
              "      <td>PORT VICTORIA</td>\n",
              "      <td>Bunyala</td>\n",
              "      <td>Town Council</td>\n",
              "      <td>3101</td>\n",
              "      <td>3460</td>\n",
              "      <td>6561</td>\n",
              "      <td>NaN</td>\n",
              "      <td>NaN</td>\n",
              "      <td>NaN</td>\n",
              "      <td>7337.0</td>\n",
              "      <td>7803.0</td>\n",
              "      <td>15140.0</td>\n",
              "      <td>10438</td>\n",
              "      <td>11263</td>\n",
              "      <td>21701</td>\n",
              "      <td>211</td>\n",
              "    </tr>\n",
              "    <tr>\n",
              "      <th>212</th>\n",
              "      <td>OTHAYA</td>\n",
              "      <td>Nyeri South</td>\n",
              "      <td>Town Council</td>\n",
              "      <td>2385</td>\n",
              "      <td>2752</td>\n",
              "      <td>5137</td>\n",
              "      <td>NaN</td>\n",
              "      <td>NaN</td>\n",
              "      <td>NaN</td>\n",
              "      <td>6589.0</td>\n",
              "      <td>7217.0</td>\n",
              "      <td>13806.0</td>\n",
              "      <td>8974</td>\n",
              "      <td>9969</td>\n",
              "      <td>18943</td>\n",
              "      <td>212</td>\n",
              "    </tr>\n",
              "    <tr>\n",
              "      <th>213</th>\n",
              "      <td>KAJIADO</td>\n",
              "      <td>Kajiado Central</td>\n",
              "      <td>Town Council</td>\n",
              "      <td>7458</td>\n",
              "      <td>7173</td>\n",
              "      <td>14631</td>\n",
              "      <td>107.0</td>\n",
              "      <td>122.0</td>\n",
              "      <td>229.0</td>\n",
              "      <td>1718.0</td>\n",
              "      <td>1703.0</td>\n",
              "      <td>3421.0</td>\n",
              "      <td>9283</td>\n",
              "      <td>8998</td>\n",
              "      <td>18281</td>\n",
              "      <td>213</td>\n",
              "    </tr>\n",
              "    <tr>\n",
              "      <th>214</th>\n",
              "      <td>WOTE</td>\n",
              "      <td>Makueni</td>\n",
              "      <td>Town Council</td>\n",
              "      <td>4887</td>\n",
              "      <td>4988</td>\n",
              "      <td>9875</td>\n",
              "      <td>NaN</td>\n",
              "      <td>NaN</td>\n",
              "      <td>NaN</td>\n",
              "      <td>NaN</td>\n",
              "      <td>NaN</td>\n",
              "      <td>NaN</td>\n",
              "      <td>4887</td>\n",
              "      <td>4988</td>\n",
              "      <td>9875</td>\n",
              "      <td>214</td>\n",
              "    </tr>\n",
              "  </tbody>\n",
              "</table>\n",
              "<p>215 rows × 16 columns</p>\n",
              "</div>"
            ],
            "text/plain": [
              "      Urban_Center  ... OBJECTID\n",
              "0          NAIROBI  ...        0\n",
              "1          MOMBASA  ...        1\n",
              "2           KISUMU  ...        2\n",
              "3           NAKURU  ...        3\n",
              "4          ELDORET  ...        4\n",
              "..             ...  ...      ...\n",
              "210          SOTIK  ...      210\n",
              "211  PORT VICTORIA  ...      211\n",
              "212         OTHAYA  ...      212\n",
              "213        KAJIADO  ...      213\n",
              "214           WOTE  ...      214\n",
              "\n",
              "[215 rows x 16 columns]"
            ]
          },
          "metadata": {
            "tags": []
          },
          "execution_count": 16
        }
      ]
    },
    {
      "cell_type": "markdown",
      "metadata": {
        "id": "vPXKeupMxvT3"
      },
      "source": [
        "## 1.3 Completeness"
      ]
    },
    {
      "cell_type": "code",
      "metadata": {
        "id": "lmS8QbRnxy5m"
      },
      "source": [
        "# Example 1: Checking/ Counting Missing Values \n",
        "# \n",
        "\n",
        "# Creating a dataframe to work with\n",
        "# df1 = {\n",
        "#     'Subject':['Humanities', 'Physical Education', 'Home Science', 'Mathematics', 'Physics',\n",
        "#                'Chemistry','Arts'],\n",
        "#    'Score':[62, 47, np.nan, 74, np.nan, 77, 85]}\n",
        " \n",
        "# df1 = pd.DataFrame(df1,columns=['Subject','Score'])\n",
        "\n",
        "# print(df1)\n",
        "\n",
        "# Checking if there is any missing value in dataframe as a whole\n",
        "# Uncomment the following line after running the previous lines\n",
        "# df1.isnull()\n",
        "\n",
        "# Checking if there is any missing value across each column\n",
        "# Uncomment the following line after running the previous lines\n",
        "# df1.isnull().any()\n",
        "\n",
        "# Checking how many missing values there are across each column\n",
        "# Uncomment the following line after running the previous lines\n",
        "# df1.isnull().sum()\n",
        "\n",
        "# Or we can do a quick check to see if we have any missing values at all\n",
        "# Uncomment the following line after running the previous lines\n",
        "# print(df1.isnull().values.any())\n",
        "\n",
        "# We might also want to get a total count of missing values\n",
        "# Uncomment the following line after running the previous lines\n",
        "print(df1.isnull().sum().sum())"
      ],
      "execution_count": null,
      "outputs": []
    },
    {
      "cell_type": "code",
      "metadata": {
        "id": "zGDJy7rYiZOt"
      },
      "source": [
        "# Example 2: Dropping Missing Values \n",
        "# If there are only a few null values and you know that deleting values \n",
        "# will not cause adverse effects on your result, \n",
        "# remove them from your DataFrame and store that in a new DataFrame\n",
        "\n",
        "# Droppping all \n",
        "# Uncomment the following 2 lines after running the previous lines\n",
        "clean_df = df1.dropna()\n",
        "print(clean_df)\n",
        "\n",
        "# Verifying that you no longer have any null values by running \n",
        "# Uncomment the following line after running the previous lines\n",
        "print(clean_df.isnull().sum())"
      ],
      "execution_count": null,
      "outputs": []
    },
    {
      "cell_type": "code",
      "metadata": {
        "id": "Vg0NXacDkkb3"
      },
      "source": [
        "# Exmaple 2: Dropping instances/records/rows with NA missing values \n",
        "# \n",
        "\n",
        "# Dropping all rows with any NA values \n",
        "# all_rows_any_na = df1.dropna()\n",
        "# print(all_rows_any_na)\n",
        "\n",
        "# Dropping all rows that have all NA values\n",
        "# Uncomment the 2 lines below after running the previous lines\n",
        "# all_rows_all_na = df1.dropna(how=\"all\")\n",
        "# print(all_rows_all_na)\n",
        "\n",
        "# We can also put a limitation on how many non-null values need to be in a row \n",
        "# we can retain the data that has at least 2 non-null values as shown below\n",
        "# Uncomment the 2 lines below after running the previous lines\n",
        "df1_thresh = df1.dropna(thresh=2)\n",
        "print(df1_thresh)"
      ],
      "execution_count": null,
      "outputs": []
    },
    {
      "cell_type": "code",
      "metadata": {
        "id": "nci4gXJb1u21",
        "colab": {
          "base_uri": "https://localhost:8080/"
        },
        "outputId": "eeb02c28-a125-4325-f6a5-c43981368b2a"
      },
      "source": [
        "# Example 2: Missing Values\n",
        "# Dropping attributes (variables/columns)\n",
        "# We can apply the same kind of criteria to our columns. \n",
        "# We just need to use the parameter axis=1 in our code. \n",
        "# That means to operate on columns, not rows. \n",
        "# (We could have used axis=0 in our row examples, \n",
        "# but it is 0 by default if you don’t enter anything.)\n",
        "# \n",
        "\n",
        "# Dropping all attributes with any NA values\n",
        "# \n",
        "# all_cols_any_na = df1.dropna(axis=1)\n",
        "# print(all_cols_any_na)\n",
        "\n",
        "# Dropping all attributes that have all NA values\n",
        "# Uncomment the 2 lines below\n",
        "\n",
        "# all_cols_all_na = df1.dropna(axis=1, how=\"all\")\n",
        "# print(all_cols_all_na)\n",
        "\n",
        "# We can also put a limitation on how many non-null values need to be in a attributes \n",
        "# we can retain the data that has at least 2 non-null values as shown below\n",
        "# Uncomment the 2 lines below\n",
        "df1_thresh = df1.dropna(thresh=2)\n",
        "print(df1_thresh)"
      ],
      "execution_count": 13,
      "outputs": [
        {
          "output_type": "stream",
          "text": [
            "     County  Score\n",
            "0   Nairobi     73\n",
            "1  Machakos     83\n",
            "2    Kisumu     75\n",
            "3    Nakuru     84\n",
            "4     Narok     61\n"
          ],
          "name": "stdout"
        }
      ]
    },
    {
      "cell_type": "code",
      "metadata": {
        "id": "UHD7y5ti10Am",
        "colab": {
          "base_uri": "https://localhost:8080/"
        },
        "outputId": "3fdbc8e5-2243-46ca-d5d3-19f9814564e0"
      },
      "source": [
        "# Example 3: Missing Values\n",
        "# Imputing the attribute mean for all missing values\n",
        "# Mean imputation replaces missing values with the mean value of that feature/variable. \n",
        "# Mean imputation is one of the most ‘naive’ imputation methods \n",
        "# because unlike more complex methods like k-nearest neighbors imputation, \n",
        "# it does not use the information we have about an observation to estimate a value for it.\n",
        "\n",
        "# Creating a dataframe to work with\n",
        "subjects_df_mean = {\n",
        "    'Subject':['Humanities', 'Physical Education', 'Home Science', 'Mathematics', 'Physics',\n",
        "               'Chemistry','Arts'],\n",
        "   'Score':[62, 47, np.nan, 74, np.nan, 77, 85]}\n",
        "subjects_df_mean = pd.DataFrame(subjects_df_mean,columns=['Subject','Score'])\n",
        "\n",
        "# printing our dataframe\n",
        "print(subjects_df_mean)\n",
        "\n",
        "# imputing the mean \n",
        "subjects_df_mean['Score'] = subjects_df_mean['Score'].fillna((subjects_df_mean['Score'].mean()))\n",
        "\n",
        "# printing out our updated dataframe\n",
        "print(subjects_df_mean) \n"
      ],
      "execution_count": 14,
      "outputs": [
        {
          "output_type": "stream",
          "text": [
            "              Subject  Score\n",
            "0          Humanities   62.0\n",
            "1  Physical Education   47.0\n",
            "2        Home Science    NaN\n",
            "3         Mathematics   74.0\n",
            "4             Physics    NaN\n",
            "5           Chemistry   77.0\n",
            "6                Arts   85.0\n",
            "              Subject  Score\n",
            "0          Humanities   62.0\n",
            "1  Physical Education   47.0\n",
            "2        Home Science   69.0\n",
            "3         Mathematics   74.0\n",
            "4             Physics   69.0\n",
            "5           Chemistry   77.0\n",
            "6                Arts   85.0\n"
          ],
          "name": "stdout"
        }
      ]
    },
    {
      "cell_type": "code",
      "metadata": {
        "id": "Xk9aj32K15B1",
        "colab": {
          "base_uri": "https://localhost:8080/"
        },
        "outputId": "c1f29588-60e5-457c-9be4-ec8b33fac531"
      },
      "source": [
        "# Example 4: Missing Values\n",
        "# Imputing the attribute median for all missing values\n",
        "# \n",
        "\n",
        "# Creating a dataframe to work with\n",
        "subjects_df_median = {\n",
        "    'Subject':['Humanities', 'Physical Education', 'Home Science', 'Mathematics', 'Physics',\n",
        "               'Chemistry','Arts'],\n",
        "   'Score':[62, 47, np.nan, 74, np.nan, 77, 85]}\n",
        "subjects_df_median = pd.DataFrame(subjects_df_median,columns=['Subject','Score'])\n",
        "\n",
        "# printing our dataframe\n",
        "print(subjects_df_median)\n",
        "\n",
        "# imputing the median \n",
        "subjects_df_median['Score'] = subjects_df_median['Score'].fillna((subjects_df_median['Score'].median()))\n",
        "\n",
        "# printing out our updated dataframe\n",
        "print(subjects_df_median) "
      ],
      "execution_count": 15,
      "outputs": [
        {
          "output_type": "stream",
          "text": [
            "              Subject  Score\n",
            "0          Humanities   62.0\n",
            "1  Physical Education   47.0\n",
            "2        Home Science    NaN\n",
            "3         Mathematics   74.0\n",
            "4             Physics    NaN\n",
            "5           Chemistry   77.0\n",
            "6                Arts   85.0\n",
            "              Subject  Score\n",
            "0          Humanities   62.0\n",
            "1  Physical Education   47.0\n",
            "2        Home Science   74.0\n",
            "3         Mathematics   74.0\n",
            "4             Physics   74.0\n",
            "5           Chemistry   77.0\n",
            "6                Arts   85.0\n"
          ],
          "name": "stdout"
        }
      ]
    },
    {
      "cell_type": "code",
      "metadata": {
        "id": "Fiz_Fl_u1_oh"
      },
      "source": [
        "# Example 5: Missing Values \n",
        "# Imputing the attribute mode for all missing values\n",
        "# \n",
        "# Creating a dataframe to work with\n",
        "subjects_df_mode = {\n",
        "    'Subject':['Humanities', 'Physical Education', 'Home Science', 'Mathematics', 'Physics',\n",
        "               'Chemistry','Arts'],\n",
        "   'Score':[62, 47, np.nan, 74, np.nan, 77, 85]}\n",
        "subjects_df_mode = pd.DataFrame(subjects_df_mode,columns=['Subject','Score'])\n",
        "\n",
        "# printing our dataframe\n",
        "print(subjects_df_mode)\n",
        "\n",
        "# imputing the mode \n",
        "subjects_df_mode['Score'] = subjects_df_mode['Score'].fillna((subjects_df_mode['Score'].mode()))\n",
        "\n",
        "# printing out our updated dataframe\n",
        "print(subjects_df_mode) "
      ],
      "execution_count": null,
      "outputs": []
    },
    {
      "cell_type": "code",
      "metadata": {
        "id": "uEpXn0qbP-Fd"
      },
      "source": [
        "# Example 6: Missing Values \n",
        "# Or maybe we just want to fill in missing values with a single value as shown below\n",
        "# \n",
        "\n",
        "df1 = {\n",
        "    'Subject':['Humanities', 'Physical Education', 'Home Science', 'Mathematics', 'Physics',\n",
        "               'Chemistry','Arts'],\n",
        "   'Score':[62, 47, np.nan, 74, np.nan, 77, 85]}\n",
        " \n",
        "df1 = pd.DataFrame(df1,columns=['Subject','Score'])\n",
        "\n",
        "# Replace missing values with a number\n",
        "df1['Score'].fillna(60, inplace=True)\n",
        "\n",
        "print(df1)"
      ],
      "execution_count": null,
      "outputs": []
    },
    {
      "cell_type": "code",
      "metadata": {
        "id": "JDIwtGtHSb48"
      },
      "source": [
        "# Example 7: Missing Values\n",
        "# Using the following property dataset, we will make a list of missing value types\n",
        "# then load our dataset below\n",
        "# \n",
        "\n",
        "# reading our dataset\n",
        "# property_dataset = pd.read_csv(\"http://bit.ly/MS-PropertyDataset\")\n",
        "# property_dataset\n",
        "\n",
        "# Now making a list of missing value types found in our dataset\n",
        "# Uncommenting the 3 lines below after running the previous lines\n",
        "missing_values = [\"n/a\", \"na\", \"--\"]\n",
        "property_dataset = pd.read_csv(\"http://bit.ly/MS-PropertyDataset\", na_values = missing_values)\n",
        "property_dataset"
      ],
      "execution_count": null,
      "outputs": []
    },
    {
      "cell_type": "markdown",
      "metadata": {
        "id": "KSSnxqGcH4pc"
      },
      "source": [
        "### <font color=\"green\">1.3 Challenges</font>"
      ]
    },
    {
      "cell_type": "code",
      "metadata": {
        "id": "YIeuI-bXH9ZX"
      },
      "source": [
        "# Challenge 1\n",
        "# Clean the following dataset that contains missing values\n",
        "url = 'http://bit.ly/DSRussianInvestigation'\n",
        "# \n",
        "df = pd.read_csv(url)\n",
        "df_cleaned = df.dropna()\n",
        "df_cleaned"
      ],
      "execution_count": null,
      "outputs": []
    },
    {
      "cell_type": "code",
      "metadata": {
        "id": "eErv30zQH-gS"
      },
      "source": [
        "# Challenge 2\n",
        "# Examine and clean the avengers dataset\n",
        "agl = 'http://bit.ly/MSAvengers'\n",
        "avengers_df = pd.read_csv(agl, encoding='latin')\n",
        "avengers_df.fillna(0, inplace= True)\n",
        "avengers_df.count()"
      ],
      "execution_count": null,
      "outputs": []
    },
    {
      "cell_type": "code",
      "metadata": {
        "id": "RMR09nkWH_vH"
      },
      "source": [
        "df = pd.read_csv (dataset_url)\n",
        "df"
      ],
      "execution_count": null,
      "outputs": []
    },
    {
      "cell_type": "code",
      "metadata": {
        "id": "cxSSVFTGRbrq"
      },
      "source": [
        "# Challenge 4\n",
        "# The dataset below contains data from an experiment conducted by the Department of Biology \n",
        "# at Kenyon College at a site near the campus in Gambier, Ohio. A student and faculty volunteers \n",
        "# planted 1000 white pine (Pinus strobes) seedlings at the Brown Family Environmental Center. \n",
        "# These seedlings were planted in two grids, distinguished by 10- and 15-foot spacings between the seedlings. \n",
        "# Several variables were measured and recorded for each seedling over time (in 1990, 1996, and 1997).\n",
        "# Handle the missing values of this dataset; \n",
        "dataset_url = 'http://bit.ly/MSPines'\n",
        "# \n",
        "# Features Description\n",
        "# Row\tRow number in pine plantation\n",
        "# Col\tColumn number in pine plantation\n",
        "# Hgt90\tTree height at time of planting (cm)\n",
        "# Hgt96\tTree height in September 1996 (cm)\n",
        "# Diam96\tTree trunk diameter in September 1996 (cm)\n",
        "# Grow96\tLeader growth during 1996 (cm)\n",
        "# Hgt97\tTree height in September 1997 (cm)\n",
        "# Diam97\tTree trunk diameter in September 1997 (cm)\n",
        "# Spread97\tWidest lateral spread in September 1997 (cm)\n",
        "# Needles97\tNeedle length in September 1997 (mm)\n",
        "# Deer95\tType of deer damage in September 1995: 0 = none, 1 = browsed\n",
        "# Deer97\tType of deer damage in September 1997: 0 = none, 1 = browsed\n",
        "# Cover95\tThorny cover in September 1995: 0 = none; 1 = some; 2 = moderate; 3 = lots\n",
        "# Fert\tIndicator for fertilizer: 0 = no, 1 = yes\n",
        "# Spacing\tDistance (in feet) between trees (10 or 15)\n",
        "#\n",
        "forest_df = pd.read_csv(dataset_url)\n",
        "forest_filled = forest_df.ffill()\n",
        "forest_clean = forest_filled.dropna()\n",
        "forest_clean.count()"
      ],
      "execution_count": null,
      "outputs": []
    },
    {
      "cell_type": "code",
      "metadata": {
        "id": "12QcGkaPUEVN"
      },
      "source": [
        "# Challenge 5\n",
        "# Some geologists were interested in the water chemistry of rivers in Coastal New York. \n",
        "# They took water samples at three different locations in four rivers. \n",
        "# The sampling sites were chosen to investigate how the composition of the water changes \n",
        "# as it flows from the source to the mouth of each river. \n",
        "# The sampling sites were labeled as upstream, midstream, and downstream. \n",
        "# This dataset contains the concentrations (parts per million) of a variety of elements in those water samples. \n",
        "# The dataset RiverIron contains the information for iron (FE) alone, along with the log of the concentration.\n",
        "# Handle the missing values found in this dataset; \n",
        "dataseturl = 'http://bit.ly/MSRiverSamples'\n",
        "\n",
        "# Features Description\n",
        "# River\tOne of four rivers: Grasse, Oswegatchie, Raquette, or St. Regis\n",
        "# Site\tLocation: 1=UpStream, 2=MidStream, 3=Downstream\n",
        "# Al\tAluminum\n",
        "# Ba\tBarium\n",
        "# Br\tBromine\n",
        "# Ca\tCalcium\n",
        "# Ce\tCerium\n",
        "# Cu\tCopper\n",
        "# Dy\tDysprosium\n",
        "# Er\tErbim\n",
        "# Fe\tIron\n",
        "# Gd\tGadolinium\n",
        "# Ho\tHolmum\n",
        "# K\tPotassium\n",
        "# La\tLathanum\n",
        "# Li\tLithium\n",
        "# Mg\tMagnesium\n",
        "# Mn\tManganese\n",
        "# Nd\tNeodymium\n",
        "# Pr\tProseyodymium\n",
        "# Rb\tRubidium\n",
        "# Si\tSilicon\n",
        "# Sr\tStrontium\n",
        "# Y\tYttrium\n",
        "# Yb\tYtterbium\n",
        "# Zn\tZinc\n",
        "# Zr\tZirconium\n",
        "#\n",
        "water_df = pd.read_csv(dataseturl)\n",
        "water_df.dropna().count()\n"
      ],
      "execution_count": null,
      "outputs": []
    },
    {
      "cell_type": "markdown",
      "metadata": {
        "id": "Wus-RyPhx2k2"
      },
      "source": [
        "## 1.4 Consistency"
      ]
    },
    {
      "cell_type": "code",
      "metadata": {
        "id": "EhBEUGcTx78K"
      },
      "source": [
        "# Example 1: Duplicates\n",
        "# Duplicates are data points that are repeated in your dataset. \n",
        "# These should be simply removed.\n",
        "#\n",
        "\n",
        "raw_data = {'first_name': ['Jamila', 'Jamila', 'Jane','Joma', 'Ulia', 'Dorcas'], \n",
        "        'last_name': ['Mohammed', 'Mohammed', 'Milner','Tech', 'Shevchenko', 'Wanjiru'], \n",
        "        'age': [52, 52, 43, 77, 25, 19], \n",
        "        'pre_assessment': [5, 5, 5, 43, 5, 2],\n",
        "        'post_assessment': [35, 35, 25, 57, 72, 71]}\n",
        "df_duplicate = pd.DataFrame(raw_data, columns = ['first_name', 'last_name', 'age', 'pre_assessment', 'post_assessment'])\n",
        "print(df_duplicate)\n",
        "\n",
        "\n",
        "# Identifying which observations are duplicates\n",
        "df_non_duplicates = df.drop_duplicates()\n",
        "\n",
        "# Let's see these non-duplicate files\n",
        "print(df_non_duplicates)"
      ],
      "execution_count": null,
      "outputs": []
    },
    {
      "cell_type": "markdown",
      "metadata": {
        "id": "vvxGZOoWXnmy"
      },
      "source": [
        "### <font color=\"green\">1.4 Challenges</font>"
      ]
    },
    {
      "cell_type": "code",
      "metadata": {
        "id": "grvCd8d0XuCC"
      },
      "source": [
        "# Challenge  1\n",
        "# Identify and handle the duplicted records found in the following dataset\n",
        "url = 'http://bit.ly/MoviesDataset1'\n",
        "# \n",
        "df = pd.read_csv(url)\n",
        "no_dup = df.drop_duplicates()\n",
        "no_dup"
      ],
      "execution_count": null,
      "outputs": []
    },
    {
      "cell_type": "code",
      "metadata": {
        "id": "MQ0BKjhPXyhP"
      },
      "source": [
        "# Clean the following dataset \n",
        "url ='http://bit.ly/EmployeesDataset'\n",
        "# \n",
        "df = pd.read_csv(url)\n",
        "no_dup_df = df.drop_duplicates()\n",
        "cleaned_df = no_dup_df.dropna()\n",
        "cleaned_df.count()"
      ],
      "execution_count": null,
      "outputs": []
    },
    {
      "cell_type": "markdown",
      "metadata": {
        "id": "o59W2bFhx_8k"
      },
      "source": [
        "## 1.5 Uniformity"
      ]
    },
    {
      "cell_type": "code",
      "metadata": {
        "id": "EnpBH69HTLWe"
      },
      "source": [
        "# Example 1: Standardization - Renaming column names\n",
        "# We can rename multiple  data frame column names in the following manner\n",
        "# \n",
        "\n",
        "# Create an example dataframe\n",
        "#\n",
        "officials_data = {'Moderator': ['Wanjiku', 'Muthoni', 'Kagure', 'Muema', 'Kariuki'], \n",
        "        'Date': ['2015-02-11', '2013-02-22', '2015-02-11', '2014-02-11', '2011-02-11'], \n",
        "        'Score': [14, 34, 41, 12, 13]}\n",
        "officials_data = pd.DataFrame(officials_data)\n",
        "print(officials_data)\n",
        "\n",
        "# Renaming the column names\n",
        "#\n",
        "officials_data.columns = ['Senior Leader', 'Time', 'Score']\n",
        "print(officials_data)"
      ],
      "execution_count": null,
      "outputs": []
    },
    {
      "cell_type": "code",
      "metadata": {
        "id": "_wOLNaUFUy72"
      },
      "source": [
        "# Example 2: Standardization - Fixing messy column names\n",
        "# Sometimes you might have column names which are uppercase, with spaces, \n",
        "# and whitespace all around. How do we fix this? \n",
        "# We use the .str method that we use on text data. \n",
        "# Ideally, we chain a bunch of .str functions as shown below; \n",
        "# \n",
        "\n",
        "# we use strip(), lower() and replace() functions\n",
        "# \n",
        "officials_data.columns = officials_data.columns.str.strip().str.lower().str.replace(' ', '_').str.replace('(', '').str.replace(')', '')\n",
        "print(officials_data)\n"
      ],
      "execution_count": null,
      "outputs": []
    },
    {
      "cell_type": "code",
      "metadata": {
        "id": "npCCbSYHyLJu"
      },
      "source": [
        "# Example 3: Date Type Conversion\n",
        "# Make sure numbers are stored as numerical data types. \n",
        "# A date should be stored as a date object, or a Unix timestamp (number of seconds), and so on. \n",
        "# Making the respecive conversion is advised.\n",
        "# \n",
        "\n",
        "# Let's convert our strings to Datetime data type\n",
        "# importing datatime module\n",
        "from datetime import datetime\n",
        "\n",
        "# Creating our data frame\n",
        "data = {'date': ['2015-05-01 18:47:05.069722', '2015-05-01 18:47:05.119994', \n",
        "                 '2015-05-02 18:47:05.178768', '2015-05-02 18:47:05.230071', \n",
        "                 '2015-05-02 18:47:05.230071', '2015-05-02 18:47:05.280592', \n",
        "                 '2015-05-03 18:47:05.332662', '2015-05-03 18:47:05.385109', \n",
        "                 '2015-05-04 18:47:05.436523', '2015-05-04 18:47:05.486877'], \n",
        "        'value': [1, 2, 4, 5, 6, 3, 2, 1, 15, 11]}\n",
        "df = pd.DataFrame(data, columns = ['date', 'value'])\n",
        "\n",
        "# printing our dataframe\n",
        "print(df.info())\n",
        "\n",
        "# Converting date column from string to datetime\n",
        "df['date'] = pd.to_datetime(df['date']) \n",
        "\n",
        "# printing our updated dataframe\n",
        "print(df.info())"
      ],
      "execution_count": null,
      "outputs": []
    },
    {
      "cell_type": "code",
      "metadata": {
        "id": "6vJvDVMWKanz"
      },
      "source": [
        "# Example 4: Data Type conversion\n",
        "# Sometimes, especially when we’re reading in a CSV with a bunch of numbers, \n",
        "# some of the numbers will read in as strings instead of numeric values, or vice versa. \n",
        "# Let's fix the release year to be a string and not a number;\n",
        "# In pandas, the datatype string appears as object\n",
        "# \n",
        "\n",
        "# First let's see how our datatypes appear while loading the dataset\n",
        "data = pd.read_csv('http://bit.ly/MovieMetaData')\n",
        "print(data.info())\n",
        "\n",
        "# Now let's specify that our 'duration column needs to be an integer value'\n",
        "# Uncomment the lines below after running the previous lines\n",
        "data = pd.read_csv('http://bit.ly/MovieMetaData', dtype={'title_year': str})\n",
        "print(data.dtypes)"
      ],
      "execution_count": null,
      "outputs": []
    },
    {
      "cell_type": "markdown",
      "metadata": {
        "id": "1FQHRHC_QMJu"
      },
      "source": [
        "### <font color=\"green\">1.5 Challenges</font>"
      ]
    },
    {
      "cell_type": "code",
      "metadata": {
        "id": "awCjhzV1amoK"
      },
      "source": [
        "# Challenge 1\n",
        "# Rename and fix the columns names of the following dataset\n",
        "url = 'http://bit.ly/MSPropertyDataset'\n",
        "# Columns = Street number, Street name, Owner Occupied, No. of Bedrooms\n",
        "# \n",
        "df =pd.read_csv(url) \n",
        "df.columns = ['PID','Street number', 'Street name', 'Owner Occupied', 'No. of Bedrooms', 'NUM_BATH' , 'SQ_FT']\n",
        "df"
      ],
      "execution_count": null,
      "outputs": []
    },
    {
      "cell_type": "code",
      "metadata": {
        "id": "HvBMDobHdH9v"
      },
      "source": [
        "# Challenge 2\n",
        "# Convert the following dataframe column Data from string to datetime format\n",
        "# \n",
        "\n",
        "schedule_df = pd.DataFrame({'Date':['23/9/2011', '11/4/2010', '10/12/2019'], \n",
        "                'Event':['Music', 'Drama', 'Arts'], \n",
        "                'Cost':[17000, 55000, 25000]}) \n",
        "\n",
        "schedule_df['Date'] =pd.to_datetime(schedule_df['Date'])\n",
        "schedule_df.dtypes"
      ],
      "execution_count": null,
      "outputs": []
    },
    {
      "cell_type": "code",
      "metadata": {
        "id": "wOVxciRxQRHU"
      },
      "source": [
        "# Challenge 3\n",
        "# Work on converting the following data types from the given sales dataset\n",
        "# url = http://bit.ly/SalesDataset\n",
        "# - The Customer Number is a float64 but it should be an int64\n",
        "# - The 2016 and 2017 columns are stored as objects, not numerical values such as a float64 or int64\n",
        "# - Percent Growth and Jan Units are also stored as objects not numerical values\n",
        "# - Month, Day and Year columns that should be converted to datetime64\n",
        "# - Active column should be a boolean\n",
        "# We cannot work with this dataset until we clean up normalize the datatypes \n",
        "# A good example of this would be if we were to perform the following operation \n",
        "#\n",
        "\n",
        "# Loading our sales dataset\n",
        "sales_df = pd.read_csv(\"http://bit.ly/SalesDataset\")\n",
        "\n",
        "# and then perform some operation reveals a problem\n",
        "sales_df['2016'] + sales_df['2017'] \n",
        "#\n",
        "def remove_money(value):\n",
        "  value.str.replace('$','')\n",
        "# Performing our conversion below\n",
        "sales_df['Customer Number'].astype(np.int64)\n",
        "\n",
        "sales_df['2016'].map(remove_money).astype(np.float64)\n",
        "sales_df['2017'].map(remove_money).astype(np.float64)"
      ],
      "execution_count": null,
      "outputs": []
    },
    {
      "cell_type": "code",
      "metadata": {
        "id": "hvoszsMYbGTK"
      },
      "source": [
        ""
      ],
      "execution_count": null,
      "outputs": []
    }
  ]
}