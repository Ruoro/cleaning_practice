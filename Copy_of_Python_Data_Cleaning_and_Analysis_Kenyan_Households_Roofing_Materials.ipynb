{
  "nbformat": 4,
  "nbformat_minor": 0,
  "metadata": {
    "colab": {
      "name": "Copy of Python Data Cleaning and Analysis - Kenyan Households Roofing Materials",
      "provenance": [],
      "collapsed_sections": [
        "HToJZ2gBPawZ",
        "IICLGbvBRYHq",
        "RAVzK5O6IR8v",
        "R9S2o1WXIhq1",
        "LgLPmaP60MCY",
        "ogvHnWWk0URF",
        "4_l-hjNT0ljY",
        "Wg_HInjk0rJG",
        "po-2IDPd0vdL",
        "dr1eyGZzt83Z",
        "NicC8P9LMjvO"
      ]
    },
    "kernelspec": {
      "name": "python3",
      "display_name": "Python 3"
    }
  },
  "cells": [
    {
      "cell_type": "markdown",
      "metadata": {
        "id": "mh5V-mRF29qO"
      },
      "source": [
        "<font color=\"green\">*To start working on this notebook, or any other notebook that we will use in the Moringa Data Science Course, we will need to save our own copy of it. We can do this by clicking File > Save a Copy in Drive. We will then be able to make edits to our own copy of this notebook.*</font>"
      ]
    },
    {
      "cell_type": "markdown",
      "metadata": {
        "id": "m0tgCkvzPLEa"
      },
      "source": [
        "# Python Data Cleaning and Analysis - Kenyan Households Roofing Materials"
      ]
    },
    {
      "cell_type": "markdown",
      "metadata": {
        "id": "VSnOCZ5-IPCi"
      },
      "source": [
        "## 1.0 Importing our Libraries"
      ]
    },
    {
      "cell_type": "code",
      "metadata": {
        "id": "3r-KDLvrO44a"
      },
      "source": [
        "# Importing the libraries we will need \n",
        "\n",
        "# Importing the pandas library\n",
        "# \n",
        "import pandas as pd\n",
        "# Importing the numpy library\n",
        "#\n",
        "import numpy as np"
      ],
      "execution_count": 2,
      "outputs": []
    },
    {
      "cell_type": "markdown",
      "metadata": {
        "id": "HToJZ2gBPawZ"
      },
      "source": [
        "## 1.1 Reading the Dataset from our CSV file\n",
        "\n"
      ]
    },
    {
      "cell_type": "markdown",
      "metadata": {
        "id": "LBUr8VUXQX-K"
      },
      "source": [
        "\n",
        "\n",
        "The dataset we will use contains Kenyan households by the main type of Roofing Material for the main dwelling unit for 2009.\n",
        "\n",
        "\n",
        "\n",
        "*   Dataset link for download or access: [Link](https://drive.google.com/a/moringaschool.com/file/d/1Mij0eAI8CHzanECX-n4Cv20N0A_whueJ/view?usp=sharing)\n",
        "\n",
        "\n",
        "\n"
      ]
    },
    {
      "cell_type": "code",
      "metadata": {
        "id": "1acwmZanRNHs"
      },
      "source": [
        "# Let's read the data from the CSV file and create the dataframe to be used\n",
        "# \n",
        "roofing_df= pd.read_csv('/content/2009_Census_Volume_II_Table_5_Households_by_main_type_of_Roofing_Material_for_the_main_dwelling_unit_by_district.csv')"
      ],
      "execution_count": 3,
      "outputs": []
    },
    {
      "cell_type": "markdown",
      "metadata": {
        "id": "IICLGbvBRYHq"
      },
      "source": [
        "## 1.2 Previewing our Dataset\n"
      ]
    },
    {
      "cell_type": "code",
      "metadata": {
        "id": "WrwHg-hzR5BY",
        "colab": {
          "base_uri": "https://localhost:8080/",
          "height": 0
        },
        "outputId": "811e0a90-8747-47ac-d245-50b728815017"
      },
      "source": [
        "# Let's preview the first 10 rows of our data\n",
        "#\n",
        "roofing_df.head(10)"
      ],
      "execution_count": 4,
      "outputs": [
        {
          "output_type": "execute_result",
          "data": {
            "text/html": [
              "<div>\n",
              "<style scoped>\n",
              "    .dataframe tbody tr th:only-of-type {\n",
              "        vertical-align: middle;\n",
              "    }\n",
              "\n",
              "    .dataframe tbody tr th {\n",
              "        vertical-align: top;\n",
              "    }\n",
              "\n",
              "    .dataframe thead th {\n",
              "        text-align: right;\n",
              "    }\n",
              "</style>\n",
              "<table border=\"1\" class=\"dataframe\">\n",
              "  <thead>\n",
              "    <tr style=\"text-align: right;\">\n",
              "      <th></th>\n",
              "      <th>District</th>\n",
              "      <th>rural/urban</th>\n",
              "      <th>%_of_Households_Corrugated_Iron_Sheets</th>\n",
              "      <th>%_of_Households_Tiles</th>\n",
              "      <th>%_of_Households_Concrete</th>\n",
              "      <th>Asbestos_%_of_Households_Sheets</th>\n",
              "      <th>%_of_Households_Grass</th>\n",
              "      <th>%_of_Households_Makuti</th>\n",
              "      <th>%_of_Households_Tin</th>\n",
              "      <th>%_of_Households_Mud/Dung</th>\n",
              "      <th>%_of_Households_Other</th>\n",
              "      <th>Households</th>\n",
              "      <th>No_Corrugated_Iron_Sheets</th>\n",
              "      <th>No_Tiles</th>\n",
              "      <th>No_Concrete</th>\n",
              "      <th>No_Asbestos_Sheets</th>\n",
              "      <th>No_Grass</th>\n",
              "      <th>No_Makuti</th>\n",
              "      <th>No_Tin</th>\n",
              "      <th>No_Mud/Dung</th>\n",
              "      <th>No_Other</th>\n",
              "      <th>County</th>\n",
              "      <th>MTEF</th>\n",
              "      <th>Location_1</th>\n",
              "      <th>Province</th>\n",
              "      <th>OBJECTID</th>\n",
              "    </tr>\n",
              "  </thead>\n",
              "  <tbody>\n",
              "    <tr>\n",
              "      <th>0</th>\n",
              "      <td>NYANDARUA NORTH</td>\n",
              "      <td>Urban</td>\n",
              "      <td>91.08%</td>\n",
              "      <td>0.62%</td>\n",
              "      <td>0.16%</td>\n",
              "      <td>1.46%</td>\n",
              "      <td>0.64%</td>\n",
              "      <td>0.03%</td>\n",
              "      <td>0.07%</td>\n",
              "      <td>0%</td>\n",
              "      <td>5.94%</td>\n",
              "      <td>23229</td>\n",
              "      <td>21156</td>\n",
              "      <td>144</td>\n",
              "      <td>38</td>\n",
              "      <td>338</td>\n",
              "      <td>148</td>\n",
              "      <td>7</td>\n",
              "      <td>17</td>\n",
              "      <td>1</td>\n",
              "      <td>1380</td>\n",
              "      <td>Nyandarua</td>\n",
              "      <td>Physical Infrastructure, Housing</td>\n",
              "      <td>NaN</td>\n",
              "      <td>CENTRAL</td>\n",
              "      <td>0</td>\n",
              "    </tr>\n",
              "    <tr>\n",
              "      <th>1</th>\n",
              "      <td>NYANDARUA SOUTH</td>\n",
              "      <td>Urban</td>\n",
              "      <td>95.38%</td>\n",
              "      <td>0.47%</td>\n",
              "      <td>2.6%</td>\n",
              "      <td>1.46%</td>\n",
              "      <td>0.06%</td>\n",
              "      <td>0%</td>\n",
              "      <td>0%</td>\n",
              "      <td>0.02%</td>\n",
              "      <td>0.02%</td>\n",
              "      <td>5345</td>\n",
              "      <td>5098</td>\n",
              "      <td>25</td>\n",
              "      <td>139</td>\n",
              "      <td>78</td>\n",
              "      <td>3</td>\n",
              "      <td>0</td>\n",
              "      <td>0</td>\n",
              "      <td>1</td>\n",
              "      <td>1</td>\n",
              "      <td>Nyandarua</td>\n",
              "      <td>Physical Infrastructure, Housing</td>\n",
              "      <td>NaN</td>\n",
              "      <td>CENTRAL</td>\n",
              "      <td>1</td>\n",
              "    </tr>\n",
              "    <tr>\n",
              "      <th>2</th>\n",
              "      <td>NYERI NORTH</td>\n",
              "      <td>Urban</td>\n",
              "      <td>90.28%</td>\n",
              "      <td>1.13%</td>\n",
              "      <td>5.21%</td>\n",
              "      <td>2.58%</td>\n",
              "      <td>0.49%</td>\n",
              "      <td>0.08%</td>\n",
              "      <td>0.2%</td>\n",
              "      <td>0.01%</td>\n",
              "      <td>0.01%</td>\n",
              "      <td>14208</td>\n",
              "      <td>12827</td>\n",
              "      <td>161</td>\n",
              "      <td>740</td>\n",
              "      <td>367</td>\n",
              "      <td>69</td>\n",
              "      <td>11</td>\n",
              "      <td>29</td>\n",
              "      <td>2</td>\n",
              "      <td>2</td>\n",
              "      <td>Nyeri</td>\n",
              "      <td>Physical Infrastructure, Housing</td>\n",
              "      <td>NaN</td>\n",
              "      <td>CENTRAL</td>\n",
              "      <td>2</td>\n",
              "    </tr>\n",
              "    <tr>\n",
              "      <th>3</th>\n",
              "      <td>NYERI SOUTH</td>\n",
              "      <td>Urban</td>\n",
              "      <td>90.89%</td>\n",
              "      <td>2.3%</td>\n",
              "      <td>3.32%</td>\n",
              "      <td>3.04%</td>\n",
              "      <td>0.09%</td>\n",
              "      <td>0.05%</td>\n",
              "      <td>0.14%</td>\n",
              "      <td>0.01%</td>\n",
              "      <td>0.17%</td>\n",
              "      <td>39927</td>\n",
              "      <td>36290</td>\n",
              "      <td>917</td>\n",
              "      <td>1325</td>\n",
              "      <td>1213</td>\n",
              "      <td>36</td>\n",
              "      <td>20</td>\n",
              "      <td>57</td>\n",
              "      <td>2</td>\n",
              "      <td>67</td>\n",
              "      <td>Nyeri</td>\n",
              "      <td>Physical Infrastructure, Housing</td>\n",
              "      <td>NaN</td>\n",
              "      <td>CENTRAL</td>\n",
              "      <td>3</td>\n",
              "    </tr>\n",
              "    <tr>\n",
              "      <th>4</th>\n",
              "      <td>KIRINYAGA</td>\n",
              "      <td>Urban</td>\n",
              "      <td>91.41%</td>\n",
              "      <td>0.87%</td>\n",
              "      <td>3.97%</td>\n",
              "      <td>3.5%</td>\n",
              "      <td>0.04%</td>\n",
              "      <td>0.01%</td>\n",
              "      <td>0.03%</td>\n",
              "      <td>0.01%</td>\n",
              "      <td>0.15%</td>\n",
              "      <td>27461</td>\n",
              "      <td>25103</td>\n",
              "      <td>239</td>\n",
              "      <td>1090</td>\n",
              "      <td>960</td>\n",
              "      <td>11</td>\n",
              "      <td>3</td>\n",
              "      <td>9</td>\n",
              "      <td>4</td>\n",
              "      <td>42</td>\n",
              "      <td>Kirinyaga</td>\n",
              "      <td>Physical Infrastructure, Housing</td>\n",
              "      <td>NaN</td>\n",
              "      <td>CENTRAL</td>\n",
              "      <td>4</td>\n",
              "    </tr>\n",
              "    <tr>\n",
              "      <th>5</th>\n",
              "      <td>MURANGA NORTH</td>\n",
              "      <td>Urban</td>\n",
              "      <td>75.68%</td>\n",
              "      <td>1.86%</td>\n",
              "      <td>17.97%</td>\n",
              "      <td>3.84%</td>\n",
              "      <td>0.01%</td>\n",
              "      <td>0%</td>\n",
              "      <td>0.51%</td>\n",
              "      <td>0.01%</td>\n",
              "      <td>0.13%</td>\n",
              "      <td>10660</td>\n",
              "      <td>8067</td>\n",
              "      <td>198</td>\n",
              "      <td>1916</td>\n",
              "      <td>409</td>\n",
              "      <td>1</td>\n",
              "      <td>0</td>\n",
              "      <td>54</td>\n",
              "      <td>1</td>\n",
              "      <td>14</td>\n",
              "      <td>Murang'a</td>\n",
              "      <td>Physical Infrastructure, Housing</td>\n",
              "      <td>NaN</td>\n",
              "      <td>CENTRAL</td>\n",
              "      <td>5</td>\n",
              "    </tr>\n",
              "    <tr>\n",
              "      <th>6</th>\n",
              "      <td>MURANGA SOUTH</td>\n",
              "      <td>Urban</td>\n",
              "      <td>90.67%</td>\n",
              "      <td>1.51%</td>\n",
              "      <td>4.23%</td>\n",
              "      <td>2.76%</td>\n",
              "      <td>0.27%</td>\n",
              "      <td>0.03%</td>\n",
              "      <td>0.47%</td>\n",
              "      <td>0.05%</td>\n",
              "      <td>0.03%</td>\n",
              "      <td>30455</td>\n",
              "      <td>27614</td>\n",
              "      <td>459</td>\n",
              "      <td>1287</td>\n",
              "      <td>840</td>\n",
              "      <td>81</td>\n",
              "      <td>9</td>\n",
              "      <td>142</td>\n",
              "      <td>15</td>\n",
              "      <td>8</td>\n",
              "      <td>Murang'a</td>\n",
              "      <td>Physical Infrastructure, Housing</td>\n",
              "      <td>NaN</td>\n",
              "      <td>CENTRAL</td>\n",
              "      <td>6</td>\n",
              "    </tr>\n",
              "    <tr>\n",
              "      <th>7</th>\n",
              "      <td>KIAMBU EAST(KIAMBAA)</td>\n",
              "      <td>Urban</td>\n",
              "      <td>88%</td>\n",
              "      <td>3.22%</td>\n",
              "      <td>6.6%</td>\n",
              "      <td>1.87%</td>\n",
              "      <td>0.01%</td>\n",
              "      <td>0.06%</td>\n",
              "      <td>0.14%</td>\n",
              "      <td>0%</td>\n",
              "      <td>0.11%</td>\n",
              "      <td>62826</td>\n",
              "      <td>55285</td>\n",
              "      <td>2021</td>\n",
              "      <td>4146</td>\n",
              "      <td>1172</td>\n",
              "      <td>8</td>\n",
              "      <td>35</td>\n",
              "      <td>89</td>\n",
              "      <td>1</td>\n",
              "      <td>69</td>\n",
              "      <td>Kiambu</td>\n",
              "      <td>Physical Infrastructure, Housing</td>\n",
              "      <td>NaN</td>\n",
              "      <td>CENTRAL</td>\n",
              "      <td>7</td>\n",
              "    </tr>\n",
              "    <tr>\n",
              "      <th>8</th>\n",
              "      <td>KIKUYU</td>\n",
              "      <td>Urban</td>\n",
              "      <td>88.45%</td>\n",
              "      <td>3.68%</td>\n",
              "      <td>6.19%</td>\n",
              "      <td>1.45%</td>\n",
              "      <td>0.01%</td>\n",
              "      <td>0.05%</td>\n",
              "      <td>0.09%</td>\n",
              "      <td>0.01%</td>\n",
              "      <td>0.06%</td>\n",
              "      <td>76759</td>\n",
              "      <td>67896</td>\n",
              "      <td>2826</td>\n",
              "      <td>4750</td>\n",
              "      <td>1112</td>\n",
              "      <td>9</td>\n",
              "      <td>42</td>\n",
              "      <td>70</td>\n",
              "      <td>5</td>\n",
              "      <td>49</td>\n",
              "      <td>Kiambu</td>\n",
              "      <td>Physical Infrastructure, Housing</td>\n",
              "      <td>NaN</td>\n",
              "      <td>CENTRAL</td>\n",
              "      <td>8</td>\n",
              "    </tr>\n",
              "    <tr>\n",
              "      <th>9</th>\n",
              "      <td>KIAMBU WEST</td>\n",
              "      <td>Urban</td>\n",
              "      <td>90.04%</td>\n",
              "      <td>2.52%</td>\n",
              "      <td>5.26%</td>\n",
              "      <td>1.5%</td>\n",
              "      <td>0.01%</td>\n",
              "      <td>0.07%</td>\n",
              "      <td>0.54%</td>\n",
              "      <td>0%</td>\n",
              "      <td>0.05%</td>\n",
              "      <td>23023</td>\n",
              "      <td>20729</td>\n",
              "      <td>580</td>\n",
              "      <td>1212</td>\n",
              "      <td>346</td>\n",
              "      <td>2</td>\n",
              "      <td>17</td>\n",
              "      <td>125</td>\n",
              "      <td>1</td>\n",
              "      <td>11</td>\n",
              "      <td>Kiambu</td>\n",
              "      <td>Physical Infrastructure, Housing</td>\n",
              "      <td>NaN</td>\n",
              "      <td>CENTRAL</td>\n",
              "      <td>9</td>\n",
              "    </tr>\n",
              "  </tbody>\n",
              "</table>\n",
              "</div>"
            ],
            "text/plain": [
              "               District rural/urban  ... Province OBJECTID\n",
              "0       NYANDARUA NORTH       Urban  ...  CENTRAL        0\n",
              "1       NYANDARUA SOUTH       Urban  ...  CENTRAL        1\n",
              "2           NYERI NORTH       Urban  ...  CENTRAL        2\n",
              "3           NYERI SOUTH       Urban  ...  CENTRAL        3\n",
              "4             KIRINYAGA       Urban  ...  CENTRAL        4\n",
              "5         MURANGA NORTH       Urban  ...  CENTRAL        5\n",
              "6         MURANGA SOUTH       Urban  ...  CENTRAL        6\n",
              "7  KIAMBU EAST(KIAMBAA)       Urban  ...  CENTRAL        7\n",
              "8                KIKUYU       Urban  ...  CENTRAL        8\n",
              "9           KIAMBU WEST       Urban  ...  CENTRAL        9\n",
              "\n",
              "[10 rows x 26 columns]"
            ]
          },
          "metadata": {
            "tags": []
          },
          "execution_count": 4
        }
      ]
    },
    {
      "cell_type": "markdown",
      "metadata": {
        "id": "RAVzK5O6IR8v"
      },
      "source": [
        "## 1.3 Accessing Information about our Dataset"
      ]
    },
    {
      "cell_type": "markdown",
      "metadata": {
        "id": "5W7cyaIpJdaC"
      },
      "source": [
        "We might need to convert columns to the respective datatypes ie. if there are payment columns we could convert them from string to float. This observation can be made by accessing information about the dataset."
      ]
    },
    {
      "cell_type": "code",
      "metadata": {
        "id": "0d2kfemDIYWI",
        "colab": {
          "base_uri": "https://localhost:8080/"
        },
        "outputId": "1751f8e8-8190-4836-bd7f-b046901195bc"
      },
      "source": [
        "# Getting to know more about the dataset by accessing its information\n",
        "#\n",
        "roofing_df.info()"
      ],
      "execution_count": 8,
      "outputs": [
        {
          "output_type": "stream",
          "text": [
            "<class 'pandas.core.frame.DataFrame'>\n",
            "RangeIndex: 315 entries, 0 to 314\n",
            "Data columns (total 26 columns):\n",
            " #   Column                                  Non-Null Count  Dtype  \n",
            "---  ------                                  --------------  -----  \n",
            " 0   District                                315 non-null    object \n",
            " 1   rural/urban                             315 non-null    object \n",
            " 2   %_of_Households_Corrugated_Iron_Sheets  290 non-null    object \n",
            " 3   %_of_Households_Tiles                   290 non-null    object \n",
            " 4   %_of_Households_Concrete                290 non-null    object \n",
            " 5   Asbestos_%_of_Households_Sheets         290 non-null    object \n",
            " 6   %_of_Households_Grass                   290 non-null    object \n",
            " 7   %_of_Households_Makuti                  290 non-null    object \n",
            " 8   %_of_Households_Tin                     290 non-null    object \n",
            " 9   %_of_Households_Mud/Dung                290 non-null    object \n",
            " 10  %_of_Households_Other                   290 non-null    object \n",
            " 11  Households                              315 non-null    int64  \n",
            " 12  No_Corrugated_Iron_Sheets               315 non-null    int64  \n",
            " 13  No_Tiles                                315 non-null    int64  \n",
            " 14  No_Concrete                             315 non-null    int64  \n",
            " 15  No_Asbestos_Sheets                      315 non-null    int64  \n",
            " 16  No_Grass                                315 non-null    int64  \n",
            " 17  No_Makuti                               315 non-null    int64  \n",
            " 18  No_Tin                                  315 non-null    int64  \n",
            " 19  No_Mud/Dung                             315 non-null    int64  \n",
            " 20  No_Other                                315 non-null    int64  \n",
            " 21  County                                  315 non-null    object \n",
            " 22  MTEF                                    315 non-null    object \n",
            " 23  Location_1                              0 non-null      float64\n",
            " 24  Province                                315 non-null    object \n",
            " 25  OBJECTID                                315 non-null    int64  \n",
            "dtypes: float64(1), int64(11), object(14)\n",
            "memory usage: 64.1+ KB\n"
          ],
          "name": "stdout"
        }
      ]
    },
    {
      "cell_type": "code",
      "metadata": {
        "colab": {
          "base_uri": "https://localhost:8080/"
        },
        "id": "rOtZDsewahu5",
        "outputId": "0bfcdcff-c915-417a-8626-379807b261cd"
      },
      "source": [
        "roofing_df.shape"
      ],
      "execution_count": 9,
      "outputs": [
        {
          "output_type": "execute_result",
          "data": {
            "text/plain": [
              "(315, 26)"
            ]
          },
          "metadata": {
            "tags": []
          },
          "execution_count": 9
        }
      ]
    },
    {
      "cell_type": "markdown",
      "metadata": {
        "id": "R9S2o1WXIhq1"
      },
      "source": [
        "## 1.4 Cleaning our Dataset"
      ]
    },
    {
      "cell_type": "markdown",
      "metadata": {
        "id": "AsBK7q0M0B5p"
      },
      "source": [
        "Let us perform data cleaning procedures below providing a documentation for our actions. We will perform as many data cleaning procedures as we think suitable for the various dimensions of data."
      ]
    },
    {
      "cell_type": "markdown",
      "metadata": {
        "id": "LgLPmaP60MCY"
      },
      "source": [
        "### 1.41) Validity: <font color=\"green\">Challenges</font>"
      ]
    },
    {
      "cell_type": "code",
      "metadata": {
        "id": "Xu8_fwqE0S_1",
        "colab": {
          "base_uri": "https://localhost:8080/",
          "height": 389
        },
        "outputId": "d7ffc430-3ff0-4df4-f3be-168fa4480fd6"
      },
      "source": [
        "# Procedure 1:\n",
        "# Data Cleaning Action:\n",
        "# Explanation:\n",
        "# first lests remove the location column\n",
        "roofing_df.drop([\"Location_1\"], axis = 1, inplace = True)\n",
        "roofing_df.head()"
      ],
      "execution_count": 5,
      "outputs": [
        {
          "output_type": "execute_result",
          "data": {
            "text/html": [
              "<div>\n",
              "<style scoped>\n",
              "    .dataframe tbody tr th:only-of-type {\n",
              "        vertical-align: middle;\n",
              "    }\n",
              "\n",
              "    .dataframe tbody tr th {\n",
              "        vertical-align: top;\n",
              "    }\n",
              "\n",
              "    .dataframe thead th {\n",
              "        text-align: right;\n",
              "    }\n",
              "</style>\n",
              "<table border=\"1\" class=\"dataframe\">\n",
              "  <thead>\n",
              "    <tr style=\"text-align: right;\">\n",
              "      <th></th>\n",
              "      <th>District</th>\n",
              "      <th>rural/urban</th>\n",
              "      <th>%_of_Households_Corrugated_Iron_Sheets</th>\n",
              "      <th>%_of_Households_Tiles</th>\n",
              "      <th>%_of_Households_Concrete</th>\n",
              "      <th>Asbestos_%_of_Households_Sheets</th>\n",
              "      <th>%_of_Households_Grass</th>\n",
              "      <th>%_of_Households_Makuti</th>\n",
              "      <th>%_of_Households_Tin</th>\n",
              "      <th>%_of_Households_Mud/Dung</th>\n",
              "      <th>%_of_Households_Other</th>\n",
              "      <th>Households</th>\n",
              "      <th>No_Corrugated_Iron_Sheets</th>\n",
              "      <th>No_Tiles</th>\n",
              "      <th>No_Concrete</th>\n",
              "      <th>No_Asbestos_Sheets</th>\n",
              "      <th>No_Grass</th>\n",
              "      <th>No_Makuti</th>\n",
              "      <th>No_Tin</th>\n",
              "      <th>No_Mud/Dung</th>\n",
              "      <th>No_Other</th>\n",
              "      <th>County</th>\n",
              "      <th>MTEF</th>\n",
              "      <th>Province</th>\n",
              "      <th>OBJECTID</th>\n",
              "    </tr>\n",
              "  </thead>\n",
              "  <tbody>\n",
              "    <tr>\n",
              "      <th>0</th>\n",
              "      <td>NYANDARUA NORTH</td>\n",
              "      <td>Urban</td>\n",
              "      <td>91.08%</td>\n",
              "      <td>0.62%</td>\n",
              "      <td>0.16%</td>\n",
              "      <td>1.46%</td>\n",
              "      <td>0.64%</td>\n",
              "      <td>0.03%</td>\n",
              "      <td>0.07%</td>\n",
              "      <td>0%</td>\n",
              "      <td>5.94%</td>\n",
              "      <td>23229</td>\n",
              "      <td>21156</td>\n",
              "      <td>144</td>\n",
              "      <td>38</td>\n",
              "      <td>338</td>\n",
              "      <td>148</td>\n",
              "      <td>7</td>\n",
              "      <td>17</td>\n",
              "      <td>1</td>\n",
              "      <td>1380</td>\n",
              "      <td>Nyandarua</td>\n",
              "      <td>Physical Infrastructure, Housing</td>\n",
              "      <td>CENTRAL</td>\n",
              "      <td>0</td>\n",
              "    </tr>\n",
              "    <tr>\n",
              "      <th>1</th>\n",
              "      <td>NYANDARUA SOUTH</td>\n",
              "      <td>Urban</td>\n",
              "      <td>95.38%</td>\n",
              "      <td>0.47%</td>\n",
              "      <td>2.6%</td>\n",
              "      <td>1.46%</td>\n",
              "      <td>0.06%</td>\n",
              "      <td>0%</td>\n",
              "      <td>0%</td>\n",
              "      <td>0.02%</td>\n",
              "      <td>0.02%</td>\n",
              "      <td>5345</td>\n",
              "      <td>5098</td>\n",
              "      <td>25</td>\n",
              "      <td>139</td>\n",
              "      <td>78</td>\n",
              "      <td>3</td>\n",
              "      <td>0</td>\n",
              "      <td>0</td>\n",
              "      <td>1</td>\n",
              "      <td>1</td>\n",
              "      <td>Nyandarua</td>\n",
              "      <td>Physical Infrastructure, Housing</td>\n",
              "      <td>CENTRAL</td>\n",
              "      <td>1</td>\n",
              "    </tr>\n",
              "    <tr>\n",
              "      <th>2</th>\n",
              "      <td>NYERI NORTH</td>\n",
              "      <td>Urban</td>\n",
              "      <td>90.28%</td>\n",
              "      <td>1.13%</td>\n",
              "      <td>5.21%</td>\n",
              "      <td>2.58%</td>\n",
              "      <td>0.49%</td>\n",
              "      <td>0.08%</td>\n",
              "      <td>0.2%</td>\n",
              "      <td>0.01%</td>\n",
              "      <td>0.01%</td>\n",
              "      <td>14208</td>\n",
              "      <td>12827</td>\n",
              "      <td>161</td>\n",
              "      <td>740</td>\n",
              "      <td>367</td>\n",
              "      <td>69</td>\n",
              "      <td>11</td>\n",
              "      <td>29</td>\n",
              "      <td>2</td>\n",
              "      <td>2</td>\n",
              "      <td>Nyeri</td>\n",
              "      <td>Physical Infrastructure, Housing</td>\n",
              "      <td>CENTRAL</td>\n",
              "      <td>2</td>\n",
              "    </tr>\n",
              "    <tr>\n",
              "      <th>3</th>\n",
              "      <td>NYERI SOUTH</td>\n",
              "      <td>Urban</td>\n",
              "      <td>90.89%</td>\n",
              "      <td>2.3%</td>\n",
              "      <td>3.32%</td>\n",
              "      <td>3.04%</td>\n",
              "      <td>0.09%</td>\n",
              "      <td>0.05%</td>\n",
              "      <td>0.14%</td>\n",
              "      <td>0.01%</td>\n",
              "      <td>0.17%</td>\n",
              "      <td>39927</td>\n",
              "      <td>36290</td>\n",
              "      <td>917</td>\n",
              "      <td>1325</td>\n",
              "      <td>1213</td>\n",
              "      <td>36</td>\n",
              "      <td>20</td>\n",
              "      <td>57</td>\n",
              "      <td>2</td>\n",
              "      <td>67</td>\n",
              "      <td>Nyeri</td>\n",
              "      <td>Physical Infrastructure, Housing</td>\n",
              "      <td>CENTRAL</td>\n",
              "      <td>3</td>\n",
              "    </tr>\n",
              "    <tr>\n",
              "      <th>4</th>\n",
              "      <td>KIRINYAGA</td>\n",
              "      <td>Urban</td>\n",
              "      <td>91.41%</td>\n",
              "      <td>0.87%</td>\n",
              "      <td>3.97%</td>\n",
              "      <td>3.5%</td>\n",
              "      <td>0.04%</td>\n",
              "      <td>0.01%</td>\n",
              "      <td>0.03%</td>\n",
              "      <td>0.01%</td>\n",
              "      <td>0.15%</td>\n",
              "      <td>27461</td>\n",
              "      <td>25103</td>\n",
              "      <td>239</td>\n",
              "      <td>1090</td>\n",
              "      <td>960</td>\n",
              "      <td>11</td>\n",
              "      <td>3</td>\n",
              "      <td>9</td>\n",
              "      <td>4</td>\n",
              "      <td>42</td>\n",
              "      <td>Kirinyaga</td>\n",
              "      <td>Physical Infrastructure, Housing</td>\n",
              "      <td>CENTRAL</td>\n",
              "      <td>4</td>\n",
              "    </tr>\n",
              "  </tbody>\n",
              "</table>\n",
              "</div>"
            ],
            "text/plain": [
              "          District rural/urban  ... Province OBJECTID\n",
              "0  NYANDARUA NORTH       Urban  ...  CENTRAL        0\n",
              "1  NYANDARUA SOUTH       Urban  ...  CENTRAL        1\n",
              "2      NYERI NORTH       Urban  ...  CENTRAL        2\n",
              "3      NYERI SOUTH       Urban  ...  CENTRAL        3\n",
              "4        KIRINYAGA       Urban  ...  CENTRAL        4\n",
              "\n",
              "[5 rows x 25 columns]"
            ]
          },
          "metadata": {
            "tags": []
          },
          "execution_count": 5
        }
      ]
    },
    {
      "cell_type": "code",
      "metadata": {
        "id": "8n6lZYUT0X8O",
        "colab": {
          "base_uri": "https://localhost:8080/",
          "height": 287
        },
        "outputId": "99fdee89-a6e7-41f8-97c9-1e9ca3a6be71"
      },
      "source": [
        "# Procedure 2:\n",
        "# Data Cleaning Action:\n",
        "# Explanation\n",
        "#also drop the MTEF data as it is all the same \n",
        "roofing_df.drop([\"MTEF\"], axis = 1, inplace = True)\n",
        "roofing_df.head()\n"
      ],
      "execution_count": 6,
      "outputs": [
        {
          "output_type": "execute_result",
          "data": {
            "text/html": [
              "<div>\n",
              "<style scoped>\n",
              "    .dataframe tbody tr th:only-of-type {\n",
              "        vertical-align: middle;\n",
              "    }\n",
              "\n",
              "    .dataframe tbody tr th {\n",
              "        vertical-align: top;\n",
              "    }\n",
              "\n",
              "    .dataframe thead th {\n",
              "        text-align: right;\n",
              "    }\n",
              "</style>\n",
              "<table border=\"1\" class=\"dataframe\">\n",
              "  <thead>\n",
              "    <tr style=\"text-align: right;\">\n",
              "      <th></th>\n",
              "      <th>District</th>\n",
              "      <th>rural/urban</th>\n",
              "      <th>%_of_Households_Corrugated_Iron_Sheets</th>\n",
              "      <th>%_of_Households_Tiles</th>\n",
              "      <th>%_of_Households_Concrete</th>\n",
              "      <th>Asbestos_%_of_Households_Sheets</th>\n",
              "      <th>%_of_Households_Grass</th>\n",
              "      <th>%_of_Households_Makuti</th>\n",
              "      <th>%_of_Households_Tin</th>\n",
              "      <th>%_of_Households_Mud/Dung</th>\n",
              "      <th>%_of_Households_Other</th>\n",
              "      <th>Households</th>\n",
              "      <th>No_Corrugated_Iron_Sheets</th>\n",
              "      <th>No_Tiles</th>\n",
              "      <th>No_Concrete</th>\n",
              "      <th>No_Asbestos_Sheets</th>\n",
              "      <th>No_Grass</th>\n",
              "      <th>No_Makuti</th>\n",
              "      <th>No_Tin</th>\n",
              "      <th>No_Mud/Dung</th>\n",
              "      <th>No_Other</th>\n",
              "      <th>County</th>\n",
              "      <th>Province</th>\n",
              "      <th>OBJECTID</th>\n",
              "    </tr>\n",
              "  </thead>\n",
              "  <tbody>\n",
              "    <tr>\n",
              "      <th>0</th>\n",
              "      <td>NYANDARUA NORTH</td>\n",
              "      <td>Urban</td>\n",
              "      <td>91.08%</td>\n",
              "      <td>0.62%</td>\n",
              "      <td>0.16%</td>\n",
              "      <td>1.46%</td>\n",
              "      <td>0.64%</td>\n",
              "      <td>0.03%</td>\n",
              "      <td>0.07%</td>\n",
              "      <td>0%</td>\n",
              "      <td>5.94%</td>\n",
              "      <td>23229</td>\n",
              "      <td>21156</td>\n",
              "      <td>144</td>\n",
              "      <td>38</td>\n",
              "      <td>338</td>\n",
              "      <td>148</td>\n",
              "      <td>7</td>\n",
              "      <td>17</td>\n",
              "      <td>1</td>\n",
              "      <td>1380</td>\n",
              "      <td>Nyandarua</td>\n",
              "      <td>CENTRAL</td>\n",
              "      <td>0</td>\n",
              "    </tr>\n",
              "    <tr>\n",
              "      <th>1</th>\n",
              "      <td>NYANDARUA SOUTH</td>\n",
              "      <td>Urban</td>\n",
              "      <td>95.38%</td>\n",
              "      <td>0.47%</td>\n",
              "      <td>2.6%</td>\n",
              "      <td>1.46%</td>\n",
              "      <td>0.06%</td>\n",
              "      <td>0%</td>\n",
              "      <td>0%</td>\n",
              "      <td>0.02%</td>\n",
              "      <td>0.02%</td>\n",
              "      <td>5345</td>\n",
              "      <td>5098</td>\n",
              "      <td>25</td>\n",
              "      <td>139</td>\n",
              "      <td>78</td>\n",
              "      <td>3</td>\n",
              "      <td>0</td>\n",
              "      <td>0</td>\n",
              "      <td>1</td>\n",
              "      <td>1</td>\n",
              "      <td>Nyandarua</td>\n",
              "      <td>CENTRAL</td>\n",
              "      <td>1</td>\n",
              "    </tr>\n",
              "    <tr>\n",
              "      <th>2</th>\n",
              "      <td>NYERI NORTH</td>\n",
              "      <td>Urban</td>\n",
              "      <td>90.28%</td>\n",
              "      <td>1.13%</td>\n",
              "      <td>5.21%</td>\n",
              "      <td>2.58%</td>\n",
              "      <td>0.49%</td>\n",
              "      <td>0.08%</td>\n",
              "      <td>0.2%</td>\n",
              "      <td>0.01%</td>\n",
              "      <td>0.01%</td>\n",
              "      <td>14208</td>\n",
              "      <td>12827</td>\n",
              "      <td>161</td>\n",
              "      <td>740</td>\n",
              "      <td>367</td>\n",
              "      <td>69</td>\n",
              "      <td>11</td>\n",
              "      <td>29</td>\n",
              "      <td>2</td>\n",
              "      <td>2</td>\n",
              "      <td>Nyeri</td>\n",
              "      <td>CENTRAL</td>\n",
              "      <td>2</td>\n",
              "    </tr>\n",
              "    <tr>\n",
              "      <th>3</th>\n",
              "      <td>NYERI SOUTH</td>\n",
              "      <td>Urban</td>\n",
              "      <td>90.89%</td>\n",
              "      <td>2.3%</td>\n",
              "      <td>3.32%</td>\n",
              "      <td>3.04%</td>\n",
              "      <td>0.09%</td>\n",
              "      <td>0.05%</td>\n",
              "      <td>0.14%</td>\n",
              "      <td>0.01%</td>\n",
              "      <td>0.17%</td>\n",
              "      <td>39927</td>\n",
              "      <td>36290</td>\n",
              "      <td>917</td>\n",
              "      <td>1325</td>\n",
              "      <td>1213</td>\n",
              "      <td>36</td>\n",
              "      <td>20</td>\n",
              "      <td>57</td>\n",
              "      <td>2</td>\n",
              "      <td>67</td>\n",
              "      <td>Nyeri</td>\n",
              "      <td>CENTRAL</td>\n",
              "      <td>3</td>\n",
              "    </tr>\n",
              "    <tr>\n",
              "      <th>4</th>\n",
              "      <td>KIRINYAGA</td>\n",
              "      <td>Urban</td>\n",
              "      <td>91.41%</td>\n",
              "      <td>0.87%</td>\n",
              "      <td>3.97%</td>\n",
              "      <td>3.5%</td>\n",
              "      <td>0.04%</td>\n",
              "      <td>0.01%</td>\n",
              "      <td>0.03%</td>\n",
              "      <td>0.01%</td>\n",
              "      <td>0.15%</td>\n",
              "      <td>27461</td>\n",
              "      <td>25103</td>\n",
              "      <td>239</td>\n",
              "      <td>1090</td>\n",
              "      <td>960</td>\n",
              "      <td>11</td>\n",
              "      <td>3</td>\n",
              "      <td>9</td>\n",
              "      <td>4</td>\n",
              "      <td>42</td>\n",
              "      <td>Kirinyaga</td>\n",
              "      <td>CENTRAL</td>\n",
              "      <td>4</td>\n",
              "    </tr>\n",
              "  </tbody>\n",
              "</table>\n",
              "</div>"
            ],
            "text/plain": [
              "          District rural/urban  ... Province OBJECTID\n",
              "0  NYANDARUA NORTH       Urban  ...  CENTRAL        0\n",
              "1  NYANDARUA SOUTH       Urban  ...  CENTRAL        1\n",
              "2      NYERI NORTH       Urban  ...  CENTRAL        2\n",
              "3      NYERI SOUTH       Urban  ...  CENTRAL        3\n",
              "4        KIRINYAGA       Urban  ...  CENTRAL        4\n",
              "\n",
              "[5 rows x 24 columns]"
            ]
          },
          "metadata": {
            "tags": []
          },
          "execution_count": 6
        }
      ]
    },
    {
      "cell_type": "code",
      "metadata": {
        "id": "3Hegrubg0Zns",
        "colab": {
          "base_uri": "https://localhost:8080/"
        },
        "outputId": "72e31093-a6b2-4585-e8af-dad94418227a"
      },
      "source": [
        "# Procedure 3:\n",
        "# Data Cleaning Action:\n",
        "# Explanation:\n",
        "#check for the types of duplicated data \n",
        "dupsdf = roofing_df[roofing_df.duplicated()]\n",
        "print(\"the diplicated rows are: \\n\")\n",
        "dupsdf.count()\n",
        "# There are no duplicated data"
      ],
      "execution_count": 7,
      "outputs": [
        {
          "output_type": "stream",
          "text": [
            "the diplicated rows are: \n",
            "\n"
          ],
          "name": "stdout"
        },
        {
          "output_type": "execute_result",
          "data": {
            "text/plain": [
              "District                                  0\n",
              "rural/urban                               0\n",
              "%_of_Households_Corrugated_Iron_Sheets    0\n",
              "%_of_Households_Tiles                     0\n",
              "%_of_Households_Concrete                  0\n",
              "Asbestos_%_of_Households_Sheets           0\n",
              "%_of_Households_Grass                     0\n",
              "%_of_Households_Makuti                    0\n",
              "%_of_Households_Tin                       0\n",
              "%_of_Households_Mud/Dung                  0\n",
              "%_of_Households_Other                     0\n",
              "Households                                0\n",
              "No_Corrugated_Iron_Sheets                 0\n",
              "No_Tiles                                  0\n",
              "No_Concrete                               0\n",
              "No_Asbestos_Sheets                        0\n",
              "No_Grass                                  0\n",
              "No_Makuti                                 0\n",
              "No_Tin                                    0\n",
              "No_Mud/Dung                               0\n",
              "No_Other                                  0\n",
              "County                                    0\n",
              "Province                                  0\n",
              "OBJECTID                                  0\n",
              "dtype: int64"
            ]
          },
          "metadata": {
            "tags": []
          },
          "execution_count": 7
        }
      ]
    },
    {
      "cell_type": "markdown",
      "metadata": {
        "id": "ogvHnWWk0URF"
      },
      "source": [
        "### 1.42) Accuracy <font color=\"green\">Challenges</font>"
      ]
    },
    {
      "cell_type": "code",
      "metadata": {
        "id": "fGR0p3580fCX",
        "colab": {
          "base_uri": "https://localhost:8080/",
          "height": 396
        },
        "outputId": "99a1599d-02c3-4e3f-d32b-c020ba95020f"
      },
      "source": [
        "# Procedure 1:\n",
        "# Data Cleaning Action:\n",
        "# Explanation:\n",
        "# turn the % collumns to float\n",
        "\n",
        "# floated_roofing_df = roofing_df[['%_of_Households_Corrugated_Iron_Sheets','%_of_Households_Tiles', '%_of_Households_Concrete', 'Asbestos_%_of_Households_Sheets', '%_of_Households_Grass','%_of_Households_Makuti', '%_of_Households_Tin', '%_of_Households_Mud/Dung', '%_of_Households_Other']].str.rstrip('%').astype('float') / 100.0\n",
        "# floated_roofing_df\n",
        "\n",
        "# roofing_df[['%_of_Households_Corrugated_Iron_Sheets','%_of_Households_Tiles', '%_of_Households_Concrete', 'Asbestos_%_of_Households_Sheets', '%_of_Households_Grass','%_of_Households_Makuti', '%_of_Households_Tin', '%_of_Households_Mud/Dung', '%_of_Households_Other']]"
      ],
      "execution_count": 8,
      "outputs": [
        {
          "output_type": "error",
          "ename": "AttributeError",
          "evalue": "ignored",
          "traceback": [
            "\u001b[0;31m---------------------------------------------------------------------------\u001b[0m",
            "\u001b[0;31mAttributeError\u001b[0m                            Traceback (most recent call last)",
            "\u001b[0;32m<ipython-input-8-28680e2e23f5>\u001b[0m in \u001b[0;36m<module>\u001b[0;34m()\u001b[0m\n\u001b[1;32m      4\u001b[0m \u001b[0;31m# turn the % collumns to float\u001b[0m\u001b[0;34m\u001b[0m\u001b[0;34m\u001b[0m\u001b[0;34m\u001b[0m\u001b[0m\n\u001b[1;32m      5\u001b[0m \u001b[0;34m\u001b[0m\u001b[0m\n\u001b[0;32m----> 6\u001b[0;31m \u001b[0mfloated_roofing_df\u001b[0m \u001b[0;34m=\u001b[0m \u001b[0mroofing_df\u001b[0m\u001b[0;34m[\u001b[0m\u001b[0;34m[\u001b[0m\u001b[0;34m'%_of_Households_Corrugated_Iron_Sheets'\u001b[0m\u001b[0;34m,\u001b[0m\u001b[0;34m'%_of_Households_Tiles'\u001b[0m\u001b[0;34m,\u001b[0m \u001b[0;34m'%_of_Households_Concrete'\u001b[0m\u001b[0;34m,\u001b[0m \u001b[0;34m'Asbestos_%_of_Households_Sheets'\u001b[0m\u001b[0;34m,\u001b[0m \u001b[0;34m'%_of_Households_Grass'\u001b[0m\u001b[0;34m,\u001b[0m\u001b[0;34m'%_of_Households_Makuti'\u001b[0m\u001b[0;34m,\u001b[0m \u001b[0;34m'%_of_Households_Tin'\u001b[0m\u001b[0;34m,\u001b[0m \u001b[0;34m'%_of_Households_Mud/Dung'\u001b[0m\u001b[0;34m,\u001b[0m \u001b[0;34m'%_of_Households_Other'\u001b[0m\u001b[0;34m]\u001b[0m\u001b[0;34m]\u001b[0m\u001b[0;34m.\u001b[0m\u001b[0mstr\u001b[0m\u001b[0;34m.\u001b[0m\u001b[0mrstrip\u001b[0m\u001b[0;34m(\u001b[0m\u001b[0;34m'%'\u001b[0m\u001b[0;34m)\u001b[0m\u001b[0;34m.\u001b[0m\u001b[0mastype\u001b[0m\u001b[0;34m(\u001b[0m\u001b[0;34m'float'\u001b[0m\u001b[0;34m)\u001b[0m \u001b[0;34m/\u001b[0m \u001b[0;36m100.0\u001b[0m\u001b[0;34m\u001b[0m\u001b[0;34m\u001b[0m\u001b[0m\n\u001b[0m\u001b[1;32m      7\u001b[0m \u001b[0mfloated_roofing_df\u001b[0m\u001b[0;34m\u001b[0m\u001b[0;34m\u001b[0m\u001b[0m\n\u001b[1;32m      8\u001b[0m \u001b[0;34m\u001b[0m\u001b[0m\n",
            "\u001b[0;32m/usr/local/lib/python3.7/dist-packages/pandas/core/generic.py\u001b[0m in \u001b[0;36m__getattr__\u001b[0;34m(self, name)\u001b[0m\n\u001b[1;32m   5139\u001b[0m             \u001b[0;32mif\u001b[0m \u001b[0mself\u001b[0m\u001b[0;34m.\u001b[0m\u001b[0m_info_axis\u001b[0m\u001b[0;34m.\u001b[0m\u001b[0m_can_hold_identifiers_and_holds_name\u001b[0m\u001b[0;34m(\u001b[0m\u001b[0mname\u001b[0m\u001b[0;34m)\u001b[0m\u001b[0;34m:\u001b[0m\u001b[0;34m\u001b[0m\u001b[0;34m\u001b[0m\u001b[0m\n\u001b[1;32m   5140\u001b[0m                 \u001b[0;32mreturn\u001b[0m \u001b[0mself\u001b[0m\u001b[0;34m[\u001b[0m\u001b[0mname\u001b[0m\u001b[0;34m]\u001b[0m\u001b[0;34m\u001b[0m\u001b[0;34m\u001b[0m\u001b[0m\n\u001b[0;32m-> 5141\u001b[0;31m             \u001b[0;32mreturn\u001b[0m \u001b[0mobject\u001b[0m\u001b[0;34m.\u001b[0m\u001b[0m__getattribute__\u001b[0m\u001b[0;34m(\u001b[0m\u001b[0mself\u001b[0m\u001b[0;34m,\u001b[0m \u001b[0mname\u001b[0m\u001b[0;34m)\u001b[0m\u001b[0;34m\u001b[0m\u001b[0;34m\u001b[0m\u001b[0m\n\u001b[0m\u001b[1;32m   5142\u001b[0m \u001b[0;34m\u001b[0m\u001b[0m\n\u001b[1;32m   5143\u001b[0m     \u001b[0;32mdef\u001b[0m \u001b[0m__setattr__\u001b[0m\u001b[0;34m(\u001b[0m\u001b[0mself\u001b[0m\u001b[0;34m,\u001b[0m \u001b[0mname\u001b[0m\u001b[0;34m:\u001b[0m \u001b[0mstr\u001b[0m\u001b[0;34m,\u001b[0m \u001b[0mvalue\u001b[0m\u001b[0;34m)\u001b[0m \u001b[0;34m->\u001b[0m \u001b[0;32mNone\u001b[0m\u001b[0;34m:\u001b[0m\u001b[0;34m\u001b[0m\u001b[0;34m\u001b[0m\u001b[0m\n",
            "\u001b[0;31mAttributeError\u001b[0m: 'DataFrame' object has no attribute 'str'"
          ]
        }
      ]
    },
    {
      "cell_type": "code",
      "metadata": {
        "id": "dPvSUWLY0gNF",
        "colab": {
          "base_uri": "https://localhost:8080/"
        },
        "outputId": "891cbdd0-4c33-48bb-9faf-7ab6287b1cbe"
      },
      "source": [
        "# Procedure 2:\n",
        "# Data Cleaning Action:\n",
        "# Explanation:\n",
        "#check data \n",
        "roofing_df.dtypes"
      ],
      "execution_count": 9,
      "outputs": [
        {
          "output_type": "execute_result",
          "data": {
            "text/plain": [
              "District                                  object\n",
              "rural/urban                               object\n",
              "%_of_Households_Corrugated_Iron_Sheets    object\n",
              "%_of_Households_Tiles                     object\n",
              "%_of_Households_Concrete                  object\n",
              "Asbestos_%_of_Households_Sheets           object\n",
              "%_of_Households_Grass                     object\n",
              "%_of_Households_Makuti                    object\n",
              "%_of_Households_Tin                       object\n",
              "%_of_Households_Mud/Dung                  object\n",
              "%_of_Households_Other                     object\n",
              "Households                                 int64\n",
              "No_Corrugated_Iron_Sheets                  int64\n",
              "No_Tiles                                   int64\n",
              "No_Concrete                                int64\n",
              "No_Asbestos_Sheets                         int64\n",
              "No_Grass                                   int64\n",
              "No_Makuti                                  int64\n",
              "No_Tin                                     int64\n",
              "No_Mud/Dung                                int64\n",
              "No_Other                                   int64\n",
              "County                                    object\n",
              "Province                                  object\n",
              "OBJECTID                                   int64\n",
              "dtype: object"
            ]
          },
          "metadata": {
            "tags": []
          },
          "execution_count": 9
        }
      ]
    },
    {
      "cell_type": "markdown",
      "metadata": {
        "id": "4_l-hjNT0ljY"
      },
      "source": [
        "### 1.43) Completeness <font color=\"green\">Challenges</font>"
      ]
    },
    {
      "cell_type": "code",
      "metadata": {
        "id": "r0QLHD0P0nN3",
        "colab": {
          "base_uri": "https://localhost:8080/"
        },
        "outputId": "ae487cd7-0fc4-4c9a-e107-4c33f76cf2f0"
      },
      "source": [
        "# Procedure 1:\n",
        "# Data Cleaning Action:\n",
        "# Explanation:\n",
        "#\n",
        "roofing_df.isna().count()\n"
      ],
      "execution_count": 10,
      "outputs": [
        {
          "output_type": "execute_result",
          "data": {
            "text/plain": [
              "District                                  315\n",
              "rural/urban                               315\n",
              "%_of_Households_Corrugated_Iron_Sheets    315\n",
              "%_of_Households_Tiles                     315\n",
              "%_of_Households_Concrete                  315\n",
              "Asbestos_%_of_Households_Sheets           315\n",
              "%_of_Households_Grass                     315\n",
              "%_of_Households_Makuti                    315\n",
              "%_of_Households_Tin                       315\n",
              "%_of_Households_Mud/Dung                  315\n",
              "%_of_Households_Other                     315\n",
              "Households                                315\n",
              "No_Corrugated_Iron_Sheets                 315\n",
              "No_Tiles                                  315\n",
              "No_Concrete                               315\n",
              "No_Asbestos_Sheets                        315\n",
              "No_Grass                                  315\n",
              "No_Makuti                                 315\n",
              "No_Tin                                    315\n",
              "No_Mud/Dung                               315\n",
              "No_Other                                  315\n",
              "County                                    315\n",
              "Province                                  315\n",
              "OBJECTID                                  315\n",
              "dtype: int64"
            ]
          },
          "metadata": {
            "tags": []
          },
          "execution_count": 10
        }
      ]
    },
    {
      "cell_type": "code",
      "metadata": {
        "id": "GchjhobG0nu8",
        "colab": {
          "base_uri": "https://localhost:8080/",
          "height": 532
        },
        "outputId": "b5e05ec1-4cf1-45f6-a4b3-057e173c3f30"
      },
      "source": [
        "# Procedure 2:\n",
        "# Data Cleaning Action:\n",
        "# Explanation:\n",
        "#\n",
        "# The data is complete no missing values\n",
        "roofing_df.isnull().sum()\n",
        "#drop rows with missing values\n",
        "roofing_df.dropna(inplace=True)\n",
        "roofing_df\n",
        "\n"
      ],
      "execution_count": 11,
      "outputs": [
        {
          "output_type": "execute_result",
          "data": {
            "text/html": [
              "<div>\n",
              "<style scoped>\n",
              "    .dataframe tbody tr th:only-of-type {\n",
              "        vertical-align: middle;\n",
              "    }\n",
              "\n",
              "    .dataframe tbody tr th {\n",
              "        vertical-align: top;\n",
              "    }\n",
              "\n",
              "    .dataframe thead th {\n",
              "        text-align: right;\n",
              "    }\n",
              "</style>\n",
              "<table border=\"1\" class=\"dataframe\">\n",
              "  <thead>\n",
              "    <tr style=\"text-align: right;\">\n",
              "      <th></th>\n",
              "      <th>District</th>\n",
              "      <th>rural/urban</th>\n",
              "      <th>%_of_Households_Corrugated_Iron_Sheets</th>\n",
              "      <th>%_of_Households_Tiles</th>\n",
              "      <th>%_of_Households_Concrete</th>\n",
              "      <th>Asbestos_%_of_Households_Sheets</th>\n",
              "      <th>%_of_Households_Grass</th>\n",
              "      <th>%_of_Households_Makuti</th>\n",
              "      <th>%_of_Households_Tin</th>\n",
              "      <th>%_of_Households_Mud/Dung</th>\n",
              "      <th>%_of_Households_Other</th>\n",
              "      <th>Households</th>\n",
              "      <th>No_Corrugated_Iron_Sheets</th>\n",
              "      <th>No_Tiles</th>\n",
              "      <th>No_Concrete</th>\n",
              "      <th>No_Asbestos_Sheets</th>\n",
              "      <th>No_Grass</th>\n",
              "      <th>No_Makuti</th>\n",
              "      <th>No_Tin</th>\n",
              "      <th>No_Mud/Dung</th>\n",
              "      <th>No_Other</th>\n",
              "      <th>County</th>\n",
              "      <th>Province</th>\n",
              "      <th>OBJECTID</th>\n",
              "    </tr>\n",
              "  </thead>\n",
              "  <tbody>\n",
              "    <tr>\n",
              "      <th>0</th>\n",
              "      <td>NYANDARUA NORTH</td>\n",
              "      <td>Urban</td>\n",
              "      <td>91.08%</td>\n",
              "      <td>0.62%</td>\n",
              "      <td>0.16%</td>\n",
              "      <td>1.46%</td>\n",
              "      <td>0.64%</td>\n",
              "      <td>0.03%</td>\n",
              "      <td>0.07%</td>\n",
              "      <td>0%</td>\n",
              "      <td>5.94%</td>\n",
              "      <td>23229</td>\n",
              "      <td>21156</td>\n",
              "      <td>144</td>\n",
              "      <td>38</td>\n",
              "      <td>338</td>\n",
              "      <td>148</td>\n",
              "      <td>7</td>\n",
              "      <td>17</td>\n",
              "      <td>1</td>\n",
              "      <td>1380</td>\n",
              "      <td>Nyandarua</td>\n",
              "      <td>CENTRAL</td>\n",
              "      <td>0</td>\n",
              "    </tr>\n",
              "    <tr>\n",
              "      <th>1</th>\n",
              "      <td>NYANDARUA SOUTH</td>\n",
              "      <td>Urban</td>\n",
              "      <td>95.38%</td>\n",
              "      <td>0.47%</td>\n",
              "      <td>2.6%</td>\n",
              "      <td>1.46%</td>\n",
              "      <td>0.06%</td>\n",
              "      <td>0%</td>\n",
              "      <td>0%</td>\n",
              "      <td>0.02%</td>\n",
              "      <td>0.02%</td>\n",
              "      <td>5345</td>\n",
              "      <td>5098</td>\n",
              "      <td>25</td>\n",
              "      <td>139</td>\n",
              "      <td>78</td>\n",
              "      <td>3</td>\n",
              "      <td>0</td>\n",
              "      <td>0</td>\n",
              "      <td>1</td>\n",
              "      <td>1</td>\n",
              "      <td>Nyandarua</td>\n",
              "      <td>CENTRAL</td>\n",
              "      <td>1</td>\n",
              "    </tr>\n",
              "    <tr>\n",
              "      <th>2</th>\n",
              "      <td>NYERI NORTH</td>\n",
              "      <td>Urban</td>\n",
              "      <td>90.28%</td>\n",
              "      <td>1.13%</td>\n",
              "      <td>5.21%</td>\n",
              "      <td>2.58%</td>\n",
              "      <td>0.49%</td>\n",
              "      <td>0.08%</td>\n",
              "      <td>0.2%</td>\n",
              "      <td>0.01%</td>\n",
              "      <td>0.01%</td>\n",
              "      <td>14208</td>\n",
              "      <td>12827</td>\n",
              "      <td>161</td>\n",
              "      <td>740</td>\n",
              "      <td>367</td>\n",
              "      <td>69</td>\n",
              "      <td>11</td>\n",
              "      <td>29</td>\n",
              "      <td>2</td>\n",
              "      <td>2</td>\n",
              "      <td>Nyeri</td>\n",
              "      <td>CENTRAL</td>\n",
              "      <td>2</td>\n",
              "    </tr>\n",
              "    <tr>\n",
              "      <th>3</th>\n",
              "      <td>NYERI SOUTH</td>\n",
              "      <td>Urban</td>\n",
              "      <td>90.89%</td>\n",
              "      <td>2.3%</td>\n",
              "      <td>3.32%</td>\n",
              "      <td>3.04%</td>\n",
              "      <td>0.09%</td>\n",
              "      <td>0.05%</td>\n",
              "      <td>0.14%</td>\n",
              "      <td>0.01%</td>\n",
              "      <td>0.17%</td>\n",
              "      <td>39927</td>\n",
              "      <td>36290</td>\n",
              "      <td>917</td>\n",
              "      <td>1325</td>\n",
              "      <td>1213</td>\n",
              "      <td>36</td>\n",
              "      <td>20</td>\n",
              "      <td>57</td>\n",
              "      <td>2</td>\n",
              "      <td>67</td>\n",
              "      <td>Nyeri</td>\n",
              "      <td>CENTRAL</td>\n",
              "      <td>3</td>\n",
              "    </tr>\n",
              "    <tr>\n",
              "      <th>4</th>\n",
              "      <td>KIRINYAGA</td>\n",
              "      <td>Urban</td>\n",
              "      <td>91.41%</td>\n",
              "      <td>0.87%</td>\n",
              "      <td>3.97%</td>\n",
              "      <td>3.5%</td>\n",
              "      <td>0.04%</td>\n",
              "      <td>0.01%</td>\n",
              "      <td>0.03%</td>\n",
              "      <td>0.01%</td>\n",
              "      <td>0.15%</td>\n",
              "      <td>27461</td>\n",
              "      <td>25103</td>\n",
              "      <td>239</td>\n",
              "      <td>1090</td>\n",
              "      <td>960</td>\n",
              "      <td>11</td>\n",
              "      <td>3</td>\n",
              "      <td>9</td>\n",
              "      <td>4</td>\n",
              "      <td>42</td>\n",
              "      <td>Kirinyaga</td>\n",
              "      <td>CENTRAL</td>\n",
              "      <td>4</td>\n",
              "    </tr>\n",
              "    <tr>\n",
              "      <th>...</th>\n",
              "      <td>...</td>\n",
              "      <td>...</td>\n",
              "      <td>...</td>\n",
              "      <td>...</td>\n",
              "      <td>...</td>\n",
              "      <td>...</td>\n",
              "      <td>...</td>\n",
              "      <td>...</td>\n",
              "      <td>...</td>\n",
              "      <td>...</td>\n",
              "      <td>...</td>\n",
              "      <td>...</td>\n",
              "      <td>...</td>\n",
              "      <td>...</td>\n",
              "      <td>...</td>\n",
              "      <td>...</td>\n",
              "      <td>...</td>\n",
              "      <td>...</td>\n",
              "      <td>...</td>\n",
              "      <td>...</td>\n",
              "      <td>...</td>\n",
              "      <td>...</td>\n",
              "      <td>...</td>\n",
              "      <td>...</td>\n",
              "    </tr>\n",
              "    <tr>\n",
              "      <th>310</th>\n",
              "      <td>BUSIA</td>\n",
              "      <td>Rural</td>\n",
              "      <td>49.66%</td>\n",
              "      <td>0.46%</td>\n",
              "      <td>0.03%</td>\n",
              "      <td>2.15%</td>\n",
              "      <td>47.44%</td>\n",
              "      <td>0.08%</td>\n",
              "      <td>0.13%</td>\n",
              "      <td>0.03%</td>\n",
              "      <td>0.02%</td>\n",
              "      <td>58208</td>\n",
              "      <td>28909</td>\n",
              "      <td>265</td>\n",
              "      <td>20</td>\n",
              "      <td>1253</td>\n",
              "      <td>27611</td>\n",
              "      <td>48</td>\n",
              "      <td>78</td>\n",
              "      <td>15</td>\n",
              "      <td>9</td>\n",
              "      <td>Busia</td>\n",
              "      <td>WESTERN</td>\n",
              "      <td>310</td>\n",
              "    </tr>\n",
              "    <tr>\n",
              "      <th>311</th>\n",
              "      <td>TESO NORTH</td>\n",
              "      <td>Rural</td>\n",
              "      <td>29.2%</td>\n",
              "      <td>0.42%</td>\n",
              "      <td>0.03%</td>\n",
              "      <td>1.22%</td>\n",
              "      <td>69.07%</td>\n",
              "      <td>0.04%</td>\n",
              "      <td>0.01%</td>\n",
              "      <td>0.01%</td>\n",
              "      <td>0%</td>\n",
              "      <td>13490</td>\n",
              "      <td>3939</td>\n",
              "      <td>57</td>\n",
              "      <td>4</td>\n",
              "      <td>165</td>\n",
              "      <td>9317</td>\n",
              "      <td>5</td>\n",
              "      <td>1</td>\n",
              "      <td>2</td>\n",
              "      <td>0</td>\n",
              "      <td>Busia</td>\n",
              "      <td>WESTERN</td>\n",
              "      <td>311</td>\n",
              "    </tr>\n",
              "    <tr>\n",
              "      <th>312</th>\n",
              "      <td>SAMIA</td>\n",
              "      <td>Rural</td>\n",
              "      <td>52.69%</td>\n",
              "      <td>0.72%</td>\n",
              "      <td>0.05%</td>\n",
              "      <td>2.01%</td>\n",
              "      <td>44.16%</td>\n",
              "      <td>0.22%</td>\n",
              "      <td>0.02%</td>\n",
              "      <td>0.04%</td>\n",
              "      <td>0.08%</td>\n",
              "      <td>19385</td>\n",
              "      <td>10214</td>\n",
              "      <td>139</td>\n",
              "      <td>10</td>\n",
              "      <td>390</td>\n",
              "      <td>8561</td>\n",
              "      <td>43</td>\n",
              "      <td>4</td>\n",
              "      <td>8</td>\n",
              "      <td>16</td>\n",
              "      <td>Busia</td>\n",
              "      <td>WESTERN</td>\n",
              "      <td>312</td>\n",
              "    </tr>\n",
              "    <tr>\n",
              "      <th>313</th>\n",
              "      <td>BUNYALA</td>\n",
              "      <td>Rural</td>\n",
              "      <td>58.22%</td>\n",
              "      <td>0.5%</td>\n",
              "      <td>0.04%</td>\n",
              "      <td>1.63%</td>\n",
              "      <td>38.5%</td>\n",
              "      <td>0.15%</td>\n",
              "      <td>0.07%</td>\n",
              "      <td>0.01%</td>\n",
              "      <td>0.89%</td>\n",
              "      <td>13535</td>\n",
              "      <td>7880</td>\n",
              "      <td>67</td>\n",
              "      <td>5</td>\n",
              "      <td>221</td>\n",
              "      <td>5211</td>\n",
              "      <td>20</td>\n",
              "      <td>9</td>\n",
              "      <td>2</td>\n",
              "      <td>120</td>\n",
              "      <td>Busia</td>\n",
              "      <td>WESTERN</td>\n",
              "      <td>313</td>\n",
              "    </tr>\n",
              "    <tr>\n",
              "      <th>314</th>\n",
              "      <td>TESO SOUTH</td>\n",
              "      <td>Rural</td>\n",
              "      <td>25.44%</td>\n",
              "      <td>0.36%</td>\n",
              "      <td>0.03%</td>\n",
              "      <td>0.66%</td>\n",
              "      <td>73.39%</td>\n",
              "      <td>0.07%</td>\n",
              "      <td>0.02%</td>\n",
              "      <td>0.01%</td>\n",
              "      <td>0.02%</td>\n",
              "      <td>21344</td>\n",
              "      <td>5429</td>\n",
              "      <td>77</td>\n",
              "      <td>6</td>\n",
              "      <td>141</td>\n",
              "      <td>15664</td>\n",
              "      <td>16</td>\n",
              "      <td>4</td>\n",
              "      <td>3</td>\n",
              "      <td>4</td>\n",
              "      <td>Busia</td>\n",
              "      <td>WESTERN</td>\n",
              "      <td>314</td>\n",
              "    </tr>\n",
              "  </tbody>\n",
              "</table>\n",
              "<p>290 rows × 24 columns</p>\n",
              "</div>"
            ],
            "text/plain": [
              "            District rural/urban  ... Province OBJECTID\n",
              "0    NYANDARUA NORTH       Urban  ...  CENTRAL        0\n",
              "1    NYANDARUA SOUTH       Urban  ...  CENTRAL        1\n",
              "2        NYERI NORTH       Urban  ...  CENTRAL        2\n",
              "3        NYERI SOUTH       Urban  ...  CENTRAL        3\n",
              "4          KIRINYAGA       Urban  ...  CENTRAL        4\n",
              "..               ...         ...  ...      ...      ...\n",
              "310            BUSIA       Rural  ...  WESTERN      310\n",
              "311       TESO NORTH       Rural  ...  WESTERN      311\n",
              "312            SAMIA       Rural  ...  WESTERN      312\n",
              "313          BUNYALA       Rural  ...  WESTERN      313\n",
              "314       TESO SOUTH       Rural  ...  WESTERN      314\n",
              "\n",
              "[290 rows x 24 columns]"
            ]
          },
          "metadata": {
            "tags": []
          },
          "execution_count": 11
        }
      ]
    },
    {
      "cell_type": "markdown",
      "metadata": {
        "id": "Wg_HInjk0rJG"
      },
      "source": [
        "### 1.44) Consitency: <font color=\"green\">Challenges</font>"
      ]
    },
    {
      "cell_type": "code",
      "metadata": {
        "id": "_xg4tFiZ0sTN",
        "colab": {
          "base_uri": "https://localhost:8080/"
        },
        "outputId": "95ad346e-8aa0-477f-ced4-ac2e68418ddd"
      },
      "source": [
        "# Procedure 1:\n",
        "# Data Cleaning Action:\n",
        "# Explanation:\n",
        "#\n",
        "# check for duplicates\n",
        "roofing_df.shape"
      ],
      "execution_count": 78,
      "outputs": [
        {
          "output_type": "execute_result",
          "data": {
            "text/plain": [
              "(290, 24)"
            ]
          },
          "metadata": {
            "tags": []
          },
          "execution_count": 78
        }
      ]
    },
    {
      "cell_type": "markdown",
      "metadata": {
        "id": "po-2IDPd0vdL"
      },
      "source": [
        "### 1.45) Uniformity: <font color=\"green\">Challenges<font/>"
      ]
    },
    {
      "cell_type": "code",
      "metadata": {
        "id": "oRw7Ow5-0wZM",
        "colab": {
          "base_uri": "https://localhost:8080/",
          "height": 532
        },
        "outputId": "1484512d-39d5-4ed7-91ac-b678e7b5e616"
      },
      "source": [
        "# Procedure 1:\n",
        "# Data Cleaning Action:\n",
        "# Explanation:\n",
        "#renaming column names\n",
        "roofing_df"
      ],
      "execution_count": 79,
      "outputs": [
        {
          "output_type": "execute_result",
          "data": {
            "text/html": [
              "<div>\n",
              "<style scoped>\n",
              "    .dataframe tbody tr th:only-of-type {\n",
              "        vertical-align: middle;\n",
              "    }\n",
              "\n",
              "    .dataframe tbody tr th {\n",
              "        vertical-align: top;\n",
              "    }\n",
              "\n",
              "    .dataframe thead th {\n",
              "        text-align: right;\n",
              "    }\n",
              "</style>\n",
              "<table border=\"1\" class=\"dataframe\">\n",
              "  <thead>\n",
              "    <tr style=\"text-align: right;\">\n",
              "      <th></th>\n",
              "      <th>District</th>\n",
              "      <th>rural/urban</th>\n",
              "      <th>%_of_Households_Corrugated_Iron_Sheets</th>\n",
              "      <th>%_of_Households_Tiles</th>\n",
              "      <th>%_of_Households_Concrete</th>\n",
              "      <th>Asbestos_%_of_Households_Sheets</th>\n",
              "      <th>%_of_Households_Grass</th>\n",
              "      <th>%_of_Households_Makuti</th>\n",
              "      <th>%_of_Households_Tin</th>\n",
              "      <th>%_of_Households_Mud/Dung</th>\n",
              "      <th>%_of_Households_Other</th>\n",
              "      <th>Households</th>\n",
              "      <th>No_Corrugated_Iron_Sheets</th>\n",
              "      <th>No_Tiles</th>\n",
              "      <th>No_Concrete</th>\n",
              "      <th>No_Asbestos_Sheets</th>\n",
              "      <th>No_Grass</th>\n",
              "      <th>No_Makuti</th>\n",
              "      <th>No_Tin</th>\n",
              "      <th>No_Mud/Dung</th>\n",
              "      <th>No_Other</th>\n",
              "      <th>County</th>\n",
              "      <th>Province</th>\n",
              "      <th>OBJECTID</th>\n",
              "    </tr>\n",
              "  </thead>\n",
              "  <tbody>\n",
              "    <tr>\n",
              "      <th>0</th>\n",
              "      <td>NYANDARUA NORTH</td>\n",
              "      <td>Urban</td>\n",
              "      <td>91.08%</td>\n",
              "      <td>0.62%</td>\n",
              "      <td>0.16%</td>\n",
              "      <td>1.46%</td>\n",
              "      <td>0.64%</td>\n",
              "      <td>0.03%</td>\n",
              "      <td>0.07%</td>\n",
              "      <td>0%</td>\n",
              "      <td>5.94%</td>\n",
              "      <td>23229</td>\n",
              "      <td>21156</td>\n",
              "      <td>144</td>\n",
              "      <td>38</td>\n",
              "      <td>338</td>\n",
              "      <td>148</td>\n",
              "      <td>7</td>\n",
              "      <td>17</td>\n",
              "      <td>1</td>\n",
              "      <td>1380</td>\n",
              "      <td>Nyandarua</td>\n",
              "      <td>CENTRAL</td>\n",
              "      <td>0</td>\n",
              "    </tr>\n",
              "    <tr>\n",
              "      <th>1</th>\n",
              "      <td>NYANDARUA SOUTH</td>\n",
              "      <td>Urban</td>\n",
              "      <td>95.38%</td>\n",
              "      <td>0.47%</td>\n",
              "      <td>2.6%</td>\n",
              "      <td>1.46%</td>\n",
              "      <td>0.06%</td>\n",
              "      <td>0%</td>\n",
              "      <td>0%</td>\n",
              "      <td>0.02%</td>\n",
              "      <td>0.02%</td>\n",
              "      <td>5345</td>\n",
              "      <td>5098</td>\n",
              "      <td>25</td>\n",
              "      <td>139</td>\n",
              "      <td>78</td>\n",
              "      <td>3</td>\n",
              "      <td>0</td>\n",
              "      <td>0</td>\n",
              "      <td>1</td>\n",
              "      <td>1</td>\n",
              "      <td>Nyandarua</td>\n",
              "      <td>CENTRAL</td>\n",
              "      <td>1</td>\n",
              "    </tr>\n",
              "    <tr>\n",
              "      <th>2</th>\n",
              "      <td>NYERI NORTH</td>\n",
              "      <td>Urban</td>\n",
              "      <td>90.28%</td>\n",
              "      <td>1.13%</td>\n",
              "      <td>5.21%</td>\n",
              "      <td>2.58%</td>\n",
              "      <td>0.49%</td>\n",
              "      <td>0.08%</td>\n",
              "      <td>0.2%</td>\n",
              "      <td>0.01%</td>\n",
              "      <td>0.01%</td>\n",
              "      <td>14208</td>\n",
              "      <td>12827</td>\n",
              "      <td>161</td>\n",
              "      <td>740</td>\n",
              "      <td>367</td>\n",
              "      <td>69</td>\n",
              "      <td>11</td>\n",
              "      <td>29</td>\n",
              "      <td>2</td>\n",
              "      <td>2</td>\n",
              "      <td>Nyeri</td>\n",
              "      <td>CENTRAL</td>\n",
              "      <td>2</td>\n",
              "    </tr>\n",
              "    <tr>\n",
              "      <th>3</th>\n",
              "      <td>NYERI SOUTH</td>\n",
              "      <td>Urban</td>\n",
              "      <td>90.89%</td>\n",
              "      <td>2.3%</td>\n",
              "      <td>3.32%</td>\n",
              "      <td>3.04%</td>\n",
              "      <td>0.09%</td>\n",
              "      <td>0.05%</td>\n",
              "      <td>0.14%</td>\n",
              "      <td>0.01%</td>\n",
              "      <td>0.17%</td>\n",
              "      <td>39927</td>\n",
              "      <td>36290</td>\n",
              "      <td>917</td>\n",
              "      <td>1325</td>\n",
              "      <td>1213</td>\n",
              "      <td>36</td>\n",
              "      <td>20</td>\n",
              "      <td>57</td>\n",
              "      <td>2</td>\n",
              "      <td>67</td>\n",
              "      <td>Nyeri</td>\n",
              "      <td>CENTRAL</td>\n",
              "      <td>3</td>\n",
              "    </tr>\n",
              "    <tr>\n",
              "      <th>4</th>\n",
              "      <td>KIRINYAGA</td>\n",
              "      <td>Urban</td>\n",
              "      <td>91.41%</td>\n",
              "      <td>0.87%</td>\n",
              "      <td>3.97%</td>\n",
              "      <td>3.5%</td>\n",
              "      <td>0.04%</td>\n",
              "      <td>0.01%</td>\n",
              "      <td>0.03%</td>\n",
              "      <td>0.01%</td>\n",
              "      <td>0.15%</td>\n",
              "      <td>27461</td>\n",
              "      <td>25103</td>\n",
              "      <td>239</td>\n",
              "      <td>1090</td>\n",
              "      <td>960</td>\n",
              "      <td>11</td>\n",
              "      <td>3</td>\n",
              "      <td>9</td>\n",
              "      <td>4</td>\n",
              "      <td>42</td>\n",
              "      <td>Kirinyaga</td>\n",
              "      <td>CENTRAL</td>\n",
              "      <td>4</td>\n",
              "    </tr>\n",
              "    <tr>\n",
              "      <th>...</th>\n",
              "      <td>...</td>\n",
              "      <td>...</td>\n",
              "      <td>...</td>\n",
              "      <td>...</td>\n",
              "      <td>...</td>\n",
              "      <td>...</td>\n",
              "      <td>...</td>\n",
              "      <td>...</td>\n",
              "      <td>...</td>\n",
              "      <td>...</td>\n",
              "      <td>...</td>\n",
              "      <td>...</td>\n",
              "      <td>...</td>\n",
              "      <td>...</td>\n",
              "      <td>...</td>\n",
              "      <td>...</td>\n",
              "      <td>...</td>\n",
              "      <td>...</td>\n",
              "      <td>...</td>\n",
              "      <td>...</td>\n",
              "      <td>...</td>\n",
              "      <td>...</td>\n",
              "      <td>...</td>\n",
              "      <td>...</td>\n",
              "    </tr>\n",
              "    <tr>\n",
              "      <th>310</th>\n",
              "      <td>BUSIA</td>\n",
              "      <td>Rural</td>\n",
              "      <td>49.66%</td>\n",
              "      <td>0.46%</td>\n",
              "      <td>0.03%</td>\n",
              "      <td>2.15%</td>\n",
              "      <td>47.44%</td>\n",
              "      <td>0.08%</td>\n",
              "      <td>0.13%</td>\n",
              "      <td>0.03%</td>\n",
              "      <td>0.02%</td>\n",
              "      <td>58208</td>\n",
              "      <td>28909</td>\n",
              "      <td>265</td>\n",
              "      <td>20</td>\n",
              "      <td>1253</td>\n",
              "      <td>27611</td>\n",
              "      <td>48</td>\n",
              "      <td>78</td>\n",
              "      <td>15</td>\n",
              "      <td>9</td>\n",
              "      <td>Busia</td>\n",
              "      <td>WESTERN</td>\n",
              "      <td>310</td>\n",
              "    </tr>\n",
              "    <tr>\n",
              "      <th>311</th>\n",
              "      <td>TESO NORTH</td>\n",
              "      <td>Rural</td>\n",
              "      <td>29.2%</td>\n",
              "      <td>0.42%</td>\n",
              "      <td>0.03%</td>\n",
              "      <td>1.22%</td>\n",
              "      <td>69.07%</td>\n",
              "      <td>0.04%</td>\n",
              "      <td>0.01%</td>\n",
              "      <td>0.01%</td>\n",
              "      <td>0%</td>\n",
              "      <td>13490</td>\n",
              "      <td>3939</td>\n",
              "      <td>57</td>\n",
              "      <td>4</td>\n",
              "      <td>165</td>\n",
              "      <td>9317</td>\n",
              "      <td>5</td>\n",
              "      <td>1</td>\n",
              "      <td>2</td>\n",
              "      <td>0</td>\n",
              "      <td>Busia</td>\n",
              "      <td>WESTERN</td>\n",
              "      <td>311</td>\n",
              "    </tr>\n",
              "    <tr>\n",
              "      <th>312</th>\n",
              "      <td>SAMIA</td>\n",
              "      <td>Rural</td>\n",
              "      <td>52.69%</td>\n",
              "      <td>0.72%</td>\n",
              "      <td>0.05%</td>\n",
              "      <td>2.01%</td>\n",
              "      <td>44.16%</td>\n",
              "      <td>0.22%</td>\n",
              "      <td>0.02%</td>\n",
              "      <td>0.04%</td>\n",
              "      <td>0.08%</td>\n",
              "      <td>19385</td>\n",
              "      <td>10214</td>\n",
              "      <td>139</td>\n",
              "      <td>10</td>\n",
              "      <td>390</td>\n",
              "      <td>8561</td>\n",
              "      <td>43</td>\n",
              "      <td>4</td>\n",
              "      <td>8</td>\n",
              "      <td>16</td>\n",
              "      <td>Busia</td>\n",
              "      <td>WESTERN</td>\n",
              "      <td>312</td>\n",
              "    </tr>\n",
              "    <tr>\n",
              "      <th>313</th>\n",
              "      <td>BUNYALA</td>\n",
              "      <td>Rural</td>\n",
              "      <td>58.22%</td>\n",
              "      <td>0.5%</td>\n",
              "      <td>0.04%</td>\n",
              "      <td>1.63%</td>\n",
              "      <td>38.5%</td>\n",
              "      <td>0.15%</td>\n",
              "      <td>0.07%</td>\n",
              "      <td>0.01%</td>\n",
              "      <td>0.89%</td>\n",
              "      <td>13535</td>\n",
              "      <td>7880</td>\n",
              "      <td>67</td>\n",
              "      <td>5</td>\n",
              "      <td>221</td>\n",
              "      <td>5211</td>\n",
              "      <td>20</td>\n",
              "      <td>9</td>\n",
              "      <td>2</td>\n",
              "      <td>120</td>\n",
              "      <td>Busia</td>\n",
              "      <td>WESTERN</td>\n",
              "      <td>313</td>\n",
              "    </tr>\n",
              "    <tr>\n",
              "      <th>314</th>\n",
              "      <td>TESO SOUTH</td>\n",
              "      <td>Rural</td>\n",
              "      <td>25.44%</td>\n",
              "      <td>0.36%</td>\n",
              "      <td>0.03%</td>\n",
              "      <td>0.66%</td>\n",
              "      <td>73.39%</td>\n",
              "      <td>0.07%</td>\n",
              "      <td>0.02%</td>\n",
              "      <td>0.01%</td>\n",
              "      <td>0.02%</td>\n",
              "      <td>21344</td>\n",
              "      <td>5429</td>\n",
              "      <td>77</td>\n",
              "      <td>6</td>\n",
              "      <td>141</td>\n",
              "      <td>15664</td>\n",
              "      <td>16</td>\n",
              "      <td>4</td>\n",
              "      <td>3</td>\n",
              "      <td>4</td>\n",
              "      <td>Busia</td>\n",
              "      <td>WESTERN</td>\n",
              "      <td>314</td>\n",
              "    </tr>\n",
              "  </tbody>\n",
              "</table>\n",
              "<p>290 rows × 24 columns</p>\n",
              "</div>"
            ],
            "text/plain": [
              "            District rural/urban  ... Province OBJECTID\n",
              "0    NYANDARUA NORTH       Urban  ...  CENTRAL        0\n",
              "1    NYANDARUA SOUTH       Urban  ...  CENTRAL        1\n",
              "2        NYERI NORTH       Urban  ...  CENTRAL        2\n",
              "3        NYERI SOUTH       Urban  ...  CENTRAL        3\n",
              "4          KIRINYAGA       Urban  ...  CENTRAL        4\n",
              "..               ...         ...  ...      ...      ...\n",
              "310            BUSIA       Rural  ...  WESTERN      310\n",
              "311       TESO NORTH       Rural  ...  WESTERN      311\n",
              "312            SAMIA       Rural  ...  WESTERN      312\n",
              "313          BUNYALA       Rural  ...  WESTERN      313\n",
              "314       TESO SOUTH       Rural  ...  WESTERN      314\n",
              "\n",
              "[290 rows x 24 columns]"
            ]
          },
          "metadata": {
            "tags": []
          },
          "execution_count": 79
        }
      ]
    },
    {
      "cell_type": "code",
      "metadata": {
        "id": "-3HTVQkC0xxj"
      },
      "source": [
        "# Procedure 2:\n",
        "# Data Cleaning Action:\n",
        "# Explanation:\n",
        "#\n",
        "# Standardization - Fixing messy column names"
      ],
      "execution_count": 14,
      "outputs": []
    },
    {
      "cell_type": "markdown",
      "metadata": {
        "id": "dr1eyGZzt83Z"
      },
      "source": [
        "### Exporting the Cleaned Dataset"
      ]
    },
    {
      "cell_type": "code",
      "metadata": {
        "id": "igd8ULk7t95C"
      },
      "source": [
        "# Let's export our dataframe into a csv file as shown \n",
        "# in the example given in the following line;\n",
        "# daframe.to_csv('example.csv')\n",
        "# In the above case daframe is the dataframe which would like to export.\n",
        "# we use the to_csv function to create a csv file with the name example \n",
        "# and export it\n",
        "# pd.to_csv"
      ],
      "execution_count": 15,
      "outputs": []
    },
    {
      "cell_type": "markdown",
      "metadata": {
        "id": "NicC8P9LMjvO"
      },
      "source": [
        "## 1.5 Answering Questions"
      ]
    },
    {
      "cell_type": "markdown",
      "metadata": {
        "id": "8izhaW7UNYGJ"
      },
      "source": [
        "Let's answer the following questions with our dataset"
      ]
    },
    {
      "cell_type": "code",
      "metadata": {
        "id": "tTOgnXvuMxcn",
        "colab": {
          "base_uri": "https://localhost:8080/"
        },
        "outputId": "d95cdd6e-75cd-457e-f256-936c0f0960f0"
      },
      "source": [
        "# Challenge 1\n",
        "# Find out the most popular type of household material for urban regions.\n",
        "#select a df where with only urban entries.\n",
        "\n",
        "urbandf = roofing_df[roofing_df['rural/urban']  == 'Urban']\n",
        "# create a df with the totals of every material\n",
        "totals = urbandf[['No_Corrugated_Iron_Sheets', 'No_Tiles',\t'No_Concrete',\t'No_Asbestos_Sheets',\t'No_Grass',\t'No_Makuti',\t'No_Tin',\t'No_Mud/Dung',\t'No_Other']].agg(['sum'])\n",
        "totals.idxmax(axis= 1)\n"
      ],
      "execution_count": 111,
      "outputs": [
        {
          "output_type": "execute_result",
          "data": {
            "text/plain": [
              "sum    No_Corrugated_Iron_Sheets\n",
              "dtype: object"
            ]
          },
          "metadata": {
            "tags": []
          },
          "execution_count": 111
        }
      ]
    },
    {
      "cell_type": "markdown",
      "metadata": {
        "id": "byCXfEAgUxZE"
      },
      "source": [
        "The most popular roofing material is Corrugated Iron sheets."
      ]
    },
    {
      "cell_type": "code",
      "metadata": {
        "id": "BNegesaWNvQs",
        "colab": {
          "base_uri": "https://localhost:8080/"
        },
        "outputId": "6e929368-590a-4948-9da5-091b595ddacd"
      },
      "source": [
        "# Challenge 2\n",
        "# Find out the least popular type of household material for urban regions.\n",
        "#call the previously created index wit the totals\n",
        "totals.idxmin(axis = 1)"
      ],
      "execution_count": 108,
      "outputs": [
        {
          "output_type": "execute_result",
          "data": {
            "text/plain": [
              "sum    No_Mud/Dung\n",
              "dtype: object"
            ]
          },
          "metadata": {
            "tags": []
          },
          "execution_count": 108
        }
      ]
    },
    {
      "cell_type": "markdown",
      "metadata": {
        "id": "p4HVA7xWjU0A"
      },
      "source": [
        "The least popular type of household materia for urban areas is Mud/Dung"
      ]
    },
    {
      "cell_type": "code",
      "metadata": {
        "id": "7tilTerhNyiP",
        "colab": {
          "base_uri": "https://localhost:8080/"
        },
        "outputId": "c4b4efef-684d-4a6b-942f-c30d986b646a"
      },
      "source": [
        "# Challenge 3\n",
        "# Find out the most popular type of households material in the urban regions of Nairobi.\n",
        "# \n",
        "# create a df for urban households in nairobi\n",
        "nairobidf = roofing_df[(roofing_df['rural/urban']  == 'Urban') & (roofing_df['County']  == 'Nairobi')]\n",
        "nai_totals = nairobidf[['No_Corrugated_Iron_Sheets', 'No_Tiles',\t'No_Concrete',\t'No_Asbestos_Sheets',\t'No_Grass',\t'No_Makuti',\t'No_Tin',\t'No_Mud/Dung',\t'No_Other']].agg(['sum'])\n",
        "nai_totals.idxmax(axis = 1)"
      ],
      "execution_count": 139,
      "outputs": [
        {
          "output_type": "execute_result",
          "data": {
            "text/plain": [
              "sum    No_Corrugated_Iron_Sheets\n",
              "dtype: object"
            ]
          },
          "metadata": {
            "tags": []
          },
          "execution_count": 139
        }
      ]
    },
    {
      "cell_type": "markdown",
      "metadata": {
        "id": "w0igIgEhpUaN"
      },
      "source": [
        "The most popular type of households material in the urban regions of Nairobi is : Corrugared Iron Sheets"
      ]
    },
    {
      "cell_type": "code",
      "metadata": {
        "id": "rhXeHa6IOBsq",
        "colab": {
          "base_uri": "https://localhost:8080/",
          "height": 68
        },
        "outputId": "e6c1d6ef-bd56-40f2-81cb-90f26cd05caa"
      },
      "source": [
        "# Challenge 4\n",
        "# Find out the least popular type of households material in rural regions of Nairobi.\n",
        "# \n",
        "nairobi_rural_df = roofing_df[(roofing_df['rural/urban']  == 'Rural') & (roofing_df['County']  == 'Nairobi')]\n",
        "# nai_totals = nairobidf[['No_Corrugated_Iron_Sheets', 'No_Tiles',\t'No_Concrete',\t'No_Asbestos_Sheets',\t'No_Grass',\t'No_Makuti',\t'No_Tin',\t'No_Mud/Dung',\t'No_Other']].agg(['sum'])\n",
        "# nai_totals\n",
        "nairobi_rural_df\n"
      ],
      "execution_count": 138,
      "outputs": [
        {
          "output_type": "execute_result",
          "data": {
            "text/html": [
              "<div>\n",
              "<style scoped>\n",
              "    .dataframe tbody tr th:only-of-type {\n",
              "        vertical-align: middle;\n",
              "    }\n",
              "\n",
              "    .dataframe tbody tr th {\n",
              "        vertical-align: top;\n",
              "    }\n",
              "\n",
              "    .dataframe thead th {\n",
              "        text-align: right;\n",
              "    }\n",
              "</style>\n",
              "<table border=\"1\" class=\"dataframe\">\n",
              "  <thead>\n",
              "    <tr style=\"text-align: right;\">\n",
              "      <th></th>\n",
              "      <th>District</th>\n",
              "      <th>rural/urban</th>\n",
              "      <th>%_of_Households_Corrugated_Iron_Sheets</th>\n",
              "      <th>%_of_Households_Tiles</th>\n",
              "      <th>%_of_Households_Concrete</th>\n",
              "      <th>Asbestos_%_of_Households_Sheets</th>\n",
              "      <th>%_of_Households_Grass</th>\n",
              "      <th>%_of_Households_Makuti</th>\n",
              "      <th>%_of_Households_Tin</th>\n",
              "      <th>%_of_Households_Mud/Dung</th>\n",
              "      <th>%_of_Households_Other</th>\n",
              "      <th>Households</th>\n",
              "      <th>No_Corrugated_Iron_Sheets</th>\n",
              "      <th>No_Tiles</th>\n",
              "      <th>No_Concrete</th>\n",
              "      <th>No_Asbestos_Sheets</th>\n",
              "      <th>No_Grass</th>\n",
              "      <th>No_Makuti</th>\n",
              "      <th>No_Tin</th>\n",
              "      <th>No_Mud/Dung</th>\n",
              "      <th>No_Other</th>\n",
              "      <th>County</th>\n",
              "      <th>Province</th>\n",
              "      <th>OBJECTID</th>\n",
              "    </tr>\n",
              "  </thead>\n",
              "  <tbody>\n",
              "  </tbody>\n",
              "</table>\n",
              "</div>"
            ],
            "text/plain": [
              "Empty DataFrame\n",
              "Columns: [District, rural/urban, %_of_Households_Corrugated_Iron_Sheets, %_of_Households_Tiles, %_of_Households_Concrete, Asbestos_%_of_Households_Sheets, %_of_Households_Grass, %_of_Households_Makuti, %_of_Households_Tin, %_of_Households_Mud/Dung, %_of_Households_Other, Households, No_Corrugated_Iron_Sheets, No_Tiles, No_Concrete, No_Asbestos_Sheets, No_Grass, No_Makuti, No_Tin, No_Mud/Dung, No_Other, County, Province, OBJECTID]\n",
              "Index: []"
            ]
          },
          "metadata": {
            "tags": []
          },
          "execution_count": 138
        }
      ]
    },
    {
      "cell_type": "markdown",
      "metadata": {
        "id": "dWvt5DLbp8Sp"
      },
      "source": [
        "There are no Rural areas if Nairobi region"
      ]
    },
    {
      "cell_type": "code",
      "metadata": {
        "id": "wddDP6yCOD_F",
        "colab": {
          "base_uri": "https://localhost:8080/"
        },
        "outputId": "997560ad-5353-44c0-bf44-6890a317fb16"
      },
      "source": [
        "# Challenge 5\n",
        "# Find out the average no. of tiling households.\n",
        "# \n",
        "roofing_df['No_Tiles'].agg(\"mean\")\n"
      ],
      "execution_count": 141,
      "outputs": [
        {
          "output_type": "execute_result",
          "data": {
            "text/plain": [
              "668.248275862069"
            ]
          },
          "metadata": {
            "tags": []
          },
          "execution_count": 141
        }
      ]
    },
    {
      "cell_type": "code",
      "metadata": {
        "id": "OemJ0HDYOHCq",
        "colab": {
          "base_uri": "https://localhost:8080/",
          "height": 78
        },
        "outputId": "09625034-3fbc-4b4c-d3c5-ce53d5f202b3"
      },
      "source": [
        "# Challenge 6\n",
        "# Which county has the highest no. of grass households?\n",
        "# \n",
        "grassdf = roofing_df[['County', 'No_Grass']]\n",
        "grassdf.sort_values('No_Grass',ascending= False).head(1)"
      ],
      "execution_count": 151,
      "outputs": [
        {
          "output_type": "execute_result",
          "data": {
            "text/html": [
              "<div>\n",
              "<style scoped>\n",
              "    .dataframe tbody tr th:only-of-type {\n",
              "        vertical-align: middle;\n",
              "    }\n",
              "\n",
              "    .dataframe tbody tr th {\n",
              "        vertical-align: top;\n",
              "    }\n",
              "\n",
              "    .dataframe thead th {\n",
              "        text-align: right;\n",
              "    }\n",
              "</style>\n",
              "<table border=\"1\" class=\"dataframe\">\n",
              "  <thead>\n",
              "    <tr style=\"text-align: right;\">\n",
              "      <th></th>\n",
              "      <th>County</th>\n",
              "      <th>No_Grass</th>\n",
              "    </tr>\n",
              "  </thead>\n",
              "  <tbody>\n",
              "    <tr>\n",
              "      <th>166</th>\n",
              "      <td>Siaya</td>\n",
              "      <td>47962</td>\n",
              "    </tr>\n",
              "  </tbody>\n",
              "</table>\n",
              "</div>"
            ],
            "text/plain": [
              "    County  No_Grass\n",
              "166  Siaya     47962"
            ]
          },
          "metadata": {
            "tags": []
          },
          "execution_count": 151
        }
      ]
    },
    {
      "cell_type": "code",
      "metadata": {
        "id": "CIxC5arSOLak",
        "colab": {
          "base_uri": "https://localhost:8080/",
          "height": 199
        },
        "outputId": "7bd5a4ac-2f29-4eae-bae8-f51467ef0bc2"
      },
      "source": [
        "# Challenge 7\n",
        "# Which top 5 counties have the highest no of households made of iron sheets ?\n",
        "# \n",
        "# sheetsdf = roofing_df[['County', 'No_Corrugated_Iron_Sheets']]\n",
        "# sheetsdf.sort_values('No_Corrugated_Iron_Sheets', ascending= False)\n",
        "grouped_df = (roofing_df.groupby(['County','No_Corrugated_Iron_Sheets'])['No_Corrugated_Iron_Sheets'].agg(['sum']).sort_values(by='sum', ascending=False).reset_index().drop_duplicates('County', keep='first'))\n",
        "grouped_df.head()"
      ],
      "execution_count": 175,
      "outputs": [
        {
          "output_type": "execute_result",
          "data": {
            "text/html": [
              "<div>\n",
              "<style scoped>\n",
              "    .dataframe tbody tr th:only-of-type {\n",
              "        vertical-align: middle;\n",
              "    }\n",
              "\n",
              "    .dataframe tbody tr th {\n",
              "        vertical-align: top;\n",
              "    }\n",
              "\n",
              "    .dataframe thead th {\n",
              "        text-align: right;\n",
              "    }\n",
              "</style>\n",
              "<table border=\"1\" class=\"dataframe\">\n",
              "  <thead>\n",
              "    <tr style=\"text-align: right;\">\n",
              "      <th></th>\n",
              "      <th>County</th>\n",
              "      <th>No_Corrugated_Iron_Sheets</th>\n",
              "      <th>sum</th>\n",
              "    </tr>\n",
              "  </thead>\n",
              "  <tbody>\n",
              "    <tr>\n",
              "      <th>0</th>\n",
              "      <td>Nairobi</td>\n",
              "      <td>234774</td>\n",
              "      <td>234774</td>\n",
              "    </tr>\n",
              "    <tr>\n",
              "      <th>3</th>\n",
              "      <td>Kirinyaga</td>\n",
              "      <td>121100</td>\n",
              "      <td>121100</td>\n",
              "    </tr>\n",
              "    <tr>\n",
              "      <th>4</th>\n",
              "      <td>Mombasa</td>\n",
              "      <td>101601</td>\n",
              "      <td>101601</td>\n",
              "    </tr>\n",
              "    <tr>\n",
              "      <th>6</th>\n",
              "      <td>Kisumu</td>\n",
              "      <td>85618</td>\n",
              "      <td>85618</td>\n",
              "    </tr>\n",
              "    <tr>\n",
              "      <th>7</th>\n",
              "      <td>Murang'a</td>\n",
              "      <td>83553</td>\n",
              "      <td>83553</td>\n",
              "    </tr>\n",
              "  </tbody>\n",
              "</table>\n",
              "</div>"
            ],
            "text/plain": [
              "      County  No_Corrugated_Iron_Sheets     sum\n",
              "0    Nairobi                     234774  234774\n",
              "3  Kirinyaga                     121100  121100\n",
              "4    Mombasa                     101601  101601\n",
              "6     Kisumu                      85618   85618\n",
              "7   Murang'a                      83553   83553"
            ]
          },
          "metadata": {
            "tags": []
          },
          "execution_count": 175
        }
      ]
    },
    {
      "cell_type": "code",
      "metadata": {
        "id": "gSjjnw56OP8O",
        "colab": {
          "base_uri": "https://localhost:8080/"
        },
        "outputId": "b8c9026f-497e-4cee-ff4a-db086ab5a7c0"
      },
      "source": [
        "# Challenge 8\n",
        "# What is the average no. of households in Kenya?\n",
        "#average \n",
        "roofing_df['Households'].mean()"
      ],
      "execution_count": 177,
      "outputs": [
        {
          "output_type": "execute_result",
          "data": {
            "text/plain": [
              "30131.368965517242"
            ]
          },
          "metadata": {
            "tags": []
          },
          "execution_count": 177
        }
      ]
    },
    {
      "cell_type": "code",
      "metadata": {
        "id": "UZLYqF7UOTtu",
        "colab": {
          "base_uri": "https://localhost:8080/",
          "height": 78
        },
        "outputId": "fd355b2d-7ad4-47d7-dce2-73abb22d7ac5"
      },
      "source": [
        "# Challenge 9\n",
        "# Which county has the most no. of households made of dung?\n",
        "# \n",
        "dungdf = roofing_df[['County', 'No_Mud/Dung']]\n",
        "dungdf.sort_values('No_Mud/Dung',ascending= False).head(1)\n"
      ],
      "execution_count": 179,
      "outputs": [
        {
          "output_type": "execute_result",
          "data": {
            "text/html": [
              "<div>\n",
              "<style scoped>\n",
              "    .dataframe tbody tr th:only-of-type {\n",
              "        vertical-align: middle;\n",
              "    }\n",
              "\n",
              "    .dataframe tbody tr th {\n",
              "        vertical-align: top;\n",
              "    }\n",
              "\n",
              "    .dataframe thead th {\n",
              "        text-align: right;\n",
              "    }\n",
              "</style>\n",
              "<table border=\"1\" class=\"dataframe\">\n",
              "  <thead>\n",
              "    <tr style=\"text-align: right;\">\n",
              "      <th></th>\n",
              "      <th>County</th>\n",
              "      <th>No_Mud/Dung</th>\n",
              "    </tr>\n",
              "  </thead>\n",
              "  <tbody>\n",
              "    <tr>\n",
              "      <th>265</th>\n",
              "      <td>Narok</td>\n",
              "      <td>15211</td>\n",
              "    </tr>\n",
              "  </tbody>\n",
              "</table>\n",
              "</div>"
            ],
            "text/plain": [
              "    County  No_Mud/Dung\n",
              "265  Narok        15211"
            ]
          },
          "metadata": {
            "tags": []
          },
          "execution_count": 179
        }
      ]
    },
    {
      "cell_type": "code",
      "metadata": {
        "id": "1qk8wF3MOXDu",
        "colab": {
          "base_uri": "https://localhost:8080/",
          "height": 139
        },
        "outputId": "0f8fbab5-01ba-479f-f7bb-fd30385dc2b4"
      },
      "source": [
        "# Challenge 10\n",
        "# In ascending order, which top 3 counties have the highest no. of households with makuti?\n",
        "# \n",
        "makuti_df = (roofing_df.groupby(['County','No_Makuti'])['No_Makuti'].agg(['sum']).sort_values(by='sum', ascending=False).reset_index().drop_duplicates('County', keep='first'))\n",
        "makuti_df.head(3)\n"
      ],
      "execution_count": 183,
      "outputs": [
        {
          "output_type": "execute_result",
          "data": {
            "text/html": [
              "<div>\n",
              "<style scoped>\n",
              "    .dataframe tbody tr th:only-of-type {\n",
              "        vertical-align: middle;\n",
              "    }\n",
              "\n",
              "    .dataframe tbody tr th {\n",
              "        vertical-align: top;\n",
              "    }\n",
              "\n",
              "    .dataframe thead th {\n",
              "        text-align: right;\n",
              "    }\n",
              "</style>\n",
              "<table border=\"1\" class=\"dataframe\">\n",
              "  <thead>\n",
              "    <tr style=\"text-align: right;\">\n",
              "      <th></th>\n",
              "      <th>County</th>\n",
              "      <th>No_Makuti</th>\n",
              "      <th>sum</th>\n",
              "    </tr>\n",
              "  </thead>\n",
              "  <tbody>\n",
              "    <tr>\n",
              "      <th>0</th>\n",
              "      <td>Kilifi</td>\n",
              "      <td>34905</td>\n",
              "      <td>34905</td>\n",
              "    </tr>\n",
              "    <tr>\n",
              "      <th>1</th>\n",
              "      <td>Kwale</td>\n",
              "      <td>22575</td>\n",
              "      <td>22575</td>\n",
              "    </tr>\n",
              "    <tr>\n",
              "      <th>3</th>\n",
              "      <td>Turkana</td>\n",
              "      <td>18853</td>\n",
              "      <td>18853</td>\n",
              "    </tr>\n",
              "  </tbody>\n",
              "</table>\n",
              "</div>"
            ],
            "text/plain": [
              "    County  No_Makuti    sum\n",
              "0   Kilifi      34905  34905\n",
              "1   Kwale       22575  22575\n",
              "3  Turkana      18853  18853"
            ]
          },
          "metadata": {
            "tags": []
          },
          "execution_count": 183
        }
      ]
    },
    {
      "cell_type": "code",
      "metadata": {
        "id": "8xkStdjdXS3w",
        "colab": {
          "base_uri": "https://localhost:8080/"
        },
        "outputId": "16f576fb-7003-4a4e-f0ec-c5898ae37f68"
      },
      "source": [
        "# Challenge 11\n",
        "# What is the no. of Makuti households in urban regions?\n",
        "#\n",
        "urban_makuti = urbandf['No_Makuti'].sum()\n",
        "urban_makuti"
      ],
      "execution_count": 186,
      "outputs": [
        {
          "output_type": "execute_result",
          "data": {
            "text/plain": [
              "52900"
            ]
          },
          "metadata": {
            "tags": []
          },
          "execution_count": 186
        }
      ]
    },
    {
      "cell_type": "code",
      "metadata": {
        "id": "rgVsXH_5XVCh",
        "colab": {
          "base_uri": "https://localhost:8080/"
        },
        "outputId": "ccbeab1b-2059-4f28-e2af-f2fc2f2f3bbc"
      },
      "source": [
        "# Challenge 12\n",
        "# What is the no. of Makuti households in the rural regions of Kisumu county?\n",
        "#\n",
        "ruraldf = roofing_df[roofing_df['rural/urban'] == \"Rural\"]\n",
        "ruraldf\n",
        "rural_makuti = ruraldf['No_Makuti'].sum()\n",
        "rural_makuti"
      ],
      "execution_count": 189,
      "outputs": [
        {
          "output_type": "execute_result",
          "data": {
            "text/plain": [
              "230241"
            ]
          },
          "metadata": {
            "tags": []
          },
          "execution_count": 189
        }
      ]
    },
    {
      "cell_type": "code",
      "metadata": {
        "id": "XvvFWhuDXXeP",
        "colab": {
          "base_uri": "https://localhost:8080/"
        },
        "outputId": "e6d75c5f-ebb2-46ea-b517-490b4a09e9f9"
      },
      "source": [
        "# Challenge 13\n",
        "# What percentage of households in Kenya are concrete?\n",
        "#\n",
        "total_percentage = (roofing_df['No_Concrete'].sum() /roofing_df['Households'].sum()) /100\n",
        "percent_of_concrete = \"{:%}\". format(total_percentage)\n",
        "print(percent_of_concrete)"
      ],
      "execution_count": 196,
      "outputs": [
        {
          "output_type": "stream",
          "text": [
            "0.035635%\n"
          ],
          "name": "stdout"
        }
      ]
    },
    {
      "cell_type": "code",
      "metadata": {
        "id": "q1iq02FuXc2R",
        "colab": {
          "base_uri": "https://localhost:8080/",
          "height": 199
        },
        "outputId": "ea266d9b-acff-45e5-a5f2-d3451fbaa57a"
      },
      "source": [
        "# Challenge 14\n",
        "# Which top 3 districts have the highest no. of grass and makuti households?\n",
        "#\n",
        "roofing_df['makuti_grass'] = (roofing_df['No_Makuti'] + roofing_df['No_Grass'])\n",
        "high_df = (roofing_df.groupby(['District','makuti_grass'])['makuti_grass'].agg(['sum']).sort_values(by ='sum', ascending=False).reset_index().drop_duplicates('District', keep='first'))\n",
        "high_df.head()"
      ],
      "execution_count": 13,
      "outputs": [
        {
          "output_type": "execute_result",
          "data": {
            "text/html": [
              "<div>\n",
              "<style scoped>\n",
              "    .dataframe tbody tr th:only-of-type {\n",
              "        vertical-align: middle;\n",
              "    }\n",
              "\n",
              "    .dataframe tbody tr th {\n",
              "        vertical-align: top;\n",
              "    }\n",
              "\n",
              "    .dataframe thead th {\n",
              "        text-align: right;\n",
              "    }\n",
              "</style>\n",
              "<table border=\"1\" class=\"dataframe\">\n",
              "  <thead>\n",
              "    <tr style=\"text-align: right;\">\n",
              "      <th></th>\n",
              "      <th>District</th>\n",
              "      <th>makuti_grass</th>\n",
              "      <th>sum</th>\n",
              "    </tr>\n",
              "  </thead>\n",
              "  <tbody>\n",
              "    <tr>\n",
              "      <th>0</th>\n",
              "      <td>SIAYA</td>\n",
              "      <td>48094</td>\n",
              "      <td>48094</td>\n",
              "    </tr>\n",
              "    <tr>\n",
              "      <th>1</th>\n",
              "      <td>KILIFI</td>\n",
              "      <td>41017</td>\n",
              "      <td>41017</td>\n",
              "    </tr>\n",
              "    <tr>\n",
              "      <th>2</th>\n",
              "      <td>MANDERA CENTRAL</td>\n",
              "      <td>39346</td>\n",
              "      <td>39346</td>\n",
              "    </tr>\n",
              "    <tr>\n",
              "      <th>3</th>\n",
              "      <td>TRANS MARA</td>\n",
              "      <td>33855</td>\n",
              "      <td>33855</td>\n",
              "    </tr>\n",
              "    <tr>\n",
              "      <th>4</th>\n",
              "      <td>TURKANA NORTH</td>\n",
              "      <td>31625</td>\n",
              "      <td>31625</td>\n",
              "    </tr>\n",
              "  </tbody>\n",
              "</table>\n",
              "</div>"
            ],
            "text/plain": [
              "          District  makuti_grass    sum\n",
              "0            SIAYA         48094  48094\n",
              "1           KILIFI         41017  41017\n",
              "2  MANDERA CENTRAL         39346  39346\n",
              "3       TRANS MARA         33855  33855\n",
              "4    TURKANA NORTH         31625  31625"
            ]
          },
          "metadata": {
            "tags": []
          },
          "execution_count": 13
        }
      ]
    },
    {
      "cell_type": "code",
      "metadata": {
        "id": "drAWpxBZXhcF",
        "colab": {
          "base_uri": "https://localhost:8080/",
          "height": 78
        },
        "outputId": "d6e9dfb2-f5a5-4645-9e98-81641b6af4d1"
      },
      "source": [
        "# Challenge 15 \n",
        "# What is the households distribution of iron sheets, mud/dung, tin, \n",
        "# makuti, grass, sheets, concrete, tiles for Baringa County?\n",
        "# \n",
        "baringo_housing = roofing_df[roofing_df['County'] == 'Baringo']\n",
        "baringo_housing_tot = baringo_housing[['No_Corrugated_Iron_Sheets', 'No_Tiles',\t'No_Concrete',\t'No_Asbestos_Sheets',\t'No_Grass',\t'No_Makuti',\t'No_Tin',\t'No_Mud/Dung',\t'No_Other']].agg(['sum'])\n",
        "baringo_housing_tot"
      ],
      "execution_count": 16,
      "outputs": [
        {
          "output_type": "execute_result",
          "data": {
            "text/html": [
              "<div>\n",
              "<style scoped>\n",
              "    .dataframe tbody tr th:only-of-type {\n",
              "        vertical-align: middle;\n",
              "    }\n",
              "\n",
              "    .dataframe tbody tr th {\n",
              "        vertical-align: top;\n",
              "    }\n",
              "\n",
              "    .dataframe thead th {\n",
              "        text-align: right;\n",
              "    }\n",
              "</style>\n",
              "<table border=\"1\" class=\"dataframe\">\n",
              "  <thead>\n",
              "    <tr style=\"text-align: right;\">\n",
              "      <th></th>\n",
              "      <th>No_Corrugated_Iron_Sheets</th>\n",
              "      <th>No_Tiles</th>\n",
              "      <th>No_Concrete</th>\n",
              "      <th>No_Asbestos_Sheets</th>\n",
              "      <th>No_Grass</th>\n",
              "      <th>No_Makuti</th>\n",
              "      <th>No_Tin</th>\n",
              "      <th>No_Mud/Dung</th>\n",
              "      <th>No_Other</th>\n",
              "    </tr>\n",
              "  </thead>\n",
              "  <tbody>\n",
              "    <tr>\n",
              "      <th>sum</th>\n",
              "      <td>64044</td>\n",
              "      <td>1109</td>\n",
              "      <td>127</td>\n",
              "      <td>1597</td>\n",
              "      <td>42860</td>\n",
              "      <td>223</td>\n",
              "      <td>132</td>\n",
              "      <td>68</td>\n",
              "      <td>266</td>\n",
              "    </tr>\n",
              "  </tbody>\n",
              "</table>\n",
              "</div>"
            ],
            "text/plain": [
              "     No_Corrugated_Iron_Sheets  No_Tiles  ...  No_Mud/Dung  No_Other\n",
              "sum                      64044      1109  ...           68       266\n",
              "\n",
              "[1 rows x 9 columns]"
            ]
          },
          "metadata": {
            "tags": []
          },
          "execution_count": 16
        }
      ]
    },
    {
      "cell_type": "code",
      "metadata": {
        "id": "ajEX7qrjgp1v"
      },
      "source": [
        ""
      ],
      "execution_count": null,
      "outputs": []
    }
  ]
}